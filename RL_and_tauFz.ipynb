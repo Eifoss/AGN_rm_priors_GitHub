{
 "cells": [
  {
   "cell_type": "code",
   "execution_count": 34,
   "metadata": {
    "collapsed": false,
    "deletable": true,
    "editable": true
   },
   "outputs": [],
   "source": [
    "#Version on GitHub\n",
    "import ROOT\n",
    "from ROOT import *\n",
    "from array import array\n",
    "import math\n",
    "\n",
    "# Setting what to be shown in statistics box:\n",
    "gStyle.SetOptStat(1110)   # Print for stat: Entries, Mean, and RMS\n",
    "gStyle.SetOptFit(1111)    # Print for fit:  Everything!\n",
    "\n",
    "gStyle.SetStatX(0.82);    # Top left corner.\n",
    "gStyle.SetStatY(0.86);\n",
    "\n",
    "band=\"B\" #Choose B or V."
   ]
  },
  {
   "cell_type": "code",
   "execution_count": 35,
   "metadata": {
    "collapsed": false,
    "deletable": true,
    "editable": true
   },
   "outputs": [
    {
     "name": "stdout",
     "output_type": "stream",
     "text": [
      "  Read data:  navn: Mrk142, z:  0.045, F:   0.928 +-  0.080, tau:  2.740 +  0.730 - 0.830\n",
      "  Read data:  navn: SBS1116+583A, z:  0.028, F:   0.262 +-  0.028, tau:  2.310 +  0.620 - 0.490\n",
      "  Read data:  navn: Arp151, z:  0.021, F:   0.059 +-  0.860, tau:  0.150 +  3.990 - 0.490\n",
      "  Read data:  navn: Mrk1310, z:  0.019, F:   0.495 +-  0.005, tau:  3.660 +  0.590 - 0.610\n",
      "  Read data:  navn: Mrk202, z:  0.021, F:   0.299 +-  0.027, tau:  3.050 +  1.730 - 1.120\n",
      "iWithTau [0, 1, 2, 3, 4, 5, 6, 9, 12]\n"
     ]
    }
   ],
   "source": [
    "#----------------------------------------------------------------------\n",
    "# Read data\n",
    "#----------------------------------------------------------------------\n",
    "#name    z    F    sigF    tau_cent,rest,B    dtau+    dtau-    tau_cent,rest,V    dtau+    dtau-\n",
    "\n",
    "name=[]\n",
    "z             = array(\"f\", [])\n",
    "F             = array(\"f\", [])\n",
    "dF            = array(\"f\", [])\n",
    "tau_centrestB = array(\"f\", [])\n",
    "dTaupB        = array(\"f\", [])\n",
    "dTaumB        = array(\"f\", [])\n",
    "tau_centrestV = array(\"f\", [])\n",
    "dTaupV        = array(\"f\", [])\n",
    "dTaumV        = array(\"f\", [])\n",
    "\n",
    "count=0\n",
    "with open( 'Data.txt', 'r' ) as infile :\n",
    "    for line in infile:\n",
    "        line = line.strip().split()\n",
    "        \n",
    "        name.append((line[0]))\n",
    "        \n",
    "        z.append(float(line[1]))\n",
    "        \n",
    "        F.append(float(line[2])*10**3)                #erg s^-1 cm^-2 = 10^-3 kg/s^3  -> kg/s^3\n",
    "        dF.append(float(line[3])*10**3)               #erg s^-1 cm^-2 = 10^-3 kg/s^3  -> kg/s^3\n",
    "        \n",
    "        tau_centrestB.append(float(line[4])*24*60*60) #days -> s\n",
    "        dTaupB.append(float(line[5])*24*60*60)        #days -> s\n",
    "        dTaumB.append(float(line[6])*24*60*60)        #days -> s\n",
    "        \n",
    "        tau_centrestV.append(float(line[7])*24*60*60) #days -> s\n",
    "        dTaupV.append(float(line[8])*24*60*60)        #days -> s\n",
    "        dTaumV.append(float(line[9])*24*60*60)        #days -> s\n",
    "\n",
    "        #RBLR.append(float(line[8]))\n",
    "        # Print the numbers as a sanity check\n",
    "        if count<5: print \"  Read data:  navn: %s, z: %6.3f, F:  %6.3f +- %6.3f, tau: %6.3f + %6.3f -%6.3f\"%((line[0]), float(line[1]), float(line[2]), float(line[3]),float(line[4]),float(line[5]),float(line[6]))\n",
    "        count += 1\n",
    "Nobs      = len(name)\n",
    "#print \"Nobs: \", Nobs\n",
    "c         = 299792458. #m/s\n",
    "H0        = 2.23 *10.**(-18) # s^-1      = 69 (km/s)/Mpc\n",
    "dH0       = 0.03 *10.**(-18) # s^-1      = 1 (km/s)/Mpc\n",
    "iWithTau  = [i for i,x in enumerate(tau) if x>-5] #indices with a value for tau. The code won't work if tau is negative\n",
    "print \"iWithTau\",iWithTau"
   ]
  },
  {
   "cell_type": "code",
   "execution_count": 36,
   "metadata": {
    "collapsed": false,
    "deletable": true,
    "editable": true
   },
   "outputs": [
    {
     "name": "stdout",
     "output_type": "stream",
     "text": [
      "tau: 236736.0 +- 67392.0\n"
     ]
    }
   ],
   "source": [
    "#----------------------------------------------------------------------\n",
    "# Analyse data\n",
    "#----------------------------------------------------------------------\n",
    "if band=='B':\n",
    "    tau=array('f',tau_centrestB) # or deepcopy?\n",
    "    dTaum=array('f',dTaumB) \n",
    "    dTaup=array('f',dTaupB)\n",
    "elif band=='V':\n",
    "    tau=array('f',tau_centrestV)\n",
    "    dTaum=array('f',dTaumV) \n",
    "    dTaup=array('f',dTaupV)\n",
    "else:\n",
    "    print \"Unknown band\"\n",
    "\n",
    "'''\n",
    "if tau[0]<1000: #i.e. units are not fixed already\n",
    "    #F is in erg s^-1 cm^-2 = 10^-3 kg/s^3\n",
    "    F             = array(\"f\", [x*10**3 for x in F]) # Now in kg/s^3\n",
    "    dF            = array(\"f\", [x*10**3 for x in dF]) # Now in kg/s^3\n",
    "    #tau is in days\n",
    "    tau = array(\"f\", [x*24*60*60 for x in tau]) # Now in s\n",
    "    dTaum         = array(\"f\", [x*24*60*60 for x in dTaum]) # Now in s\n",
    "    dTaup         = array(\"f\", [x*24*60*60 for x in dTaup]) # Now in s\n",
    "'''\n",
    "\n",
    "#------------------------------------------------------------------------\n",
    "### tauF vs. z ###\n",
    "    \n",
    "# tauF vs. z\n",
    "tauF          = array('f', [tau[i]/math.sqrt(F[i]) for i in iWithTau]) #F/sqrt(tau)\n",
    "\n",
    "#Slightly wrong uncertainties:\n",
    "dtaumean      = array('f', [(dTaum[i]+dTaup[i])/2. for i,x in enumerate(tau)]) #Mean of errors of each side\n",
    "dtauF         = array('f', [math.sqrt(1./F[i] * dtaumean[i]**2 + (tau[i] * F[i]**(-3./2.) /2. )**2 * dF[i]**2) for i in iWithTau] )\n",
    "dz            = array('f', [0.001]*len(z)) #That order of magnitude\n",
    "\n",
    "#print \"tauF:\", tauF, \"+-\",dtauF\n",
    "#print \"z:\", z, \"+-\",dz\n",
    "\n",
    "#Values with a defined tau\n",
    "zWithTau      = array('f',[z[x] for x in iWithTau])\n",
    "dzWithTau     = array('f',[dz[x] for x in iWithTau])\n",
    "\n",
    "#print \"zWithTau:\", zWithTau, \"+-\",dzWithTau\n",
    "print \"tau:\", tau[0], \"+-\",dtaumean[0]"
   ]
  },
  {
   "cell_type": "code",
   "execution_count": 37,
   "metadata": {
    "collapsed": false,
    "deletable": true,
    "editable": true
   },
   "outputs": [
    {
     "name": "stdout",
     "output_type": "stream",
     "text": [
      "RBLR: array('f', [70971666989056.0, 59833776603136.0, 3885310148608.0, 94801571610624.0, 79001309675520.0, 159556743200768.0, 143756481265664.0, -259020686360576.0, -259020686360576.0, 108270647771136.0, -259020686360576.0, -259020686360576.0, 171989733998592.0]) +- array('f', [20203614240768.0, 14375647707136.0, 58020633509888.0, 15541240594432.0, 36910445625344.0, 36521914662912.0, 49731971579904.0, -259020686360576.0, -259020686360576.0, 27974233489408.0, -259020686360576.0, -259020686360576.0, 22923330977792.0])\n",
      "v: array('f', [12591371.0, 8012369.0, 6125404.0, 5651733.5, 6105716.5, 3801781.25, 4290649.0, 5629117.5, 2296521.25, 5019221.0, 8482094.0, 9592852.0, 1549754.625])\n",
      "D: array('f', [5.64635467014972e+24, 3.5929905176906316e+24, 2.7468179026728677e+24, 2.5344096975020014e+24, 2.737989406251341e+24, 1.7048346845797457e+24, 1.924057808764343e+24, 2.524268023486727e+24, 1.0298301283978731e+24, 2.2507716959335148e+24, 3.8036295648126787e+24, 4.3017273953694794e+24, 6.949572319133808e+23])\n",
      "LWithTau: array('f', [3.717869469242245e+35, 4.250336398418205e+34, 5.593989213212325e+33, 3.9954777211223977e+34, 2.816725823407322e+34, 7.268210394636859e+34, 9.815864255981323e+34, 2.1581044357535166e+35, 1.7054238314967341e+34]) +- array('f', [3.335371201562262e+34, 4.827099904670493e+33, 8.1539980875308685e+34, 2.203257828269236e+33, 2.90892264577314e+33, 6.858034313076135e+33, 8.63660195558805e+33, 2.4761940201647233e+34, 3.6724515660783315e+33])\n"
     ]
    }
   ],
   "source": [
    "#-------------------------------------------------------------------------------------\n",
    "### L vs. R ###\n",
    "RBLR      = array(\"f\", [x*c for x in tau])                               #R=c*tau\n",
    "v         = array(\"f\", [-((x-1.)**2-1.)/((x+1.)**2+1.)*c for x in z])              #Cosmological redshift -> v\n",
    "D         = array('f', [x/H0 for x in v])                                          #Distance to object in m. v=H0*D\n",
    "#L         = array('f', [F[i]*4*math.pi*D[i]**2 for i,x in enumerate(F)])          #L=F*4piD^2 in W\n",
    "L         = array('f', [10**(-18)*F[i]*4*math.pi*D[i]**2 for i,x in enumerate(F)]) #L=F*4piD^2 in aW\n",
    "\n",
    "\n",
    "dRBLR     = array(\"f\", [x*c for x in dtaumean])  # dR=c*dtau\n",
    "dv        = array(\"f\", [dz[i]*2*c * (1+x)/(1.+(1.+x)**2) * (1 - (1+x)**2.-1)/((1.+x)**2+1) for i,x in enumerate(z)]) #Error propagation, tjek evt. om forsimplet giver ca. det samme \n",
    "dD        = array(\"f\", [math.sqrt(1./H0**2.*dv[i]**2.+(v[i]/H0)**2*dH0**2) for i,x in enumerate(v)])\n",
    "#dL        = array(\"f\", [4*math.pi*math.sqrt(D[i]**4*dF[i]**2+(2*F[i]*D[i])**2*dD[i]**2) for i,x in enumerate(D)]) #in W\n",
    "dL        = array(\"f\", [10**(-18)*(4*math.pi*math.sqrt(D[i]**4*dF[i]**2+(2*F[i]*D[i])**2*dD[i]**2)) for i,x in enumerate(D)]) #in aW\n",
    "\n",
    "\n",
    "#Values with a defined tau\n",
    "LWithTau  = array(\"f\", [L[x] for x in iWithTau])\n",
    "dLWithTau = array(\"f\", [dL[x] for x in iWithTau])\n",
    "\n",
    "print \"RBLR:\", RBLR, \"+-\",dRBLR\n",
    "print \"v:\", v\n",
    "print \"D:\", D\n",
    "#print \"L:\", L, \"+-\",dL\n",
    "print \"LWithTau:\", LWithTau, \"+-\",dLWithTau"
   ]
  },
  {
   "cell_type": "code",
   "execution_count": 38,
   "metadata": {
    "collapsed": false,
    "deletable": true,
    "editable": true
   },
   "outputs": [
    {
     "name": "stderr",
     "output_type": "stream",
     "text": [
      "TCanvas::Constructor:0: RuntimeWarning: Deleting canvas with same name: canvas\n",
      "TCanvas::Constructor:0: RuntimeWarning: Deleting canvas with same name: canvas2\n"
     ]
    }
   ],
   "source": [
    "#----------------------------------------------------------------------\n",
    "# Plot data\n",
    "#----------------------------------------------------------------------\n",
    "# tauFz\n",
    "Graph_tauFz = TGraphErrors(len(iWithTau), zWithTau, tauF, dzWithTau, dtauF)\n",
    "\n",
    "canvas = TCanvas(\"canvas\",\"\", 50, 50, 600, 400)\n",
    "\n",
    "\n",
    "fit = TF1(\"fit\", \"[0]+[1]*x\" , 0, 0.05)\n",
    "fit.SetParameters(4., 0.1)\n",
    "fit.SetNpx(500) #good resolution\n",
    "Graph_tauFz.Fit(\"fit\", \"R\")\n",
    "\n",
    "Graph_tauFz.GetXaxis().SetTitle(\"z\")\n",
    "Graph_tauFz.GetYaxis().SetTitle(\"tau/sqrt(F) [s^2.5*kg^-1/2]\")\n",
    "Graph_tauFz.SetTitle(\"\")\n",
    "\n",
    "Graph_tauFz.SetLineColor(kBlack)\n",
    "Graph_tauFz.SetMarkerSize(0.5)\n",
    "Graph_tauFz.SetMarkerStyle(20)\n",
    "\n",
    "\n",
    "Graph_tauFz.Draw('AP')\n",
    "fit.Draw(\"same\")\n",
    "canvas.Update()\n",
    "#---------------------------------------------------------------------------------\n",
    "# R vs. L\n",
    "Graph_RL = TGraphErrors(len(RBLR), LWithTau, RBLR, dLWithTau, dRBLR)\n",
    "\n",
    "canvas2 = TCanvas(\"canvas2\",\"\", 50, 50, 600, 400)\n",
    "\n",
    "fitRL = TF1(\"fitRL\", \"[0]+[1]*x\" , 0, 0.05)\n",
    "fitRL.SetParameters(4., 0.1)\n",
    "fitRL.SetNpx(500) #good resolution\n",
    "Graph_RL.Fit(\"fitRL\", \"R\")\n",
    "\n",
    "Graph_RL.GetXaxis().SetTitle(\"L [aW]\")\n",
    "Graph_RL.GetYaxis().SetTitle(\"R_BLR [m]\")\n",
    "Graph_RL.SetTitle(\"\")\n",
    "\n",
    "Graph_RL.SetLineColor(kBlack)\n",
    "Graph_RL.SetMarkerSize(0.5)\n",
    "Graph_RL.SetMarkerStyle(20)"
   ]
  },
  {
   "cell_type": "code",
   "execution_count": null,
   "metadata": {
    "collapsed": true,
    "deletable": true,
    "editable": true
   },
   "outputs": [],
   "source": []
  },
  {
   "cell_type": "code",
   "execution_count": null,
   "metadata": {
    "collapsed": true,
    "deletable": true,
    "editable": true
   },
   "outputs": [],
   "source": []
  },
  {
   "cell_type": "code",
   "execution_count": null,
   "metadata": {
    "collapsed": true,
    "deletable": true,
    "editable": true
   },
   "outputs": [],
   "source": []
  }
 ],
 "metadata": {
  "kernelspec": {
   "display_name": "Python 2",
   "language": "python",
   "name": "python2"
  },
  "language_info": {
   "codemirror_mode": {
    "name": "ipython",
    "version": 2
   },
   "file_extension": ".py",
   "mimetype": "text/x-python",
   "name": "python",
   "nbconvert_exporter": "python",
   "pygments_lexer": "ipython2",
   "version": "2.7.12"
  }
 },
 "nbformat": 4,
 "nbformat_minor": 2
}
