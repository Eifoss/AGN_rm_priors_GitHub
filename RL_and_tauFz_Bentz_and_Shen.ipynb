{
 "cells": [
  {
   "cell_type": "code",
   "execution_count": 29,
   "metadata": {
    "collapsed": false,
    "deletable": true,
    "editable": true
   },
   "outputs": [
    {
     "ename": "ImportError",
     "evalue": "No module named astropy",
     "output_type": "error",
     "traceback": [
      "\u001b[0;31m---------------------------------------------------------------------------\u001b[0m",
      "\u001b[0;31mImportError\u001b[0m                               Traceback (most recent call last)",
      "\u001b[0;32m<ipython-input-29-054548d83524>\u001b[0m in \u001b[0;36m<module>\u001b[0;34m()\u001b[0m\n\u001b[1;32m      7\u001b[0m \u001b[1;32mfrom\u001b[0m \u001b[0mIPython\u001b[0m\u001b[1;33m.\u001b[0m\u001b[0mdisplay\u001b[0m \u001b[1;32mimport\u001b[0m \u001b[0mdisplay\u001b[0m\u001b[1;33m\u001b[0m\u001b[0m\n\u001b[1;32m      8\u001b[0m \u001b[1;32mimport\u001b[0m \u001b[0mnumpy\u001b[0m \u001b[1;32mas\u001b[0m \u001b[0mnp\u001b[0m\u001b[1;33m\u001b[0m\u001b[0m\n\u001b[0;32m----> 9\u001b[0;31m \u001b[1;32mimport\u001b[0m \u001b[0mastropy\u001b[0m\u001b[1;33m\u001b[0m\u001b[0m\n\u001b[0m\u001b[1;32m     10\u001b[0m \u001b[1;32mimport\u001b[0m \u001b[0mastropy\u001b[0m\u001b[1;33m.\u001b[0m\u001b[0munits\u001b[0m \u001b[1;32mas\u001b[0m \u001b[0mu\u001b[0m\u001b[1;33m\u001b[0m\u001b[0m\n\u001b[1;32m     11\u001b[0m \u001b[1;32mfrom\u001b[0m \u001b[0mastropy\u001b[0m\u001b[1;33m.\u001b[0m\u001b[0mcosmology\u001b[0m \u001b[1;32mimport\u001b[0m \u001b[0mPlanck15\u001b[0m \u001b[1;32mas\u001b[0m \u001b[0mcosmo\u001b[0m\u001b[1;33m\u001b[0m\u001b[0m\n",
      "\u001b[0;32mC:\\root_v5.34.36\\bin\\ROOT.pyc\u001b[0m in \u001b[0;36m_importhook\u001b[0;34m(name, *args, **kwds)\u001b[0m\n\u001b[1;32m    350\u001b[0m       \u001b[1;32mexcept\u001b[0m \u001b[0mException\u001b[0m\u001b[1;33m:\u001b[0m\u001b[1;33m\u001b[0m\u001b[0m\n\u001b[1;32m    351\u001b[0m          \u001b[1;32mpass\u001b[0m\u001b[1;33m\u001b[0m\u001b[0m\n\u001b[0;32m--> 352\u001b[0;31m    \u001b[1;32mreturn\u001b[0m \u001b[0m_orig_ihook\u001b[0m\u001b[1;33m(\u001b[0m \u001b[0mname\u001b[0m\u001b[1;33m,\u001b[0m \u001b[1;33m*\u001b[0m\u001b[0margs\u001b[0m\u001b[1;33m,\u001b[0m \u001b[1;33m**\u001b[0m\u001b[0mkwds\u001b[0m \u001b[1;33m)\u001b[0m\u001b[1;33m\u001b[0m\u001b[0m\n\u001b[0m\u001b[1;32m    353\u001b[0m \u001b[1;33m\u001b[0m\u001b[0m\n\u001b[1;32m    354\u001b[0m \u001b[0m__builtin__\u001b[0m\u001b[1;33m.\u001b[0m\u001b[0m__import__\u001b[0m \u001b[1;33m=\u001b[0m \u001b[0m_importhook\u001b[0m\u001b[1;33m\u001b[0m\u001b[0m\n",
      "\u001b[0;31mImportError\u001b[0m: No module named astropy"
     ]
    }
   ],
   "source": [
    "#I plot data from Shen and Bentz (soon)\n",
    "import ROOT\n",
    "from ROOT import *\n",
    "from array import array\n",
    "import math\n",
    "from IPython.display import Image\n",
    "from IPython.display import display\n",
    "import numpy as np\n",
    "import astropy\n",
    "import astropy.units as u\n",
    "from astropy.cosmology import Planck15 as cosmo\n",
    "\n",
    "# Setting what to be shown in statistics box:\n",
    "gStyle.SetOptStat(1110)   # Print for stat: Entries, Mean, and RMS\n",
    "gStyle.SetOptFit(1111)    # Print for fit:  Everything!\n",
    "\n",
    "gStyle.SetStatX(0.52);    # Top left corner.\n",
    "gStyle.SetStatY(0.86);\n",
    "\n",
    "r = TRandom3()\n",
    "#---------------------------------------------------------------------------------\n",
    "### Constants ###\n",
    "        \n",
    "c         = 299792458. #m/s\n",
    "H0        = 2.23 *10.**(-18) # s^-1      = 69 (km/s)/Mpc\n",
    "dH0       = 0.03 *10.**(-18) # s^-1      = 1 (km/s)/Mpc\n",
    "L_sol     = 3.828*10**(26) # W"
   ]
  },
  {
   "cell_type": "code",
   "execution_count": null,
   "metadata": {
    "collapsed": false,
    "deletable": true,
    "editable": true
   },
   "outputs": [],
   "source": [
    "#----------------------------------------------------------------------\n",
    "# Read data\n",
    "#----------------------------------------------------------------------\n",
    "### Bentz 13 part I ###\n",
    "#name    z    D_L   dD   A_B\n",
    "\n",
    "#f_lambda(5100*(1+z))\n",
    "\n",
    "name_B=[]\n",
    "z_B             = array(\"f\", [])\n",
    "D_B             = array(\"f\", [])\n",
    "dD_B            = array(\"f\", [])\n",
    "A_B_B           = array(\"f\", [])\n",
    "\n",
    "with open( 'Bentz13zDA.txt', 'r' ) as infile :\n",
    "    for line in infile:\n",
    "        line = line.strip().split()\n",
    "        \n",
    "        name_B.append((line[0]))\n",
    "        \n",
    "        z_B.append(float(line[1]))\n",
    "        \n",
    "        D_B.append(float(line[2])*3.0857*10**22) #Mpc -> m\n",
    "        dD_B.append(float(line[3])*3.0857*10**22)\n",
    "        \n",
    "        A_B_B.append(float(line[4]))\n",
    "#---------------------------------------------------------------------------------\n",
    "### Bentz 13 part II ###\n",
    "#name/a    tau  +dtau   -dtau    F  dF    L   dL\n",
    "# a=same name\n",
    "\n",
    "#f_lambda(5100*(1+z))\n",
    "\n",
    "#10^44 ergs s^-1\n",
    "\n",
    "name_B2      = []\n",
    "tau_B2       = array(\"f\", [])\n",
    "dtaup_B2     = array(\"f\", [])\n",
    "dtaum_B2     = array(\"f\", [])\n",
    "F_B2         = array(\"f\", [])\n",
    "dF_B2        = array(\"f\", [])\n",
    "L_B2         = array(\"f\", [])\n",
    "dL_B2        = array(\"f\", [])\n",
    "\n",
    "with open( 'Bentz13tauFL.txt', 'r' ) as infile :\n",
    "    for line in infile:\n",
    "        line = line.strip().split()\n",
    "        \n",
    "        name_B2.append((line[0]))\n",
    "        \n",
    "        tau_B2.append(float(line[1])*24*60*60) #days -> s\n",
    "        dtaup_B2.append(float(line[2])*24*60*60)\n",
    "        dtaum_B2.append(float(line[3])*24*60*60)\n",
    "        \n",
    "        F_B2.append(float(line[4])*10**(-8)) #10^-15 ergs s^-1 cm^-2 AA^-1 = 10^-15 *10^7 kg s^-3 m^-1\n",
    "        dF_B2.append(float(line[5])*10**(-8))\n",
    "        \n",
    "        #Should be wrong - this is from the article\n",
    "        #L_B2.append(float(line[6])*10**(37)/L_sol) #10^44 ergs s^-1 ->  10^44 * 10^-7 kg m^2 s^-3       \n",
    "        #dL_B2.append(float(line[7])*10**(37)/L_sol)\n",
    "        \n",
    "        #Right way:\n",
    "        #L_B2.append((10**(float(line[6])))*10**(-7)/L_sol) #log(erg s^-1)=log(10^-7 kg m^2 s^-3): log(x)=y -> x=exp(y)\n",
    "        #dL_B2.append((10**(float(line[7])))*10**(-7)/L_sol)\n",
    "        \n",
    "        #log:\n",
    "        L_B2.append(float(line[6])) #log(erg s^-1)=log(10^-7 kg m^2 s^-3): log(x)=y -> x=exp(y)\n",
    "        dL_B2.append(float(line[7]))\n",
    "#---------------------------------------------------------------------------------\n",
    "### Shen ###\n",
    "#name    z    tau    dtau+    dtau-   F    dF    L    dL\n",
    "# a=same name\n",
    "\n",
    "#f_lambda(5100*(1+z))\n",
    "\n",
    "\n",
    "name_S    = []\n",
    "z_S       = array(\"f\", [])\n",
    "tau_S     = array(\"f\", [])\n",
    "dtaup_S   = array(\"f\", [])\n",
    "dtaum_S   = array(\"f\", [])\n",
    "F_S       = array(\"f\", [])\n",
    "dF_S      = array(\"f\", [])\n",
    "L_S       = array(\"f\", [])\n",
    "dL_S      = array(\"f\", [])\n",
    "\n",
    "with open( 'ShenSDSSztauFL.txt', 'r' ) as infile :\n",
    "    for line in infile:\n",
    "        line = line.strip().split()\n",
    "        \n",
    "        name_S.append((line[0]))\n",
    "        \n",
    "        z_S.append(float(line[1]))\n",
    "        \n",
    "        tau_S.append(float(line[2])*24*60*60)  #days -> s\n",
    "        dtaup_S.append(float(line[3])*24*60*60) \n",
    "        dtaum_S.append(float(line[4])*24*60*60) \n",
    "        \n",
    "        F_S.append(float(line[5])*10**(-10)) #10^-17 erg s^-1 cm^-2 AA^-1 =10^-17 *10^7 kg s^-3 m^-1 -> kg s^-3 m^-1\n",
    "        dF_S.append(float(line[6])*10**(-10))\n",
    "        \n",
    "        #print float(line[7])\n",
    "        \n",
    "        #L_S.append(math.exp(float(line[7]))*10**(-7)/L_sol) #log(erg s^-1)=log(10^-7 kg m^2 s^-3): log(x)=y -> x=10^y\n",
    "        #dL_S.append(math.exp(float(line[8]))*10**(-7)/L_sol)\n",
    "        \n",
    "        #Right way:\n",
    "        #L_S.append((10**(float(line[7])))*10**(-7)/L_sol) #log(erg s^-1)=log(10^-7 kg m^2 s^-3): log(x)=y -> x=exp(y)\n",
    "        #dL_S.append((10**(float(line[8])))*10**(-7)/L_sol)\n",
    "        \n",
    "        #log:\n",
    "        L_S.append(float(line[7])) #log(erg s^-1)=log(10^-7 kg m^2 s^-3): log(x)=y -> x=exp(y)\n",
    "        dL_S.append(float(line[8]))\n",
    "\n",
    "        #Should be wrong:\n",
    "        #L_S.append(float(line[7])*10**(37)/L_sol) #10^44 ergs s^-1 ->  10^44 * 10^-7 kg m^2 s^-3       \n",
    "        #dL_S.append(float(line[8])*10**(37)/L_sol)"
   ]
  },
  {
   "cell_type": "code",
   "execution_count": 30,
   "metadata": {
    "collapsed": false,
    "deletable": true,
    "editable": true
   },
   "outputs": [
    {
     "name": "stdout",
     "output_type": "stream",
     "text": [
      "array('f', [0.025790000334382057, 0.025790000334382057, 0.025790000334382057, 0.1420000046491623, 0.1550000011920929, 0.04701999947428703, 0.02638999931514263, 0.02638999931514263, 0.02638999931514263, 0.02638999931514263, 0.03300999850034714, 0.03300999850034714, 0.032710000872612, 0.032710000872612, 0.022190000861883163, 0.022190000861883163, 0.022190000861883163, 0.10000000149011612, 0.03528999909758568, 0.03528999909758568, 0.03528999909758568, 0.23409999907016754, 0.003860000055283308, 0.04493999853730202, 0.008840000256896019, 0.027869999408721924, 0.021090000867843628, 0.009730000048875809, 0.01955999992787838, 0.0023399998899549246, 0.0033199999015778303, 0.02102000080049038, 0.012930000200867653, 0.15834000706672668, 0.06300999969244003, 0.008999999612569809, 0.014630000106990337, 0.1550000011920929, 0.03044999949634075, 0.08959999680519104, 0.017179999500513077, 0.017179999500513077, 0.017179999500513077, 0.017179999500513077, 0.017179999500513077, 0.017179999500513077, 0.017179999500513077, 0.017179999500513077, 0.017179999500513077, 0.017179999500513077, 0.017179999500513077, 0.017179999500513077, 0.017179999500513077, 0.017179999500513077, 0.017179999500513077, 0.017179999500513077, 0.08647000044584274, 0.0314599983394146, 0.0314599983394146, 0.0314599983394146, 0.0314599983394146, 0.029580000787973404, 0.1289999932050705, 0.11243999749422073, 0.2919999957084656, 0.05609999969601631, 0.05609999969601631, 0.005210000090301037, 0.03440000116825104, 0.06298000365495682, 0.0163199994713068])\n"
     ]
    },
    {
     "data": {
      "text/plain": [
       "'\\n\\nNobsPerName=[name_B2.count(x) for x in name_B] #noget galt\\nprint NobsPerName\\n\\nz_B2=[]\\nfor i in range(len(name_B)): \\n    for j in range(NobsPerName[i]):\\n        z_B2.append(z_B[i])\\nprint z_B2 \\n'"
      ]
     },
     "execution_count": 30,
     "metadata": {},
     "output_type": "execute_result"
    }
   ],
   "source": [
    "#--------------------------------------------------------------------------------\n",
    "# Combining data\n",
    "#--------------------------------------------------------------------------------\n",
    "# PG1226+023 = PG1226+032 ???\n",
    "# I renamed it 23\n",
    "\n",
    "#z for each tau\n",
    "z_B2 = array('f',[])\n",
    "for i,x in enumerate(name_B2):\n",
    "    i_name=name_B.index(x) #find index of name_B2 in name_B\n",
    "    z_B2.append(z_B[i_name]) #use z for that index\n",
    "    \n",
    "print z_B2\n",
    "\n",
    "#Shen + Bentz 2013\n",
    "z  = z_S + z_B2 #Still an array\n",
    "\n",
    "F  = F_S + F_B2\n",
    "dF = dF_S + dF_B2\n",
    "\n",
    "L  = L_S + L_B2\n",
    "dL = dL_S + dL_B2\n",
    "\n",
    "tau = tau_S + tau_B2\n",
    "dtaum = dtaum_S + dtaum_B2\n",
    "dtaup = dtaup_S + dtaup_B2\n",
    "\n",
    "\"\"\"\n",
    "\n",
    "NobsPerName=[name_B2.count(x) for x in name_B] #noget galt\n",
    "print NobsPerName\n",
    "\n",
    "z_B2=[]\n",
    "for i in range(len(name_B)): \n",
    "    for j in range(NobsPerName[i]):\n",
    "        z_B2.append(z_B[i])\n",
    "print z_B2 \n",
    "\"\"\""
   ]
  },
  {
   "cell_type": "code",
   "execution_count": 31,
   "metadata": {
    "collapsed": false,
    "deletable": true,
    "editable": true
   },
   "outputs": [
    {
     "name": "stderr",
     "output_type": "stream",
     "text": [
      "TROOT::Append:0: RuntimeWarning: Replacing existing TH1: Hist_SimTauF (Potential memory leak).\n"
     ]
    },
    {
     "name": "stdout",
     "output_type": "stream",
     "text": [
      "1000\n",
      "tauF[0]:  1.58583652352e+11 +- 32840359936.0 + 49128927232.0 - 20093863936.0\n",
      "Number of negative simulated F:  66\n"
     ]
    }
   ],
   "source": [
    "#----------------------------------------------------------------------\n",
    "# Analyse data\n",
    "#----------------------------------------------------------------------\n",
    "### tauF vs. z ###\n",
    "    \n",
    "# tauF vs. z\n",
    "tauF          = array('f', [tau[i]/math.sqrt(F[i]) for i,x in enumerate(F)]) #F/sqrt(tau)\n",
    "\n",
    "#Slightly wrong uncertainties:\n",
    "dtaumean      = array('f', [(dtaum[i]+dtaup[i])/2. for i,x in enumerate(tau)]) #Mean of errors of each side\n",
    "dtauF         = array('f', [math.sqrt(1./F[i] * dtaumean[i]**2 + (tau[i] * F[i]**(-3./2.) /2. )**2 * dF[i]**2) for i,x in enumerate(tau)] )\n",
    "dz            = array('f', [0.001]*len(z)) #That order of magnitude\n",
    "\n",
    "# ------- Monte Carlo --------- # \n",
    "# Assume gauss on each side\n",
    "# I generate 2 gaussians and accept values on one side\n",
    "# Combine\n",
    "\n",
    "Npoints   = 1000\n",
    "NegativeF = 0\n",
    "dtauFm    = array('f',[])\n",
    "dtauFp    = array('f',[])\n",
    "Hist_SimTauF = TH1F(\"Hist_SimTauF\", \";Simulated tau/sqrt(F) for i==15 ;Frequency\", 500, -10, 10.)\n",
    "\n",
    "for i in range(len(tau)) : #For all data\n",
    "    simTauF = []\n",
    "    Nhit    = 0\n",
    "    while Nhit<0.5*Npoints: #Simulate many values of TauF (two each time)\n",
    "        tauHigh = r.Gaus(tau[i],dtaup[i])\n",
    "        tauLow  = r.Gaus(tau[i],dtaum[i])\n",
    "        \n",
    "        if tauHigh>tau[i] and tauLow<tau[i] : # Equal numbers of high and low - too much restriction?\n",
    "            simF  = r.Gaus(F[i],dF[i]) #Or something with a possionian distribution?\n",
    "            \n",
    "            if simF>0: #math error if F<0\n",
    "                simTauF.append(tauHigh/math.sqrt(simF))\n",
    "            else:\n",
    "                simTauF.append(tauHigh/0.00000000000001) #How do I avoid doing this?\n",
    "                NegativeF += 1\n",
    "            if i==15: Hist_SimTauF.Fill(simTauF[-1]) #Only one dataset and add latest value\n",
    "            \n",
    "            simF  = r.Gaus(F[i],dF[i]) #New F for the low tau. Necessary?\n",
    "            if simF>0: \n",
    "                simTauF.append(tauLow/math.sqrt(simF))\n",
    "            else:\n",
    "                simTauF.append(tauLow/0.00000000000001) #How do I avoid doing this?\n",
    "                NegativeF += 1\n",
    "            if i==15: Hist_SimTauF.Fill(simTauF[-1])\n",
    "            \n",
    "            Nhit += 1\n",
    "            \n",
    "    # Find assymmetric uncertainties on tauF\n",
    "    NotIn1sig       = (1 - 0.682689492137086)/2. # 1 sig from middle seen from lowest or highest = % not included in +- 1 sig from each side\n",
    "    simTauF.sort()\n",
    "    tauFLow  = simTauF[int(Npoints*NotIn1sig)]\n",
    "    tauFHigh = simTauF[-int(Npoints*NotIn1sig)]\n",
    "    \n",
    "    # how different from actual tauF\n",
    "    dtauFm.append(tauF[i]-tauFLow)\n",
    "    dtauFp.append(tauFHigh-tauF[i])\n",
    "    \n",
    "    if i==15: \n",
    "        print len(simTauF)\n",
    "    \n",
    "print \"tauF[0]: \",tauF[0],\"+-\",dtauF[0], \"+\",dtauFp[0],\"-\",dtauFm[0]    \n",
    "print \"Number of negative simulated F: \", NegativeF            \n",
    "\n",
    "\n",
    "#print \"tauF:\", tauF, \"+-\",dtauF\n",
    "#print \"z:\", z, \"+-\",dz\n",
    "#print \"tau[0]: \",tau[0],\"+-\",dtaumean[0]"
   ]
  },
  {
   "cell_type": "code",
   "execution_count": 32,
   "metadata": {
    "collapsed": false,
    "deletable": true,
    "editable": true,
    "scrolled": true
   },
   "outputs": [
    {
     "name": "stdout",
     "output_type": "stream",
     "text": [
      "RBLR: 9.5060591693e+14 + 2.69381506433e+14 + 1.24329924755e+14\n",
      "L: 44.3650016785 +- 0.0010000000475\n"
     ]
    }
   ],
   "source": [
    "#-------------------------------------------------------------------------------------\n",
    "### L vs. R ###\n",
    "RBLR      = array(\"f\", [x*c for x in tau])       #R=c*tau\n",
    "\n",
    "dRBLRp    = array(\"f\", [x*c for x in dtaup])  # dR=c*dtau\n",
    "dRBLRm    = array(\"f\", [x*c for x in dtaum])  # dR=c*dtau\n",
    "#dRBLR     = array(\"f\", [x*c for x in dtaumean])  # dR=c*dtau\n",
    "\n",
    "print \"RBLR:\", RBLR[0], \"+\",dRBLRp[0], \"+\",dRBLRm[0]\n",
    "print \"L:\", L[0], \"+-\",dL[0]\n"
   ]
  },
  {
   "cell_type": "code",
   "execution_count": 33,
   "metadata": {
    "collapsed": false,
    "deletable": true,
    "editable": true
   },
   "outputs": [
    {
     "name": "stderr",
     "output_type": "stream",
     "text": [
      "TCanvas::Constructor:0: RuntimeWarning: Deleting canvas with same name: canvasMC\n"
     ]
    },
    {
     "name": "stdout",
     "output_type": "stream",
     "text": [
      "laengder: 86 86 86 86\n"
     ]
    },
    {
     "name": "stderr",
     "output_type": "stream",
     "text": [
      "TCanvas::Constructor:0: RuntimeWarning: Deleting canvas with same name: canvas\n",
      "TCanvas::Constructor:0: RuntimeWarning: Deleting canvas with same name: canvas2\n"
     ]
    }
   ],
   "source": [
    "#----------------------------------------------------------------------\n",
    "# Plot data\n",
    "#----------------------------------------------------------------------\n",
    "### Monte Carlo Simulation ###\n",
    "\n",
    "canvasMC = TCanvas(\"canvasMC\",\"\", 50, 50, 600, 400)\n",
    "\n",
    "Hist_SimTauF.Draw('AP')\n",
    "canvasMC.Update()\n",
    "canvasMC.Draw()\n",
    "\n",
    "#canvasMC.SaveAs(\"Mont.png\")\n",
    "\n",
    "#---------------------------------------------------------------------------------\n",
    "\n",
    "### tauFz ###\n",
    "print \"laengder:\",len(tau), len(z), len(dz), len(dtauF)\n",
    "#Graph_tauFz = TGraphErrors(len(tau), z, tauF, dz, dtauF)\n",
    "Graph_tauFz = TGraphAsymmErrors(len(tau),z,tauF,dz,dz,dtauFm,dtauFp)\n",
    "\n",
    "canvas = TCanvas(\"canvas\",\"All data\", 50, 50, 600, 400)\n",
    "\n",
    "\n",
    "fit = TF1(\"fit\", \"[0]+[1]*x\" , 0, 0.8)\n",
    "fit.SetParameters(10.**9,10.**11)#10000., 0.1)\n",
    "fit.SetNpx(500) #good resolution\n",
    "Graph_tauFz.Fit(\"fit\", \"R\")\n",
    "\n",
    "Graph_tauFz.GetXaxis().SetTitle(\"z\")\n",
    "Graph_tauFz.GetYaxis().SetTitle(\"tau/sqrt(F) [s^2.5*kg^-1/2]\")\n",
    "Graph_tauFz.SetTitle(\"\")\n",
    "\n",
    "Graph_tauFz.GetYaxis().SetTitleOffset(1.25)\n",
    "Graph_tauFz.SetLineColor(kBlack)\n",
    "Graph_tauFz.SetMarkerSize(0.5)\n",
    "Graph_tauFz.SetMarkerStyle(20)\n",
    "\n",
    "\n",
    "Graph_tauFz.Draw('AP')\n",
    "fit.Draw(\"same\")\n",
    "#canvas.Update()\n",
    "canvas.Draw()\n",
    "canvas.SaveAs(\"tauFz.png\")\n",
    "\n",
    "#---------------------------------------------------------------------------------\n",
    "### R vs. L ###\n",
    "\n",
    "logRBLR   = array('f',[math.log10(x) for x in RBLR])\n",
    "dlogRBLRp = array('f',[math.log10(1+dx/RBLR[i]) for i,dx in enumerate(dRBLRp)])\n",
    "dlogRBLRm = array('f',[math.log10(1+dx/RBLR[i]) for i,dx in enumerate(dRBLRm)])\n",
    "logL      = array('f',[math.log10(x) for x in L])\n",
    "#logdL    = array('f',[math.log10(x) for x in dL]) #Wrong\n",
    "\n",
    "#Graph_RL = TGraphErrors(len(L), L, RBLR, dL, dRBLR)\n",
    "#Graph_RL = TGraphErrors(len(L), logL, logRBLR, logdL, dlogRBLR)\n",
    "Graph_RL = TGraphAsymmErrors(len(L), L, logRBLR, dL, dL, dlogRBLRm,dlogRBLRm)\n",
    "\n",
    "\n",
    "canvas2 = TCanvas(\"canvas2\",\"\", 50, 50, 600, 400)\n",
    "\n",
    "#fitRL = TF1(\"fitRL\", \"[0]+[1]*exp(x)\" , -10., 10.**(13))\n",
    "fitRL = TF1(\"fitRL\", \"[0]+[1]*x\" , -10., 10.**(13))\n",
    "#fitRL = TF1(\"fitRL\", \"[0]+10.**13*x\" , 0., 1.2*10**27)\n",
    "#fitRL.SetParameter(0,10)\n",
    "fitRL.SetParameters(-15, 10.**(-11))#10.**(12), 10.**(-13))\n",
    "fitRL.SetNpx(500) #good resolution\n",
    "Graph_RL.Fit(\"fitRL\", \"R\")\n",
    "\n",
    "Graph_RL.GetXaxis().SetTitle(\"log(L) [W]\") #/L_sol\")\n",
    "Graph_RL.GetYaxis().SetTitle(\"log(R_BLR) [m]\")\n",
    "Graph_RL.SetTitle(\"\")\n",
    "\n",
    "Graph_RL.SetLineColor(kBlack)\n",
    "Graph_RL.SetMarkerSize(0.5)\n",
    "Graph_RL.SetMarkerStyle(20)\n",
    "\n",
    "fitRL.Draw(\"same\")\n",
    "Graph_RL.Draw('AP')\n",
    "canvas2.Update()\n",
    "canvas2.SaveAs(\"RL.png\")\n"
   ]
  },
  {
   "cell_type": "code",
   "execution_count": 34,
   "metadata": {
    "collapsed": false,
    "deletable": true,
    "editable": true
   },
   "outputs": [
    {
     "data": {
      "image/png": "[encoded data removed]",
      "text/plain": [
       "<IPython.core.display.Image object>"
      ]
     },
     "metadata": {},
     "output_type": "display_data"
    },
    {
     "data": {
      "image/png": "[encoded data removed]",
      "text/plain": [
       "<IPython.core.display.Image object>"
      ]
     },
     "metadata": {},
     "output_type": "display_data"
    }
   ],
   "source": [
    "#Show plots\n",
    "\n",
    "x = Image(\"tauFz.png\") \n",
    "y = Image(\"RL.png\") \n",
    "display(x,y)"
   ]
  },
  {
   "cell_type": "code",
   "execution_count": null,
   "metadata": {
    "collapsed": true,
    "deletable": true,
    "editable": true
   },
   "outputs": [],
   "source": [
    "\n"
   ]
  },
  {
   "cell_type": "code",
   "execution_count": null,
   "metadata": {
    "collapsed": true,
    "deletable": true,
    "editable": true
   },
   "outputs": [],
   "source": []
  }
 ],
 "metadata": {
  "kernelspec": {
   "display_name": "Python 2",
   "language": "python",
   "name": "python2"
  },
  "language_info": {
   "codemirror_mode": {
    "name": "ipython",
    "version": 2
   },
   "file_extension": ".py",
   "mimetype": "text/x-python",
   "name": "python",
   "nbconvert_exporter": "python",
   "pygments_lexer": "ipython2",
   "version": "2.7.12"
  }
 },
 "nbformat": 4,
 "nbformat_minor": 2
}
