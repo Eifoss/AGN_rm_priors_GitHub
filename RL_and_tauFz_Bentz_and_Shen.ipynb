{
 "cells": [
  {
   "cell_type": "code",
   "execution_count": 108,
   "metadata": {
    "collapsed": false,
    "deletable": true,
    "editable": true
   },
   "outputs": [],
   "source": [
    "#I plot data from Shen and Bentz (soon)\n",
    "import ROOT\n",
    "from ROOT import *\n",
    "from array import array\n",
    "import math\n",
    "from IPython.display import Image\n",
    "from IPython.display import display\n",
    "\n",
    "# Setting what to be shown in statistics box:\n",
    "gStyle.SetOptStat(1110)   # Print for stat: Entries, Mean, and RMS\n",
    "gStyle.SetOptFit(1111)    # Print for fit:  Everything!\n",
    "\n",
    "gStyle.SetStatX(0.52);    # Top left corner.\n",
    "gStyle.SetStatY(0.86);\n",
    "\n",
    "#---------------------------------------------------------------------------------\n",
    "### Constants ###\n",
    "        \n",
    "c         = 299792458. #m/s\n",
    "H0        = 2.23 *10.**(-18) # s^-1      = 69 (km/s)/Mpc\n",
    "dH0       = 0.03 *10.**(-18) # s^-1      = 1 (km/s)/Mpc\n",
    "L_sol     = 3.828*10**(26) # W"
   ]
  },
  {
   "cell_type": "code",
   "execution_count": 109,
   "metadata": {
    "collapsed": false,
    "deletable": true,
    "editable": true
   },
   "outputs": [],
   "source": [
    "#----------------------------------------------------------------------\n",
    "# Read data\n",
    "#----------------------------------------------------------------------\n",
    "### Bentz 13 part I ###\n",
    "#name    z    D_L   dD   A_B\n",
    "\n",
    "#f_lambda(5100*(1+z))\n",
    "\n",
    "name_B=[]\n",
    "z_B             = array(\"f\", [])\n",
    "D_B             = array(\"f\", [])\n",
    "dD_B            = array(\"f\", [])\n",
    "A_B_B           = array(\"f\", [])\n",
    "\n",
    "with open( 'Bentz13zDA.txt', 'r' ) as infile :\n",
    "    for line in infile:\n",
    "        line = line.strip().split()\n",
    "        \n",
    "        name_B.append((line[0]))\n",
    "        \n",
    "        z_B.append(float(line[1]))\n",
    "        \n",
    "        D_B.append(float(line[2])*3.0857*10**22) #Mpc -> m\n",
    "        dD_B.append(float(line[3])*3.0857*10**22)\n",
    "        \n",
    "        A_B_B.append(float(line[4]))\n",
    "#---------------------------------------------------------------------------------\n",
    "### Bentz 13 part II ###\n",
    "#name/a    tau  +dtau   -dtau    F  dF    L   dL\n",
    "# a=same name\n",
    "\n",
    "#f_lambda(5100*(1+z))\n",
    "\n",
    "#10^44 ergs s^-1\n",
    "\n",
    "name_B2      = []\n",
    "tau_B2       = array(\"f\", [])\n",
    "dtaup_B2     = array(\"f\", [])\n",
    "dtaum_B2     = array(\"f\", [])\n",
    "F_B2         = array(\"f\", [])\n",
    "dF_B2        = array(\"f\", [])\n",
    "L_B2         = array(\"f\", [])\n",
    "dL_B2        = array(\"f\", [])\n",
    "\n",
    "with open( 'Bentz13tauFL.txt', 'r' ) as infile :\n",
    "    for line in infile:\n",
    "        line = line.strip().split()\n",
    "        \n",
    "        name_B2.append((line[0]))\n",
    "        \n",
    "        tau_B2.append(float(line[1])*24*60*60) #days -> s\n",
    "        dtaup_B2.append(float(line[2])*24*60*60)\n",
    "        dtaum_B2.append(float(line[3])*24*60*60)\n",
    "        \n",
    "        F_B2.append(float(line[4])*10**(-8)) #10^-15 ergs s^-1 cm^-2 AA^-1 = 10^-15 *10^7 kg s^-3 m^-1\n",
    "        dF_B2.append(float(line[5])*10**(-8))\n",
    "        \n",
    "        L_B2.append(float(line[6])*10**(37)/L_sol) #10^44 ergs s^-1 ->  10^44 * 10^-7 kg m^2 s^-3       \n",
    "        dL_B2.append(float(line[7])*10**(37)/L_sol)\n",
    "        \n",
    "        #Should be wrong\n",
    "        #L_B2.append((10**(float(line[6])))*10**(-7)/L_sol) #log(erg s^-1)=log(10^-7 kg m^2 s^-3): log(x)=y -> x=exp(y)\n",
    "        #dL_B2.append((10**(float(line[7])))*10**(-7)/L_sol)\n",
    "#---------------------------------------------------------------------------------\n",
    "### Shen ###\n",
    "#name    z    tau    dtau+    dtau-   F    dF    L    dL\n",
    "# a=same name\n",
    "\n",
    "#f_lambda(5100*(1+z))\n",
    "\n",
    "\n",
    "name_S    = []\n",
    "z_S       = array(\"f\", [])\n",
    "tau_S     = array(\"f\", [])\n",
    "dtaup_S   = array(\"f\", [])\n",
    "dtaum_S   = array(\"f\", [])\n",
    "F_S       = array(\"f\", [])\n",
    "dF_S      = array(\"f\", [])\n",
    "L_S       = array(\"f\", [])\n",
    "dL_S      = array(\"f\", [])\n",
    "\n",
    "with open( 'ShenSDSSztauFL.txt', 'r' ) as infile :\n",
    "    for line in infile:\n",
    "        line = line.strip().split()\n",
    "        \n",
    "        name_S.append((line[0]))\n",
    "        \n",
    "        z_S.append(float(line[1]))\n",
    "        \n",
    "        tau_S.append(float(line[2])*24*60*60)  #days -> s\n",
    "        dtaup_S.append(float(line[3])*24*60*60) \n",
    "        dtaum_S.append(float(line[4])*24*60*60) \n",
    "        \n",
    "        F_S.append(float(line[5])*10**(-10)) #10^-17 erg s^-1 cm^-2 AA^-1 =10^-17 *10^7 kg s^-3 m^-1 -> kg s^-3 m^-1\n",
    "        dF_S.append(float(line[6])*10**(-10))\n",
    "        \n",
    "        #print float(line[7])\n",
    "        \n",
    "        #L_S.append(math.exp(float(line[7]))*10**(-7)/L_sol) #log(erg s^-1)=log(10^-7 kg m^2 s^-3): log(x)=y -> x=10^y\n",
    "        #dL_S.append(math.exp(float(line[8]))*10**(-7)/L_sol)\n",
    "        \n",
    "        #L_S.append((10**(float(line[7])))*10**(-7)/L_sol) #log(erg s^-1)=log(10^-7 kg m^2 s^-3): log(x)=y -> x=exp(y)\n",
    "        #dL_S.append((10**(float(line[8])))*10**(-7)/L_sol)\n",
    "        \n",
    "        #Should be wrong:\n",
    "        L_S.append(float(line[7])*10**(37)/L_sol) #10^44 ergs s^-1 ->  10^44 * 10^-7 kg m^2 s^-3       \n",
    "        dL_S.append(float(line[8])*10**(37)/L_sol)"
   ]
  },
  {
   "cell_type": "code",
   "execution_count": 110,
   "metadata": {
    "collapsed": false,
    "deletable": true,
    "editable": true
   },
   "outputs": [
    {
     "name": "stdout",
     "output_type": "stream",
     "text": [
      "array('f', [0.025790000334382057, 0.025790000334382057, 0.025790000334382057, 0.1420000046491623, 0.1550000011920929, 0.04701999947428703, 0.02638999931514263, 0.02638999931514263, 0.02638999931514263, 0.02638999931514263, 0.03300999850034714, 0.03300999850034714, 0.032710000872612, 0.032710000872612, 0.022190000861883163, 0.022190000861883163, 0.022190000861883163, 0.10000000149011612, 0.03528999909758568, 0.03528999909758568, 0.03528999909758568, 0.23409999907016754, 0.003860000055283308, 0.04493999853730202, 0.008840000256896019, 0.027869999408721924, 0.021090000867843628, 0.009730000048875809, 0.01955999992787838, 0.0023399998899549246, 0.0033199999015778303, 0.02102000080049038, 0.012930000200867653, 0.15834000706672668, 0.06300999969244003, 0.008999999612569809, 0.014630000106990337, 0.1550000011920929, 0.03044999949634075, 0.08959999680519104, 0.017179999500513077, 0.017179999500513077, 0.017179999500513077, 0.017179999500513077, 0.017179999500513077, 0.017179999500513077, 0.017179999500513077, 0.017179999500513077, 0.017179999500513077, 0.017179999500513077, 0.017179999500513077, 0.017179999500513077, 0.017179999500513077, 0.017179999500513077, 0.017179999500513077, 0.017179999500513077, 0.08647000044584274, 0.0314599983394146, 0.0314599983394146, 0.0314599983394146, 0.0314599983394146, 0.029580000787973404, 0.1289999932050705, 0.11243999749422073, 0.2919999957084656, 0.05609999969601631, 0.05609999969601631, 0.005210000090301037, 0.03440000116825104, 0.06298000365495682, 0.0163199994713068])\n"
     ]
    },
    {
     "data": {
      "text/plain": [
       "'\\n\\nNobsPerName=[name_B2.count(x) for x in name_B] #noget galt\\nprint NobsPerName\\n\\nz_B2=[]\\nfor i in range(len(name_B)): \\n    for j in range(NobsPerName[i]):\\n        z_B2.append(z_B[i])\\nprint z_B2 \\n'"
      ]
     },
     "execution_count": 110,
     "metadata": {},
     "output_type": "execute_result"
    }
   ],
   "source": [
    "#--------------------------------------------------------------------------------\n",
    "# Combining data\n",
    "#--------------------------------------------------------------------------------\n",
    "# PG1226+023 = PG1226+032 ???\n",
    "# I renamed it 23\n",
    "\n",
    "#z for each tau\n",
    "z_B2 = array('f',[])\n",
    "for i,x in enumerate(name_B2):\n",
    "    i_name=name_B.index(x) #find index of name_B2 in name_B\n",
    "    z_B2.append(z_B[i_name]) #use z for that index\n",
    "    \n",
    "print z_B2\n",
    "\n",
    "#Shen + Bentz 2013\n",
    "z  = z_S + z_B2 #Still an array\n",
    "\n",
    "F  = F_S + F_B2\n",
    "dF = dF_S + dF_B2\n",
    "\n",
    "L  = L_S + L_B2\n",
    "dL = dL_S + dL_B2\n",
    "\n",
    "tau = tau_S + tau_B2\n",
    "dtaum = dtaum_S + dtaum_B2\n",
    "dtaup = dtaup_S + dtaup_B2\n",
    "\n",
    "\"\"\"\n",
    "\n",
    "NobsPerName=[name_B2.count(x) for x in name_B] #noget galt\n",
    "print NobsPerName\n",
    "\n",
    "z_B2=[]\n",
    "for i in range(len(name_B)): \n",
    "    for j in range(NobsPerName[i]):\n",
    "        z_B2.append(z_B[i])\n",
    "print z_B2 \n",
    "\"\"\""
   ]
  },
  {
   "cell_type": "code",
   "execution_count": 111,
   "metadata": {
    "collapsed": false,
    "deletable": true,
    "editable": true
   },
   "outputs": [],
   "source": [
    "#----------------------------------------------------------------------\n",
    "# Analyse data\n",
    "#----------------------------------------------------------------------\n",
    "### tauF vs. z ###\n",
    "    \n",
    "# tauF vs. z\n",
    "tauF          = array('f', [tau[i]/math.sqrt(F[i]) for i,x in enumerate(F)]) #F/sqrt(tau)\n",
    "\n",
    "#Slightly wrong uncertainties:\n",
    "dtaumean      = array('f', [(dtaum[i]+dtaup[i])/2. for i,x in enumerate(tau)]) #Mean of errors of each side\n",
    "dtauF         = array('f', [math.sqrt(1./F[i] * dtaumean[i]**2 + (tau[i] * F[i]**(-3./2.) /2. )**2 * dF[i]**2) for i,x in enumerate(tau)] )\n",
    "dz            = array('f', [0.001]*len(z)) #That order of magnitude\n",
    "\n",
    "#print \"tauF:\", tauF, \"+-\",dtauF\n",
    "#print \"z:\", z, \"+-\",dz\n",
    "\n",
    "#print \"tau:\", tau[0], \"+-\",dtaumean[0]"
   ]
  },
  {
   "cell_type": "code",
   "execution_count": 112,
   "metadata": {
    "collapsed": false,
    "deletable": true,
    "editable": true,
    "scrolled": true
   },
   "outputs": [
    {
     "name": "stdout",
     "output_type": "stream",
     "text": [
      "RBLR: array('f', [950605916930048.0, 603518201233408.0, 836636812247040.0, 481778460524544.0, 567255322591232.0, 766701255786496.0, 753750184558592.0, 880670293360640.0, 367809355841536.0, 365219155017728.0, 650141883170816.0, 556894485741568.0, 497319699021824.0, 445515581882368.0, 282332560883712.0, 435154745032704.0, 323775841173504.0, 370399590219776.0, 2875129491095552.0, 2326005842706432.0, 450695983529984.0, 536172812042240.0, 362628954193920.0, 756340385382400.0, 745979582087168.0, 986868795572224.0, 670863556870144.0, 1219987473694720.0, 960966720225280.0, 233118611013632.0, 417023305711616.0, 414433104887808.0, 3805013801435136.0, 629420276580352.0, 528402209570816.0, 862538887593984.0, 3887900496232448.0, 97132757385216.0, 70971666989056.0, 302536154152960.0, 59833776603136.0, 103349252784128.0, 264201104785408.0, 94801571610624.0, 48436866973696.0, 170435610148864.0, 79001309675520.0, 159556743200768.0, 7946754649489408.0, 979098193100800.0, 96614718898176.0, 143756481265664.0, 2735258512392192.0, 432564544208896.0, 3219627207294976.0, 510270736695296.0, 481778460524544.0, 411842870509568.0, 284922761707520.0, 336726878846976.0, 347087715696640.0, 562074887389184.0, 424793908183040.0, 453286184353792.0, 686404828921856.0, 642371280699392.0, 168363439423488.0, 370399590219776.0, 163183037775872.0, 108270647771136.0, 321185640349696.0, 2460696553979904.0, 492139297374208.0, 396301632012288.0, 870309490065408.0, 363665047945216.0, 225866038640640.0, 1038672946266112.0, 1851997951098880.0, 6522140840951808.0, 611288803704832.0, 1201856000819200.0, 171989733998592.0, 2061804687589376.0, 248659849510912.0, 629420276580352.0]) +- array('f', [196855715594240.0, 180019376685056.0, 235708828614656.0, 141166280441856.0, 237003929026560.0, 235708828614656.0, 160592820174848.0, 242184347451392.0, 189085096345600.0, 290103163355136.0, 59574757359616.0, 174838958260224.0, 221462690529280.0, 69935585820672.0, 356153452134400.0, 116559305506816.0, 156707518939136.0, 18131447709696.0, 678634159341568.0, 629420276580352.0, 97132757385216.0, 80296410087424.0, 224052891353088.0, 128215234379776.0, 101018067009536.0, 474007858053120.0, 59574757359616.0, 268086406021120.0, 132100552392704.0, 208511652855808.0, 170953657024512.0, 158002619351040.0, 488253996138496.0, 178724276273152.0, 217577372516352.0, 322480740761600.0, 572435724238848.0, 20462633484288.0, 20203614240768.0, 33025138098176.0, 14375647707136.0, 15152709632000.0, 72525790838784.0, 15541240594432.0, 13469075111936.0, 24347945205760.0, 36910445625344.0, 36910445625344.0, 2064394821304320.0, 555599351775232.0, 19426552315904.0, 49731971579904.0, 1069755423260672.0, 101018067009536.0, 1589091862839296.0, 38853104631808.0, 56984552341504.0, 69935585820672.0, 50509033504768.0, 38853104631808.0, 104903376633856.0, 67345376608256.0, 29787378679808.0, 46623723880448.0, 84181719711744.0, 80296410087424.0, 121739723931648.0, 170953657024512.0, 63460066983936.0, 27974233489408.0, 85347316793344.0, 867719289241600.0, 98427857797120.0, 93247447760896.0, 182609577508864.0, 89103114698752.0, 28880807133184.0, 391121230364672.0, 819800473337856.0, 1096952565465088.0, 167068339011584.0, 88067029336064.0, 22923330977792.0, 148936899690496.0, 31082481188864.0, 103608276221952.0])\n",
      "L: array('f', [1158960250880.0, 1140177633280.0, 1137695916032.0, 1151828623360.0, 1147570487296.0, 1134378221568.0, 1132863160320.0, 1160292597760.0, 1152272695296.0, 1153474363392.0, 1147596701696.0, 1122570469376.0, 1137434689536.0, 1141196455936.0, 1127951892480.0, 1141588361216.0, 1143678173184.0, 1141065777152.0, 1173197553664.0, 1169017798656.0, 1147335475200.0, 1137147379712.0, 1125130567680.0, 1131661492224.0, 1138714738688.0, 1149686513664.0, 1146029211648.0, 1147335475200.0, 1138192285696.0, 1138192285696.0, 1140804550656.0, 1138975965184.0, 1171630063616.0, 1139498418176.0, 1141327003648.0, 1135579889664.0, 1178944667648.0, 1103448244224.0, 1137408606208.0, 1116248735744.0, 1099007328256.0, 1109717811200.0, 1111546527744.0, 1103187017728.0, 1096133771264.0, 1099529715712.0, 1102403338240.0, 1110501621760.0, 1199059501056.0, 1140020871168.0, 1119905906688.0, 1109979037696.0, 1170062704640.0, 1140020871168.0, 1162486874112.0, 1131922718720.0, 1125391794176.0, 1130877681664.0, 1123563208704.0, 1130094002176.0, 1131661492224.0, 1135318663168.0, 1132967624704.0, 1128004190208.0, 1136886153216.0, 1134796210176.0, 1124608114688.0, 1124608114688.0, 1120689717248.0, 1121995849728.0, 1121473396736.0, 1164315590656.0, 1142372040704.0, 1139237191680.0, 1139237191680.0, 1143678173184.0, 1126175604736.0, 1167972892672.0, 1158046023680.0, 1189393989632.0, 1139498418176.0, 1160658288640.0, 1098484875264.0, 1152821362688.0, 1153082589184.0, 1137931059200.0]) +- array('f', [26123302.0, 208986416.0, 78369904.0, 52246604.0, 470219424.0, 26123302.0, 313479616.0, 52246604.0, 26123302.0, 26123302.0, 26123302.0, 78369904.0, 26123302.0, 52246604.0, 52246604.0, 1567398144.0, 1306165120.0, 1567398144.0, 522466048.0, 783699072.0, 1306165120.0, 1828631168.0, 2873563136.0, 2089864192.0, 1567398144.0, 1306165120.0, 1306165120.0, 1567398144.0, 2612330240.0, 1828631168.0, 1828631168.0, 1828631168.0, 522466048.0, 1044932096.0, 1044932096.0, 1306165120.0, 261233024.0, 2873563136.0, 1044932096.0, 5485893632.0, 7314524672.0, 2873563136.0, 4702194176.0, 4440961536.0, 5224660480.0, 5747126272.0, 4702194176.0, 3396029184.0, 522466048.0, 1567398144.0, 4702194176.0, 3396029184.0, 522466048.0, 2089864192.0, 522466048.0, 2612330240.0, 2873563136.0, 2612330240.0, 2873563136.0, 2612330240.0, 2612330240.0, 2351097088.0, 2351097088.0, 2612330240.0, 2351097088.0, 2351097088.0, 2873563136.0, 2873563136.0, 3396029184.0, 2873563136.0, 3134796288.0, 522466048.0, 1306165120.0, 1306165120.0, 1306165120.0, 1306165120.0, 1567398144.0, 783699072.0, 522466048.0, 261233024.0, 2612330240.0, 783699072.0, 7575757824.0, 1306165120.0, 783699072.0, 2612330240.0])\n"
     ]
    }
   ],
   "source": [
    "#-------------------------------------------------------------------------------------\n",
    "### L vs. R ###\n",
    "RBLR      = array(\"f\", [x*c for x in tau])       #R=c*tau\n",
    "\n",
    "dRBLR     = array(\"f\", [x*c for x in dtaumean])  # dR=c*dtau\n",
    "\n",
    "print \"RBLR:\", RBLR, \"+-\",dRBLR\n",
    "print \"L:\", L, \"+-\",dL\n"
   ]
  },
  {
   "cell_type": "code",
   "execution_count": 113,
   "metadata": {
    "collapsed": false,
    "deletable": true,
    "editable": true
   },
   "outputs": [
    {
     "name": "stdout",
     "output_type": "stream",
     "text": [
      "laengder: 86 "
     ]
    },
    {
     "name": "stderr",
     "output_type": "stream",
     "text": [
      "TCanvas::Constructor:0: RuntimeWarning: Deleting canvas with same name: canvas\n",
      "TCanvas::Constructor:0: RuntimeWarning: Deleting canvas with same name: canvas2\n"
     ]
    },
    {
     "name": "stdout",
     "output_type": "stream",
     "text": [
      "86 86 86\n"
     ]
    }
   ],
   "source": [
    "#----------------------------------------------------------------------\n",
    "# Plot data\n",
    "#----------------------------------------------------------------------\n",
    "# tauFz\n",
    "print \"laengder:\",len(tau), len(z), len(dz), len(dtauF)\n",
    "Graph_tauFz = TGraphErrors(len(tau), z, tauF, dz, dtauF)\n",
    "\n",
    "canvas = TCanvas(\"canvas\",\"All data\", 50, 50, 600, 400)\n",
    "\n",
    "\n",
    "fit = TF1(\"fit\", \"[0]+[1]*x\" , 0, 0.8)\n",
    "fit.SetParameters(10.**9,10.**11)#10000., 0.1)\n",
    "fit.SetNpx(500) #good resolution\n",
    "Graph_tauFz.Fit(\"fit\", \"R\")\n",
    "\n",
    "Graph_tauFz.GetXaxis().SetTitle(\"z\")\n",
    "Graph_tauFz.GetYaxis().SetTitle(\"tau/sqrt(F) [s^2.5*kg^-1/2]\")\n",
    "Graph_tauFz.SetTitle(\"\")\n",
    "\n",
    "Graph_tauFz.GetYaxis().SetTitleOffset(1.25)\n",
    "Graph_tauFz.SetLineColor(kBlack)\n",
    "Graph_tauFz.SetMarkerSize(0.5)\n",
    "Graph_tauFz.SetMarkerStyle(20)\n",
    "\n",
    "\n",
    "Graph_tauFz.Draw('AP')\n",
    "fit.Draw(\"same\")\n",
    "#canvas.Update()\n",
    "canvas.Draw()\n",
    "canvas.SaveAs(\"tauFz.png\")\n",
    "\n",
    "#---------------------------------------------------------------------------------\n",
    "# R vs. L\n",
    "\n",
    "logRBLR  = array('f',[math.log(x) for x in RBLR])\n",
    "logdRBLR = array('f',[math.log(x) for x in dRBLR])\n",
    "logL     = array('f',[math.log(x) for x in L])\n",
    "logdL    = array('f',[math.log(x) for x in dL])\n",
    "\n",
    "#Graph_RL = TGraphErrors(len(L), L, RBLR, dL, dRBLR)\n",
    "Graph_RL = TGraphErrors(len(L), L, logRBLR, dL, logdRBLR)\n",
    "\n",
    "canvas2 = TCanvas(\"canvas2\",\"\", 50, 50, 600, 400)\n",
    "\n",
    "#fitRL = TF1(\"fitRL\", \"[0]+[1]*exp(x)\" , -10., 10.**(13))\n",
    "fitRL = TF1(\"fitRL\", \"[0]+[1]*x\" , -10., 10.**(13))\n",
    "#fitRL = TF1(\"fitRL\", \"[0]+10.**13*x\" , 0., 1.2*10**27)\n",
    "#fitRL.SetParameter(0,10)\n",
    "fitRL.SetParameters(-15, 10.**(-11))#10.**(12), 10.**(-13))\n",
    "fitRL.SetNpx(500) #good resolution\n",
    "Graph_RL.Fit(\"fitRL\", \"R\")\n",
    "\n",
    "Graph_RL.GetXaxis().SetTitle(\"L/L_sol\")\n",
    "Graph_RL.GetYaxis().SetTitle(\"R_BLR [m]\")\n",
    "Graph_RL.SetTitle(\"\")\n",
    "\n",
    "Graph_RL.SetLineColor(kBlack)\n",
    "Graph_RL.SetMarkerSize(0.5)\n",
    "Graph_RL.SetMarkerStyle(20)\n",
    "\n",
    "fitRL.Draw(\"same\")\n",
    "Graph_RL.Draw('AP')\n",
    "canvas2.Update()\n",
    "canvas2.SaveAs(\"RL.png\")\n"
   ]
  },
  {
   "cell_type": "code",
   "execution_count": 114,
   "metadata": {
    "collapsed": false,
    "deletable": true,
    "editable": true
   },
   "outputs": [
    {
     "data": {
      "image/png": "[encoded data removed]",
      "text/plain": [
       "<IPython.core.display.Image object>"
      ]
     },
     "metadata": {},
     "output_type": "display_data"
    },
    {
     "data": {
      "image/png": "[encoded data removed]",
      "text/plain": [
       "<IPython.core.display.Image object>"
      ]
     },
     "metadata": {},
     "output_type": "display_data"
    }
   ],
   "source": [
    "#Show plots\n",
    "\n",
    "x = Image(\"tauFz.png\") \n",
    "y = Image(\"RL.png\") \n",
    "display(x,y)"
   ]
  },
  {
   "cell_type": "code",
   "execution_count": null,
   "metadata": {
    "collapsed": true,
    "deletable": true,
    "editable": true
   },
   "outputs": [],
   "source": [
    "\n"
   ]
  },
  {
   "cell_type": "code",
   "execution_count": null,
   "metadata": {
    "collapsed": true,
    "deletable": true,
    "editable": true
   },
   "outputs": [],
   "source": []
  }
 ],
 "metadata": {
  "kernelspec": {
   "display_name": "Python 2",
   "language": "python",
   "name": "python2"
  },
  "language_info": {
   "codemirror_mode": {
    "name": "ipython",
    "version": 2
   },
   "file_extension": ".py",
   "mimetype": "text/x-python",
   "name": "python",
   "nbconvert_exporter": "python",
   "pygments_lexer": "ipython2",
   "version": "2.7.12"
  }
 },
 "nbformat": 4,
 "nbformat_minor": 2
}
