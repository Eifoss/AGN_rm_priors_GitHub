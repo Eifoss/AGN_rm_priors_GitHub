{
 "cells": [
  {
   "cell_type": "code",
   "execution_count": 2,
   "metadata": {
    "collapsed": false,
    "deletable": true,
    "editable": true
   },
   "outputs": [],
   "source": [
    "#I plot data from Shen and Bentz (soon)\n",
    "import ROOT\n",
    "from ROOT import *\n",
    "from array import array\n",
    "import math\n",
    "from IPython.display import Image\n",
    "from IPython.display import display\n",
    "\n",
    "# Setting what to be shown in statistics box:\n",
    "gStyle.SetOptStat(1110)   # Print for stat: Entries, Mean, and RMS\n",
    "gStyle.SetOptFit(1111)    # Print for fit:  Everything!\n",
    "\n",
    "gStyle.SetStatX(0.82);    # Top left corner.\n",
    "gStyle.SetStatY(0.86);"
   ]
  },
  {
   "cell_type": "code",
   "execution_count": 3,
   "metadata": {
    "collapsed": false,
    "deletable": true,
    "editable": true
   },
   "outputs": [],
   "source": [
    "#----------------------------------------------------------------------\n",
    "# Read data\n",
    "#----------------------------------------------------------------------\n",
    "### Bentz 13 part I ###\n",
    "#name    z    D_L   dD   A_B\n",
    "\n",
    "#f_lambda(5100*(1+z))\n",
    "\n",
    "name=[]\n",
    "z             = array(\"f\", [])\n",
    "D             = array(\"f\", [])\n",
    "dD            = array(\"f\", [])\n",
    "A_B           = array(\"f\", [])\n",
    "\n",
    "with open( 'Bentz13zDA.txt', 'r' ) as infile :\n",
    "    for line in infile:\n",
    "        line = line.strip().split()\n",
    "        \n",
    "        name.append((line[0]))\n",
    "        \n",
    "        z.append(float(line[1]))\n",
    "        \n",
    "        D.append(float(line[2])*3.0857*10**22) #Mpc -> m\n",
    "        dD.append(float(line[3])*3.0857*10**22)\n",
    "        \n",
    "        A_B.append(float(line[4]))\n",
    "#---------------------------------------------------------------------------------\n",
    "### Bentz 13 part II ###\n",
    "#name/a    tau  +dtau   -dtau    F  dF    L   dL\n",
    "# a=same name\n",
    "\n",
    "#f_lambda(5100*(1+z))\n",
    "\n",
    "#10^44 ergs s^-1\n",
    "\n",
    "name      = []\n",
    "tau       = array(\"f\", [])\n",
    "dtaup     = array(\"f\", [])\n",
    "dtaum     = array(\"f\", [])\n",
    "F         = array(\"f\", [])\n",
    "dF        = array(\"f\", [])\n",
    "L         = array(\"f\", [])\n",
    "dL        = array(\"f\", [])\n",
    "\n",
    "with open( 'Bentz13tauFL.txt', 'r' ) as infile :\n",
    "    for line in infile:\n",
    "        line = line.strip().split()\n",
    "        \n",
    "        name.append((line[0]))\n",
    "        \n",
    "        tau.append(float(line[1])*24*60*60) #days -> s\n",
    "        dtaup.append(float(line[2])*24*60*60)\n",
    "        dtaum.append(float(line[3])*24*60*60)\n",
    "        \n",
    "        F.append(float(line[4])*10**(-8)) #10^-15 ergs s^-1 cm^-2 AA^-1 = 10^-15 *10^7 kg s^-3 m^-1\n",
    "        dF.append(float(line[5])*10**(-8))\n",
    "        \n",
    "        L.append(float(line[6])*10**(37)) #10^44 ergs s^-1 ->  10^44 * 10^-7 kg m^2 s^-3       \n",
    "        dL.append(float(line[7])*10**(37))    \n",
    "#---------------------------------------------------------------------------------\n",
    "### Shen ###\n",
    "#name    z    tau    dtau+    dtau-   F    dF    L    dL\n",
    "# a=same name\n",
    "\n",
    "#f_lambda(5100*(1+z))\n",
    "\n",
    "\n",
    "name    = []\n",
    "z       = array(\"f\", [])\n",
    "tau     = array(\"f\", [])\n",
    "dtaup   = array(\"f\", [])\n",
    "dtaum   = array(\"f\", [])\n",
    "F       = array(\"f\", [])\n",
    "dF      = array(\"f\", [])\n",
    "L       = array(\"f\", [])\n",
    "dL      = array(\"f\", [])\n",
    "\n",
    "with open( 'ShenSDSSztauFL.txt', 'r' ) as infile :\n",
    "    for line in infile:\n",
    "        line = line.strip().split()\n",
    "        \n",
    "        name.append((line[0]))\n",
    "        \n",
    "        z.append(float(line[1]))\n",
    "        \n",
    "        tau.append(float(line[2])*24*60*60)  #days -> s\n",
    "        dtaup.append(float(line[3])*24*60*60) \n",
    "        dtaum.append(float(line[4])*24*60*60) \n",
    "        \n",
    "        F.append(float(line[5])*10**(-10)) #10^-17 erg s^-1 cm^-2 AA^-1 =10^-17 *10^7 kg s^-3 m^-1 -> kg s^-3 m^-1\n",
    "        dF.append(float(line[6])*10**(-10))\n",
    "        \n",
    "        L.append(math.exp(float(line[7]))*10**(-7)) #log(erg s^-1)=log(10^-7 kg m^2 s^-3): log(x)=y -> x=exp(y)\n",
    "        dL.append(math.exp(float(line[8]))*10**(-7))\n",
    "        \n",
    "#---------------------------------------------------------------------------------\n",
    "### Constants ###\n",
    "        \n",
    "#Nobs      = len(name)\n",
    "#print \"Nobs: \", Nobs\n",
    "c         = 299792458. #m/s\n",
    "H0        = 2.23 *10.**(-18) # s^-1      = 69 (km/s)/Mpc\n",
    "dH0       = 0.03 *10.**(-18) # s^-1      = 1 (km/s)/Mpc"
   ]
  },
  {
   "cell_type": "code",
   "execution_count": 6,
   "metadata": {
    "collapsed": false,
    "deletable": true,
    "editable": true
   },
   "outputs": [
    {
     "ename": "SyntaxError",
     "evalue": "EOF while scanning triple-quoted string literal (<ipython-input-6-4a4a43c60f93>, line 39)",
     "output_type": "error",
     "traceback": [
      "\u001b[0;36m  File \u001b[0;32m\"<ipython-input-6-4a4a43c60f93>\"\u001b[0;36m, line \u001b[0;32m39\u001b[0m\n\u001b[0;31m    print \"tau:\", tau[0], \"+-\",dtaumean[0]\u001b[0m\n\u001b[0m                                          \n^\u001b[0m\n\u001b[0;31mSyntaxError\u001b[0m\u001b[0;31m:\u001b[0m EOF while scanning triple-quoted string literal\n"
     ]
    }
   ],
   "source": [
    "\"\"\" #Not ready\n",
    "#----------------------------------------------------------------------\n",
    "# Analyse data\n",
    "#----------------------------------------------------------------------\n",
    "\n",
    "'''\n",
    "if tau[0]<1000: #i.e. units are not fixed already\n",
    "    #F is in erg s^-1 cm^-2 = 10^-3 kg/s^3\n",
    "    F             = array(\"f\", [x*10**3 for x in F]) # Now in kg/s^3\n",
    "    dF            = array(\"f\", [x*10**3 for x in dF]) # Now in kg/s^3\n",
    "    #tau is in days\n",
    "    tau = array(\"f\", [x*24*60*60 for x in tau]) # Now in s\n",
    "    dTaum         = array(\"f\", [x*24*60*60 for x in dTaum]) # Now in s\n",
    "    dTaup         = array(\"f\", [x*24*60*60 for x in dTaup]) # Now in s\n",
    "'''\n",
    "\n",
    "#------------------------------------------------------------------------\n",
    "### tauF vs. z ###\n",
    "    \n",
    "# tauF vs. z\n",
    "tauF          = array('f', [tau[i]/math.sqrt(F[i]) for i in iWithTau]) #F/sqrt(tau)\n",
    "\n",
    "#Slightly wrong uncertainties:\n",
    "dtaumean      = array('f', [(dTaum[i]+dTaup[i])/2. for i,x in enumerate(tau)]) #Mean of errors of each side\n",
    "dtauF         = array('f', [math.sqrt(1./F[i] * dtaumean[i]**2 + (tau[i] * F[i]**(-3./2.) /2. )**2 * dF[i]**2) for i in iWithTau] )\n",
    "dz            = array('f', [0.001]*len(z)) #That order of magnitude\n",
    "\n",
    "#print \"tauF:\", tauF, \"+-\",dtauF\n",
    "#print \"z:\", z, \"+-\",dz\n",
    "\n",
    "#Values with a defined tau\n",
    "zWithTau      = array('f',[z[x] for x in iWithTau])\n",
    "dzWithTau     = array('f',[dz[x] for x in iWithTau])\n",
    "#tauWithTau      = array('f',[tau[x] for x in iWithTau])\n",
    "#dTaumWithTau    = array('f',[dTaum[x] for x in iWithTau])\n",
    "#dTaupWithTau    = array('f',[dTaup[x] for x in iWithTau])\n",
    "\n",
    "#print \"zWithTau:\", zWithTau, \"+-\",dzWithTau\n",
    "print \"tau:\", tau[0], \"+-\",dtaumean[0]"
   ]
  },
  {
   "cell_type": "code",
   "execution_count": 7,
   "metadata": {
    "collapsed": false,
    "deletable": true,
    "editable": true
   },
   "outputs": [
    {
     "ename": "NameError",
     "evalue": "name 'dtaumean' is not defined",
     "output_type": "error",
     "traceback": [
      "\u001b[0;31m---------------------------------------------------------------------------\u001b[0m",
      "\u001b[0;31mNameError\u001b[0m                                 Traceback (most recent call last)",
      "\u001b[0;32m<ipython-input-7-37e823aeb868>\u001b[0m in \u001b[0;36m<module>\u001b[0;34m()\u001b[0m\n\u001b[1;32m      8\u001b[0m \u001b[1;33m\u001b[0m\u001b[0m\n\u001b[1;32m      9\u001b[0m \u001b[1;33m\u001b[0m\u001b[0m\n\u001b[0;32m---> 10\u001b[0;31m \u001b[0mdRBLR\u001b[0m     \u001b[1;33m=\u001b[0m \u001b[0marray\u001b[0m\u001b[1;33m(\u001b[0m\u001b[1;34m\"f\"\u001b[0m\u001b[1;33m,\u001b[0m \u001b[1;33m[\u001b[0m\u001b[0mx\u001b[0m\u001b[1;33m*\u001b[0m\u001b[0mc\u001b[0m \u001b[1;32mfor\u001b[0m \u001b[0mx\u001b[0m \u001b[1;32min\u001b[0m \u001b[0mdtaumean\u001b[0m\u001b[1;33m]\u001b[0m\u001b[1;33m)\u001b[0m  \u001b[1;31m# dR=c*dtau\u001b[0m\u001b[1;33m\u001b[0m\u001b[0m\n\u001b[0m\u001b[1;32m     11\u001b[0m \u001b[0mdv\u001b[0m        \u001b[1;33m=\u001b[0m \u001b[0marray\u001b[0m\u001b[1;33m(\u001b[0m\u001b[1;34m\"f\"\u001b[0m\u001b[1;33m,\u001b[0m \u001b[1;33m[\u001b[0m\u001b[0mdz\u001b[0m\u001b[1;33m[\u001b[0m\u001b[0mi\u001b[0m\u001b[1;33m]\u001b[0m\u001b[1;33m*\u001b[0m\u001b[1;36m2\u001b[0m\u001b[1;33m*\u001b[0m\u001b[0mc\u001b[0m \u001b[1;33m*\u001b[0m \u001b[1;33m(\u001b[0m\u001b[1;36m1\u001b[0m\u001b[1;33m+\u001b[0m\u001b[0mx\u001b[0m\u001b[1;33m)\u001b[0m\u001b[1;33m/\u001b[0m\u001b[1;33m(\u001b[0m\u001b[1;36m1.\u001b[0m\u001b[1;33m+\u001b[0m\u001b[1;33m(\u001b[0m\u001b[1;36m1.\u001b[0m\u001b[1;33m+\u001b[0m\u001b[0mx\u001b[0m\u001b[1;33m)\u001b[0m\u001b[1;33m**\u001b[0m\u001b[1;36m2\u001b[0m\u001b[1;33m)\u001b[0m \u001b[1;33m*\u001b[0m \u001b[1;33m(\u001b[0m\u001b[1;36m1\u001b[0m \u001b[1;33m-\u001b[0m \u001b[1;33m(\u001b[0m\u001b[1;36m1\u001b[0m\u001b[1;33m+\u001b[0m\u001b[0mx\u001b[0m\u001b[1;33m)\u001b[0m\u001b[1;33m**\u001b[0m\u001b[1;36m2.\u001b[0m\u001b[1;33m-\u001b[0m\u001b[1;36m1\u001b[0m\u001b[1;33m)\u001b[0m\u001b[1;33m/\u001b[0m\u001b[1;33m(\u001b[0m\u001b[1;33m(\u001b[0m\u001b[1;36m1.\u001b[0m\u001b[1;33m+\u001b[0m\u001b[0mx\u001b[0m\u001b[1;33m)\u001b[0m\u001b[1;33m**\u001b[0m\u001b[1;36m2\u001b[0m\u001b[1;33m+\u001b[0m\u001b[1;36m1\u001b[0m\u001b[1;33m)\u001b[0m \u001b[1;32mfor\u001b[0m \u001b[0mi\u001b[0m\u001b[1;33m,\u001b[0m\u001b[0mx\u001b[0m \u001b[1;32min\u001b[0m \u001b[0menumerate\u001b[0m\u001b[1;33m(\u001b[0m\u001b[0mz\u001b[0m\u001b[1;33m)\u001b[0m\u001b[1;33m]\u001b[0m\u001b[1;33m)\u001b[0m \u001b[1;31m#Error propagation, tjek evt. om forsimplet giver ca. det samme\u001b[0m\u001b[1;33m\u001b[0m\u001b[0m\n\u001b[1;32m     12\u001b[0m \u001b[0mdD\u001b[0m        \u001b[1;33m=\u001b[0m \u001b[0marray\u001b[0m\u001b[1;33m(\u001b[0m\u001b[1;34m\"f\"\u001b[0m\u001b[1;33m,\u001b[0m \u001b[1;33m[\u001b[0m\u001b[0mmath\u001b[0m\u001b[1;33m.\u001b[0m\u001b[0msqrt\u001b[0m\u001b[1;33m(\u001b[0m\u001b[1;36m1.\u001b[0m\u001b[1;33m/\u001b[0m\u001b[0mH0\u001b[0m\u001b[1;33m**\u001b[0m\u001b[1;36m2.\u001b[0m\u001b[1;33m*\u001b[0m\u001b[0mdv\u001b[0m\u001b[1;33m[\u001b[0m\u001b[0mi\u001b[0m\u001b[1;33m]\u001b[0m\u001b[1;33m**\u001b[0m\u001b[1;36m2.\u001b[0m\u001b[1;33m+\u001b[0m\u001b[1;33m(\u001b[0m\u001b[0mv\u001b[0m\u001b[1;33m[\u001b[0m\u001b[0mi\u001b[0m\u001b[1;33m]\u001b[0m\u001b[1;33m/\u001b[0m\u001b[0mH0\u001b[0m\u001b[1;33m)\u001b[0m\u001b[1;33m**\u001b[0m\u001b[1;36m2\u001b[0m\u001b[1;33m*\u001b[0m\u001b[0mdH0\u001b[0m\u001b[1;33m**\u001b[0m\u001b[1;36m2\u001b[0m\u001b[1;33m)\u001b[0m \u001b[1;32mfor\u001b[0m \u001b[0mi\u001b[0m\u001b[1;33m,\u001b[0m\u001b[0mx\u001b[0m \u001b[1;32min\u001b[0m \u001b[0menumerate\u001b[0m\u001b[1;33m(\u001b[0m\u001b[0mv\u001b[0m\u001b[1;33m)\u001b[0m\u001b[1;33m]\u001b[0m\u001b[1;33m)\u001b[0m\u001b[1;33m\u001b[0m\u001b[0m\n",
      "\u001b[0;31mNameError\u001b[0m: name 'dtaumean' is not defined"
     ]
    }
   ],
   "source": [
    "#-------------------------------------------------------------------------------------\n",
    "### L vs. R ###\n",
    "RBLR      = array(\"f\", [x*c for x in tau])                               #R=c*tau\n",
    "v         = array(\"f\", [-((x-1.)**2-1.)/((x+1.)**2+1.)*c for x in z])              #Cosmological redshift -> v\n",
    "D         = array('f', [x/H0 for x in v])                                          #Distance to object in m. v=H0*D\n",
    "#L         = array('f', [F[i]*4*math.pi*D[i]**2 for i,x in enumerate(F)])          #L=F*4piD^2 in W\n",
    "L         = array('f', [1./(3.828*10**(26))*F[i]*4*math.pi*D[i]**2 for i,x in enumerate(F)]) #L=F*4piD^2 in L_sol\n",
    "\n",
    "\n",
    "dRBLR     = array(\"f\", [x*c for x in dtaumean])  # dR=c*dtau\n",
    "dv        = array(\"f\", [dz[i]*2*c * (1+x)/(1.+(1.+x)**2) * (1 - (1+x)**2.-1)/((1.+x)**2+1) for i,x in enumerate(z)]) #Error propagation, tjek evt. om forsimplet giver ca. det samme \n",
    "dD        = array(\"f\", [math.sqrt(1./H0**2.*dv[i]**2.+(v[i]/H0)**2*dH0**2) for i,x in enumerate(v)])\n",
    "#dL        = array(\"f\", [4*math.pi*math.sqrt(D[i]**4*dF[i]**2+(2*F[i]*D[i])**2*dD[i]**2) for i,x in enumerate(D)]) #in W\n",
    "dL        = array(\"f\", [1./(3.828*10**(26))*(4*math.pi*math.sqrt(D[i]**4*dF[i]**2+(2.*F[i]*D[i])**2.*dD[i]**2)) for i,x in enumerate(D)]) #in L_sol\n",
    "\n",
    "\n",
    "#Values with a defined tau\n",
    "LWithTau  = array(\"f\", [L[x] for x in iWithTau])\n",
    "dLWithTau = array(\"f\", [dL[x] for x in iWithTau])\n",
    "RBLRWithTau  = array(\"f\", [RBLR[x] for x in iWithTau])\n",
    "dRBLRWithTau = array(\"f\", [dRBLR[x] for x in iWithTau])\n",
    "\n",
    "print \"RBLR:\", RBLR, \"+-\",dRBLR\n",
    "print \"v:\", v\n",
    "print \"D:\", D\n",
    "#print \"L:\", L, \"+-\",dL\n",
    "print \"LWithTau:\", LWithTau, \"+-\",dLWithTau\n",
    "print \"laengder:\",len(LWithTau),len(dLWithTau), len(RBLRWithTau), len(dRBLRWithTau),len(iWithTau), len(tau)"
   ]
  },
  {
   "cell_type": "code",
   "execution_count": 8,
   "metadata": {
    "collapsed": false,
    "deletable": true,
    "editable": true
   },
   "outputs": [
    {
     "ename": "NameError",
     "evalue": "name 'TGraphErrors' is not defined",
     "output_type": "error",
     "traceback": [
      "\u001b[0;31m---------------------------------------------------------------------------\u001b[0m",
      "\u001b[0;31mNameError\u001b[0m                                 Traceback (most recent call last)",
      "\u001b[0;32m<ipython-input-8-62d621ec117c>\u001b[0m in \u001b[0;36m<module>\u001b[0;34m()\u001b[0m\n\u001b[1;32m      3\u001b[0m \u001b[1;31m#----------------------------------------------------------------------\u001b[0m\u001b[1;33m\u001b[0m\u001b[1;33m\u001b[0m\u001b[0m\n\u001b[1;32m      4\u001b[0m \u001b[1;31m# tauFz\u001b[0m\u001b[1;33m\u001b[0m\u001b[1;33m\u001b[0m\u001b[0m\n\u001b[0;32m----> 5\u001b[0;31m \u001b[0mGraph_tauFz\u001b[0m \u001b[1;33m=\u001b[0m \u001b[0mTGraphErrors\u001b[0m\u001b[1;33m(\u001b[0m\u001b[0mlen\u001b[0m\u001b[1;33m(\u001b[0m\u001b[0miWithTau\u001b[0m\u001b[1;33m)\u001b[0m\u001b[1;33m,\u001b[0m \u001b[0mzWithTau\u001b[0m\u001b[1;33m,\u001b[0m \u001b[0mtauF\u001b[0m\u001b[1;33m,\u001b[0m \u001b[0mdzWithTau\u001b[0m\u001b[1;33m,\u001b[0m \u001b[0mdtauF\u001b[0m\u001b[1;33m)\u001b[0m\u001b[1;33m\u001b[0m\u001b[0m\n\u001b[0m\u001b[1;32m      6\u001b[0m \u001b[1;33m\u001b[0m\u001b[0m\n\u001b[1;32m      7\u001b[0m \u001b[0mcanvas\u001b[0m \u001b[1;33m=\u001b[0m \u001b[0mTCanvas\u001b[0m\u001b[1;33m(\u001b[0m\u001b[1;34m\"canvas\"\u001b[0m\u001b[1;33m,\u001b[0m\u001b[1;34m\"\"\u001b[0m\u001b[1;33m,\u001b[0m \u001b[1;36m50\u001b[0m\u001b[1;33m,\u001b[0m \u001b[1;36m50\u001b[0m\u001b[1;33m,\u001b[0m \u001b[1;36m600\u001b[0m\u001b[1;33m,\u001b[0m \u001b[1;36m400\u001b[0m\u001b[1;33m)\u001b[0m\u001b[1;33m\u001b[0m\u001b[0m\n",
      "\u001b[0;31mNameError\u001b[0m: name 'TGraphErrors' is not defined"
     ]
    }
   ],
   "source": [
    "#----------------------------------------------------------------------\n",
    "# Plot data\n",
    "#----------------------------------------------------------------------\n",
    "# tauFz\n",
    "Graph_tauFz = TGraphErrors(len(iWithTau), zWithTau, tauF, dzWithTau, dtauF)\n",
    "\n",
    "canvas = TCanvas(\"canvas\",\"\", 50, 50, 600, 400)\n",
    "\n",
    "\n",
    "fit = TF1(\"fit\", \"[0]+[1]*x\" , 0, 0.05)\n",
    "fit.SetParameters(10000., 0.1)\n",
    "fit.SetNpx(500) #good resolution\n",
    "Graph_tauFz.Fit(\"fit\", \"R\")\n",
    "\n",
    "Graph_tauFz.GetXaxis().SetTitle(\"z\")\n",
    "Graph_tauFz.GetYaxis().SetTitle(\"tau/sqrt(F) [s^2.5*kg^-1/2]\")\n",
    "Graph_tauFz.SetTitle(\"\")\n",
    "\n",
    "Graph_tauFz.GetYaxis().SetTitleOffset(1.25)\n",
    "Graph_tauFz.SetLineColor(kBlack)\n",
    "Graph_tauFz.SetMarkerSize(0.5)\n",
    "Graph_tauFz.SetMarkerStyle(20)\n",
    "\n",
    "\n",
    "Graph_tauFz.Draw('AP')\n",
    "fit.Draw(\"same\")\n",
    "#canvas.Update()\n",
    "canvas.Draw()\n",
    "canvas.SaveAs(\"tauFz .png\")\n",
    "#---------------------------------------------------------------------------------\n",
    "# R vs. L\n",
    "Graph_RL = TGraphErrors(len(iWithTau), LWithTau, RBLRWithTau, dLWithTau, dRBLRWithTau)\n",
    "\n",
    "canvas2 = TCanvas(\"canvas2\",\"\", 50, 50, 600, 400)\n",
    "\n",
    "fitRL = TF1(\"fitRL\", \"[0]+[1]*x\" , -10., 1.2*10**27)\n",
    "#fitRL = TF1(\"fitRL\", \"[0]+10.**13*x\" , 0., 1.2*10**27)\n",
    "#fitRL.SetParameter(0,10)\n",
    "fitRL.SetParameters(10.**(12), 10.**(-13))\n",
    "fitRL.SetNpx(500) #good resolution\n",
    "Graph_RL.Fit(\"fitRL\", \"R\")\n",
    "\n",
    "Graph_RL.GetXaxis().SetTitle(\"L/L_sol\")\n",
    "Graph_RL.GetYaxis().SetTitle(\"R_BLR [m]\")\n",
    "Graph_RL.SetTitle(\"\")\n",
    "\n",
    "Graph_RL.SetLineColor(kBlack)\n",
    "Graph_RL.SetMarkerSize(0.5)\n",
    "Graph_RL.SetMarkerStyle(20)\n",
    "\n",
    "fitRL.Draw(\"same\")\n",
    "Graph_RL.Draw('AP')\n",
    "canvas2.Update()\n",
    "canvas2.SaveAs(\"RL.png\")"
   ]
  },
  {
   "cell_type": "code",
   "execution_count": 9,
   "metadata": {
    "collapsed": false,
    "deletable": true,
    "editable": true
   },
   "outputs": [
    {
     "data": {
      "image/png": "dGF1RnoucG5n\n",
      "text/plain": [
       "<IPython.core.display.Image object>"
      ]
     },
     "metadata": {},
     "output_type": "display_data"
    },
    {
     "data": {
      "image/png": "UkwucG5n\n",
      "text/plain": [
       "<IPython.core.display.Image object>"
      ]
     },
     "metadata": {},
     "output_type": "display_data"
    }
   ],
   "source": [
    "#Show plots\n",
    "\n",
    "x = Image(\"tauFz.png\") \n",
    "y = Image(\"RL.png\") \n",
    "display(x, y)"
   ]
  },
  {
   "cell_type": "code",
   "execution_count": null,
   "metadata": {
    "collapsed": true,
    "deletable": true,
    "editable": true
   },
   "outputs": [],
   "source": [
    "\n"
   ]
  },
  {
   "cell_type": "code",
   "execution_count": null,
   "metadata": {
    "collapsed": true,
    "deletable": true,
    "editable": true
   },
   "outputs": [],
   "source": []
  }
 ],
 "metadata": {
  "kernelspec": {
   "display_name": "Python 2",
   "language": "python",
   "name": "python2"
  },
  "language_info": {
   "codemirror_mode": {
    "name": "ipython",
    "version": 2
   },
   "file_extension": ".py",
   "mimetype": "text/x-python",
   "name": "python",
   "nbconvert_exporter": "python",
   "pygments_lexer": "ipython2",
   "version": "2.7.12"
  }
 },
 "nbformat": 4,
 "nbformat_minor": 2
}
