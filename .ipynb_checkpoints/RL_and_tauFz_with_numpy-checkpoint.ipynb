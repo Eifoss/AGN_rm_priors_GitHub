{
 "cells": [
  {
   "cell_type": "code",
   "execution_count": 7,
   "metadata": {
    "collapsed": false,
    "deletable": true,
    "editable": true
   },
   "outputs": [
    {
     "name": "stdout",
     "output_type": "stream",
     "text": [
      "done\n"
     ]
    }
   ],
   "source": [
    "#I plot data from Shen and Bentz (soon)\n",
    "import ROOT\n",
    "from ROOT import *\n",
    "from array import array\n",
    "import math\n",
    "from IPython.display import Image\n",
    "from IPython.display import display\n",
    "import numpy as np\n",
    "import astropy\n",
    "import astropy.units as u\n",
    "from astropy.cosmology import Planck15 as cosmo\n",
    "from astropy.cosmology import FlatLambdaCDM\n",
    "import scipy\n",
    "import matplotlib\n",
    "import matplotlib.pyplot as plt\n",
    "\n",
    "# Setting what to be shown in statistics box:\n",
    "gStyle.SetOptStat(1110)   # Print for stat: Entries, Mean, and RMS\n",
    "gStyle.SetOptFit(1111)    # Print for fit:  Everything!\n",
    "\n",
    "r = TRandom3()\n",
    "\n",
    "#---------------------------------------------------------------------------------\n",
    "### Constants ###\n",
    "        \n",
    "c         = 299792458. #m/s\n",
    "H0        = 2.23 *10.**(-18) # s^-1      = 69 (km/s)/Mpc\n",
    "dH0       = 0.03 *10.**(-18) # s^-1      = 1 (km/s)/Mpc\n",
    "L_sol     = 3.828*10**(26) # W\n",
    "\n",
    "print \"done\""
   ]
  },
  {
   "cell_type": "code",
   "execution_count": 8,
   "metadata": {
    "collapsed": false,
    "deletable": true,
    "editable": true
   },
   "outputs": [
    {
     "name": "stdout",
     "output_type": "stream",
     "text": [
      "done\n"
     ]
    }
   ],
   "source": [
    "#----------------------------------------------------------------------\n",
    "# Read data\n",
    "#----------------------------------------------------------------------\n",
    "### Bentz 13 part I ###\n",
    "#name    z    D_L   dD   A_B\n",
    "\n",
    "#f_lambda(5100*(1+z))\n",
    "\n",
    "name_B          =[]\n",
    "z_B             = array(\"f\", [])\n",
    "D_B             = array(\"f\", [])\n",
    "dD_B            = array(\"f\", [])\n",
    "A_B_B           = array(\"f\", [])\n",
    "\n",
    "with open( 'Bentz13zDA.txt', 'r' ) as infile :\n",
    "    for line in infile:\n",
    "        line = line.strip().split()\n",
    "        \n",
    "        name_B.append((line[0]))\n",
    "        \n",
    "        z_B.append(float(line[1]))\n",
    "        \n",
    "        D_B.append(float(line[2])*3.0857*10**22) #Mpc -> m\n",
    "        dD_B.append(float(line[3])*3.0857*10**22)\n",
    "        \n",
    "        A_B_B.append(float(line[4]))\n",
    "#---------------------------------------------------------------------------------\n",
    "### Bentz 13 part II ###\n",
    "#name/a    tau  +dtau   -dtau    F  dF    L   dL\n",
    "# a=same name\n",
    "\n",
    "#f_lambda(5100*(1+z))\n",
    "\n",
    "#10^44 ergs s^-1\n",
    "\n",
    "name_B2      = []\n",
    "tau_B2       = array(\"f\", [])\n",
    "dtaup_B2     = array(\"f\", [])\n",
    "dtaum_B2     = array(\"f\", [])\n",
    "F_B2         = array(\"f\", [])\n",
    "dF_B2        = array(\"f\", [])\n",
    "L_B2         = array(\"f\", [])\n",
    "dL_B2        = array(\"f\", [])\n",
    "\n",
    "with open( 'Bentz13tauFL.txt', 'r' ) as infile :\n",
    "    for line in infile:\n",
    "        line = line.strip().split()\n",
    "        \n",
    "        name_B2.append((line[0]))\n",
    "        \n",
    "        tau_B2.append(float(line[1])*24*60*60) #days -> s\n",
    "        dtaup_B2.append(float(line[2])*24*60*60)\n",
    "        dtaum_B2.append(float(line[3])*24*60*60)\n",
    "        \n",
    "        F_B2.append(float(line[4])*10**(-8)) #10^-15 ergs s^-1 cm^-2 AA^-1 = 10^-15 *10^7 kg s^-3 m^-1\n",
    "        dF_B2.append(float(line[5])*10**(-8))\n",
    "        \n",
    "        #Should be wrong - this is from the article\n",
    "        #L_B2.append(float(line[6])*10**(37)/L_sol) #10^44 ergs s^-1 ->  10^44 * 10^-7 kg m^2 s^-3       \n",
    "        #dL_B2.append(float(line[7])*10**(37)/L_sol)\n",
    "        \n",
    "        #Right way:\n",
    "        #L_B2.append((10**(float(line[6])))*10**(-7)/L_sol) #log(erg s^-1)=log(10^-7 kg m^2 s^-3): log(x)=y -> x=exp(y)\n",
    "        #dL_B2.append((10**(float(line[7])))*10**(-7)/L_sol)\n",
    "        \n",
    "        #log:\n",
    "        L_B2.append(float(line[6])) #log(erg s^-1)=log(10^-7 kg m^2 s^-3): log(x)=y -> x=exp(y)\n",
    "        dL_B2.append(float(line[7]))\n",
    "#---------------------------------------------------------------------------------\n",
    "### Shen ###\n",
    "#name    z    tau    dtau+    dtau-   F    dF    L    dL\n",
    "# a=same name\n",
    "\n",
    "#f_lambda(5100*(1+z))\n",
    "\n",
    "\n",
    "name_S    = []\n",
    "z_S       = array(\"f\", [])\n",
    "tau_S     = array(\"f\", [])\n",
    "dtaup_S   = array(\"f\", [])\n",
    "dtaum_S   = array(\"f\", [])\n",
    "F_S       = array(\"f\", [])\n",
    "dF_S      = array(\"f\", [])\n",
    "L_S       = array(\"f\", [])\n",
    "dL_S      = array(\"f\", [])\n",
    "\n",
    "with open( 'ShenSDSSztauFL.txt', 'r' ) as infile :\n",
    "    for line in infile:\n",
    "        line = line.strip().split()\n",
    "        \n",
    "        name_S.append((line[0]))\n",
    "        \n",
    "        z_S.append(float(line[1]))\n",
    "        \n",
    "        tau_S.append(float(line[2])*24*60*60)  #days -> s\n",
    "        dtaup_S.append(float(line[3])*24*60*60) \n",
    "        dtaum_S.append(float(line[4])*24*60*60) \n",
    "        \n",
    "        F_S.append(float(line[5])*10**(-10)) #10^-17 erg s^-1 cm^-2 AA^-1 =10^-17 *10^7 kg s^-3 m^-1 -> kg s^-3 m^-1\n",
    "        dF_S.append(float(line[6])*10**(-10))\n",
    "        \n",
    "        #print float(line[7])\n",
    "        \n",
    "        #L_S.append(math.exp(float(line[7]))*10**(-7)/L_sol) #log(erg s^-1)=log(10^-7 kg m^2 s^-3): log(x)=y -> x=10^y\n",
    "        #dL_S.append(math.exp(float(line[8]))*10**(-7)/L_sol)\n",
    "        \n",
    "        #Right way:\n",
    "        #L_S.append((10**(float(line[7])))*10**(-7)/L_sol) #log(erg s^-1)=log(10^-7 kg m^2 s^-3): log(x)=y -> x=exp(y)\n",
    "        #dL_S.append((10**(float(line[8])))*10**(-7)/L_sol)\n",
    "        \n",
    "        #log:\n",
    "        L_S.append(float(line[7])) #log(erg s^-1)=log(10^-7 kg m^2 s^-3): log(x)=y -> x=exp(y)\n",
    "        dL_S.append(float(line[8]))\n",
    "\n",
    "        #Should be wrong:\n",
    "        #L_S.append(float(line[7])*10**(37)/L_sol) #10^44 ergs s^-1 ->  10^44 * 10^-7 kg m^2 s^-3       \n",
    "        #dL_S.append(float(line[8])*10**(37)/L_sol)\n",
    "print \"done\"        "
   ]
  },
  {
   "cell_type": "code",
   "execution_count": 9,
   "metadata": {
    "collapsed": false,
    "deletable": true,
    "editable": true
   },
   "outputs": [
    {
     "name": "stdout",
     "output_type": "stream",
     "text": [
      "array('f', [0.025790000334382057, 0.025790000334382057, 0.025790000334382057, 0.1420000046491623, 0.1550000011920929, 0.04701999947428703, 0.02638999931514263, 0.02638999931514263, 0.02638999931514263, 0.02638999931514263, 0.03300999850034714, 0.03300999850034714, 0.032710000872612, 0.032710000872612, 0.022190000861883163, 0.022190000861883163, 0.022190000861883163, 0.10000000149011612, 0.03528999909758568, 0.03528999909758568, 0.03528999909758568, 0.23409999907016754, 0.003860000055283308, 0.04493999853730202, 0.008840000256896019, 0.027869999408721924, 0.021090000867843628, 0.009730000048875809, 0.01955999992787838, 0.0023399998899549246, 0.0033199999015778303, 0.02102000080049038, 0.012930000200867653, 0.15834000706672668, 0.06300999969244003, 0.008999999612569809, 0.014630000106990337, 0.1550000011920929, 0.03044999949634075, 0.08959999680519104, 0.017179999500513077, 0.017179999500513077, 0.017179999500513077, 0.017179999500513077, 0.017179999500513077, 0.017179999500513077, 0.017179999500513077, 0.017179999500513077, 0.017179999500513077, 0.017179999500513077, 0.017179999500513077, 0.017179999500513077, 0.017179999500513077, 0.017179999500513077, 0.017179999500513077, 0.017179999500513077, 0.08647000044584274, 0.0314599983394146, 0.0314599983394146, 0.0314599983394146, 0.0314599983394146, 0.029580000787973404, 0.1289999932050705, 0.11243999749422073, 0.2919999957084656, 0.05609999969601631, 0.05609999969601631, 0.005210000090301037, 0.03440000116825104, 0.06298000365495682, 0.0163199994713068])\n",
      "done\n"
     ]
    }
   ],
   "source": [
    "#--------------------------------------------------------------------------------\n",
    "# Combining data\n",
    "#--------------------------------------------------------------------------------\n",
    "# PG1226+023 = PG1226+032 ???\n",
    "# I renamed it 23\n",
    "\n",
    "#z for each tau\n",
    "z_B2 = array('f',[])\n",
    "for i,x in enumerate(name_B2):\n",
    "    i_name=name_B.index(x) #find index of name_B2 in name_B\n",
    "    z_B2.append(z_B[i_name]) #use z for that index\n",
    "    \n",
    "print z_B2\n",
    "\n",
    "#Shen + Bentz 2013\n",
    "z     = np.array(z_S + z_B2) #Still an array\n",
    "\n",
    "F     = np.array(F_S + F_B2)\n",
    "dF    = np.array(dF_S + dF_B2)\n",
    "\n",
    "L     = np.array(L_S + L_B2)\n",
    "dL    = np.array(dL_S + dL_B2)\n",
    "\n",
    "tau   = np.array(tau_S + tau_B2)\n",
    "dtaum = np.array(dtaum_S + dtaum_B2)\n",
    "dtaup = np.array(dtaup_S + dtaup_B2)\n",
    "\n",
    "i_data_used=range(len(z_S)+len(z_B2)) #There are 86 data points to begin with\n",
    "\n",
    "#Removing 16 points more than 3 sigma away:\n",
    "#i_data_used=[ True  True  False  True  True  True  True  True  True  True  True  True  True  True  True  True  True  False  True  True  False  True  True  False  True  True  True  True  False  True  True  True  False  True  True  True  True  True  False  True  True  True  True  True  True  False  True  True  True  True  False  True  True  True  True  True  False  True  True  True  True  True  True  True  False  True  True  True  True  False  True  True  True  True  True  False  True  True  True  True  True  True  False  False  False  True]\n",
    "#i_data_used = np.array([ True,  True,  False,  True,  True,  True,  True,  True,  True,  True,  True,  True,  True,  True,  True,  True,  True,  False,  True,  True,  False,  True,  True,  False,  True,  True,  True,  True,  False,  True,  True,  True,  False,  True,  True,  True,  True,  True,  False,  True,  True,  True,  True,  True,  True,  False,  True,  True,  True,  True,  False,  True,  True,  True,  True,  True,  False,  True,  True,  True,  True,  True,  True,  True,  False,  True,  True,  True,  True,  False,  True,  True,  True,  True,  True,  False,  True,  True,  True,  True,  True,  True,  False,  False,  False,  True])\n",
    "\n",
    "\"\"\"\n",
    "\n",
    "NobsPerName=[name_B2.count(x) for x in name_B] #noget galt\n",
    "print NobsPerName\n",
    "\n",
    "z_B2=[]\n",
    "for i in range(len(name_B)): \n",
    "    for j in range(NobsPerName[i]):\n",
    "        z_B2.append(z_B[i])\n",
    "print z_B2 \n",
    "\"\"\"\n",
    "print \"done\""
   ]
  },
  {
   "cell_type": "code",
   "execution_count": 10,
   "metadata": {
    "collapsed": false,
    "deletable": true,
    "editable": true
   },
   "outputs": [
    {
     "name": "stdout",
     "output_type": "stream",
     "text": [
      "done\n"
     ]
    }
   ],
   "source": [
    "#Select data to be used\n",
    "z=z[i_data_used]\n",
    "F=F[i_data_used]\n",
    "dF=dF[i_data_used]\n",
    "L=L[i_data_used]\n",
    "dL=dL[i_data_used]\n",
    "tau=tau[i_data_used]\n",
    "dtaum=dtaum[i_data_used]\n",
    "dtaup=dtaup[i_data_used]\n",
    "\n",
    "z_S=np.array(z_S)\n",
    "z_S=z_S[i_data_used[:len(z_S)]]\n",
    "\n",
    "dataS = range(0,len(z_S))\n",
    "dataB = range(len(z_S),len(z))\n",
    "print \"done\""
   ]
  },
  {
   "cell_type": "code",
   "execution_count": 11,
   "metadata": {
    "collapsed": false,
    "deletable": true,
    "editable": true
   },
   "outputs": [
    {
     "name": "stdout",
     "output_type": "stream",
     "text": [
      "32840360852.3 32840359936.0\n",
      "947684088.936 10980726323.0\n",
      "86 86 86\n",
      "tauF[0]:  158583651135.0 +- 32840360852.3 + 44791874122.1 - 21610105283.7\n",
      "Number of negative simulated F:  57\n",
      "done\n"
     ]
    }
   ],
   "source": [
    "#----------------------------------------------------------------------\n",
    "# Analyse data\n",
    "#----------------------------------------------------------------------\n",
    "### tauF vs. z ###\n",
    "    \n",
    "# tauF vs. z\n",
    "tauF          = tau/np.sqrt(F) #tau/sqrt(F)\n",
    "\n",
    "#Slightly wrong uncertainties:\n",
    "dtaumean      = (dtaum+dtaup)/2. #Mean of errors of each side\n",
    "dtauF         = np.sqrt((1./F) * dtaumean**2. + (tau * F**(-3./2.) /2. )**2. * dF**2.)\n",
    "test          = array('f', [math.sqrt(1./F[i] * dtaumean[i]**2 + (tau[i] * F[i]**(-3./2.) /2. )**2 * dF[i]**2) for i,x in enumerate(tau)] )\n",
    "dz            = np.array([0.001]*len(z)) #That order of magnitude\n",
    "\n",
    "print dtauF[0],test[0]\n",
    "\n",
    "# ------- Monte Carlo --------- # \n",
    "# Assume gauss on each side\n",
    "# I generate 2 gaussians and accept values on one side\n",
    "# Combine\n",
    "\n",
    "Npoints   = 1000\n",
    "NegativeF = 0\n",
    "dtauFm    = np.array([])\n",
    "dtauFp    = np.array([])\n",
    "Hist_SimTauF = TH1F(\"Hist_SimTauF\", \";Simulated tau/sqrt(F) for i==15 ;Frequency\", 50, 400000000., 13000000000.)\n",
    "\n",
    "for i in range(len(tau)) : #For all data\n",
    "    simTauF = []\n",
    "    Nhit    = 0\n",
    "    while Nhit<0.5*Npoints: #Simulate many values of TauF (two each time)\n",
    "        tauHigh = r.Gaus(tau[i],dtaup[i])\n",
    "        tauLow  = r.Gaus(tau[i],dtaum[i])\n",
    "        \n",
    "        if tauHigh>tau[i] and tauLow<tau[i] : # Equal numbers of high and low - too much restriction?\n",
    "            simF  = r.Gaus(F[i],dF[i]) #Or something with a possionian distribution?\n",
    "            \n",
    "            if simF>0: #math error if F<0\n",
    "                simTauF.append(tauHigh/math.sqrt(simF))\n",
    "            else:\n",
    "                simTauF.append(tauHigh/0.00000000000001) #How do I avoid doing this?\n",
    "                NegativeF += 1\n",
    "            if i==15: Hist_SimTauF.Fill(simTauF[-1]) #Only one dataset and add latest value\n",
    "            \n",
    "            simF  = r.Gaus(F[i],dF[i]) #New F for the low tau. Necessary?\n",
    "            if simF>0: \n",
    "                simTauF.append(tauLow/math.sqrt(simF))\n",
    "            else:\n",
    "                simTauF.append(tauLow/0.00000000000001) #How do I avoid doing this?\n",
    "                NegativeF += 1\n",
    "            if i==15: Hist_SimTauF.Fill(simTauF[-1])\n",
    "            \n",
    "            Nhit += 1\n",
    "            \n",
    "    # Find assymmetric uncertainties on tauF\n",
    "    NotIn1sig       = (1 - 0.682689492137086)/2. # 1 sig from middle seen from lowest or highest = % not included in +- 1 sig from each side\n",
    "    simTauF.sort()\n",
    "    tauFLow  = simTauF[int(Npoints*NotIn1sig)]\n",
    "    tauFHigh = simTauF[-int(Npoints*NotIn1sig)]\n",
    "    \n",
    "    # how different from actual tauF\n",
    "    dtauFm   =np.append(dtauFm,tauF[i]-tauFLow)\n",
    "    dtauFp   =np.append(dtauFp,tauFHigh-tauF[i])\n",
    "    \n",
    "    if i == 15: \n",
    "        print min(simTauF), max(simTauF)\n",
    "        \n",
    "print len(dtauF),len(dtauFm),len(dtauFp)    \n",
    "print \"tauF[0]: \",tauF[0],\"+-\",dtauF[0], \"+\",dtauFp[0],\"-\",dtauFm[0]    \n",
    "print \"Number of negative simulated F: \", NegativeF            \n",
    "\n",
    "\n",
    "#print \"tauF:\", tauF, \"+-\",dtauF\n",
    "#print \"z:\", z, \"+-\",dz\n",
    "#print \"tau[0]: \",tau[0],\"+-\",dtaumean[0]\n",
    "print \"done\""
   ]
  },
  {
   "cell_type": "code",
   "execution_count": 12,
   "metadata": {
    "collapsed": false,
    "deletable": true,
    "editable": true
   },
   "outputs": [
    {
     "name": "stdout",
     "output_type": "stream",
     "text": [
      "[]\n",
      "[  3170880.   2013120.   2790720.   1607040.   1892160.   2557440.\n",
      "   2514240.   2937600.   1226880.   1218240.   2168640.   1857600.\n",
      "   1658880.   1486080.    941760.   1451520.   1080000.   1235520.\n",
      "   9590400.   7758720.   1503360.   1788480.   1209600.   2522880.\n",
      "   2488320.   3291840.   2237760.   4069440.   3205440.    777600.\n",
      "   1391040.   1382400.  12692160.   2099520.   1762560.   2877120.\n",
      "  12968640.    324000.    236736.   1009152.    199584.    344736.\n",
      "    881280.    316224.    161568.    568512.    263520.    532224.\n",
      "  26507520.   3265920.    322272.    479520.   9123840.   1442880.\n",
      "  10739520.   1702080.   1607040.   1373760.    950400.   1123200.\n",
      "   1157760.   1874880.   1416960.   1512000.   2289600.   2142720.\n",
      "    561600.   1235520.    544320.    361152.   1071360.   8208000.\n",
      "   1641600.   1321920.   2903040.   1213056.    753408.   3464640.\n",
      "   6177600.  21755520.   2039040.   4008960.    573696.   6877440.\n",
      "    829440.   2099520.]\n",
      "done\n"
     ]
    }
   ],
   "source": [
    "#Limit tau\n",
    "\n",
    "#Remove negative tau\n",
    "\"\"\"\n",
    "print len(tau)\n",
    "hvor=np.where(tau <= 0)\n",
    "print hvor\n",
    "print tau[hvor]\n",
    "\n",
    "condlist = [tau<0]\n",
    "choicelist = tau\n",
    "print np.select(condlist, choicelist)\n",
    "\"\"\"\n",
    "print np.extract(tau<=0, tau) #Some limit\n",
    "print tau\n",
    "print \"done\""
   ]
  },
  {
   "cell_type": "code",
   "execution_count": 13,
   "metadata": {
    "collapsed": false,
    "deletable": true,
    "editable": true,
    "scrolled": true
   },
   "outputs": [
    {
     "name": "stdout",
     "output_type": "stream",
     "text": [
      "RBLR: 9.50605909223e+14 + 2.6938151106e+14 + 1.24329928182e+14\n",
      "L: 44.3650016785 +- 0.0010000000475\n",
      "2.15628200461\n",
      "done\n"
     ]
    }
   ],
   "source": [
    "#-------------------------------------------------------------------------------------\n",
    "### L vs. R ###\n",
    "RBLR      = tau*c      #R=c*tau\n",
    "\n",
    "dRBLRp    = dtaup*c  # dR=c*dtau\n",
    "dRBLRm    = dtaum*c  # dR=c*dtau\n",
    "#dRBLR     = array(\"f\", [x*c for x in dtaumean])  # dR=c*dtau\n",
    "\n",
    "print \"RBLR:\", RBLR[0], \"+\",dRBLRp[0], \"+\",dRBLRm[0]\n",
    "print \"L:\", L[0], \"+-\",dL[0]\n",
    "print math.log10(cosmo.luminosity_distance(10.**(-1.5)).value)\n",
    "print \"done\""
   ]
  },
  {
   "cell_type": "code",
   "execution_count": 14,
   "metadata": {
    "collapsed": false,
    "deletable": true,
    "editable": true
   },
   "outputs": [
    {
     "name": "stdout",
     "output_type": "stream",
     "text": [
      "done\n"
     ]
    }
   ],
   "source": [
    "#----------------------------------------------------------------------\n",
    "# Plot data\n",
    "#----------------------------------------------------------------------\n",
    "### Monte Carlo Simulation ###\n",
    "\n",
    "gStyle.SetStatX(0.86);    # Top right corner.\n",
    "gStyle.SetStatY(0.86);\n",
    "\n",
    "canvasMC = TCanvas(\"canvasMC\",\"\", 50, 50, 600, 400)\n",
    "\n",
    "Hist_SimTauF.Draw('')\n",
    "canvasMC.Update()\n",
    "canvasMC.Draw()\n",
    "\n",
    "canvasMC.SaveAs(\"Mont.png\")\n",
    "print \"done\""
   ]
  },
  {
   "cell_type": "code",
   "execution_count": 15,
   "metadata": {
    "collapsed": false,
    "deletable": true,
    "editable": true
   },
   "outputs": [
    {
     "name": "stdout",
     "output_type": "stream",
     "text": [
      "laengder: 86 86 86 86\n",
      "done\n"
     ]
    }
   ],
   "source": [
    "### tauFz ###\n",
    "print \"laengder:\",len(tau), len(z), len(dz), len(dtauF)\n",
    "\n",
    "logTauF   = np.log10(tauF)\n",
    "dlogTauFp = np.log10(1+dtauFp/tauF)\n",
    "dlogTauFm = np.log10(1+dtauFm/tauF)\n",
    "logz      = np.log10(z)\n",
    "dlogz     = np.log10(1+dz/z)\n",
    "\n",
    "print \"done\""
   ]
  },
  {
   "cell_type": "code",
   "execution_count": 16,
   "metadata": {
    "collapsed": false,
    "deletable": true,
    "editable": true
   },
   "outputs": [
    {
     "data": {
      "text/plain": [
       "'\\nfit = TF1(\"fit\", \"[0]+[1]*x\" , -3, 0)\\n#fit.SetParameters(10.**9,10.**11)#10000., 0.1) #not log\\nfit.SetParameters(12,1)\\nfit.SetNpx(500) #good resolution\\n#Graph_tauFz.Fit(\"fit\", \"R\")\\n\\n\\n# Cosmofit\\ndef fit_fun_cosmo (x, p) :\\n    return p[0]*math.log10(cosmo.luminosity_distance(10**(x[0])).value) #in Mpc...\\n\\nf_cosmo = TF1(\"f_cosmo\", fit_fun_cosmo, -3., 0., 1)   # Here you need to ALSO define number of variables\\nf_cosmo.SetParameters(1.,1)         # Remember to give good (reasonable) starting values!\\n#f_cosmo.SetLineColor(kBlue)\\n#Graph_tauFz.Fit(\"f_cosmo\", \"R+\")\\n#f_cosmo.Draw(\"same\")\\n'"
      ]
     },
     "execution_count": 16,
     "metadata": {},
     "output_type": "execute_result"
    }
   ],
   "source": [
    "#Old fit functions\n",
    "\"\"\"\n",
    "fit = TF1(\"fit\", \"[0]+[1]*x\" , -3, 0)\n",
    "#fit.SetParameters(10.**9,10.**11)#10000., 0.1) #not log\n",
    "fit.SetParameters(12,1)\n",
    "fit.SetNpx(500) #good resolution\n",
    "#Graph_tauFz.Fit(\"fit\", \"R\")\n",
    "\n",
    "\n",
    "# Cosmofit\n",
    "def fit_fun_cosmo (x, p) :\n",
    "    return p[0]*math.log10(cosmo.luminosity_distance(10**(x[0])).value) #in Mpc...\n",
    "\n",
    "f_cosmo = TF1(\"f_cosmo\", fit_fun_cosmo, -3., 0., 1)   # Here you need to ALSO define number of variables\n",
    "f_cosmo.SetParameters(1.,1)         # Remember to give good (reasonable) starting values!\n",
    "#f_cosmo.SetLineColor(kBlue)\n",
    "#Graph_tauFz.Fit(\"f_cosmo\", \"R+\")\n",
    "#f_cosmo.Draw(\"same\")\n",
    "\"\"\"\n"
   ]
  },
  {
   "cell_type": "code",
   "execution_count": 17,
   "metadata": {
    "collapsed": false,
    "deletable": true,
    "editable": true
   },
   "outputs": [
    {
     "name": "stdout",
     "output_type": "stream",
     "text": [
      "done\n"
     ]
    }
   ],
   "source": [
    "#cosmo2 = FlatLambdaCDM(H0=70, Om0=0.3)\n",
    "# Cosmofit2\n",
    "def fit_fun_cosmo2 (x, p) :\n",
    "    cosmo2 = FlatLambdaCDM(H0=70, Om0=p[0]) #evt. med p[1] som Om0\n",
    "    #return p[2]+p[1]*math.log10(cosmo2.luminosity_distance(10**(x[0])).value) #in Mpc...\n",
    "    return p[1]+math.log10(cosmo2.luminosity_distance(10**(x[0])).value) #in Mpc...\n",
    "\n",
    "f_cosmo2 = TF1(\"f_cosmo2\", fit_fun_cosmo2, -5,5.,2)#-3., 0., 2)   # Here you need to ALSO define number of variables\n",
    "f_cosmo2.SetParLimits(0, 0.00001, 0.999999)\n",
    "f_cosmo2.SetParameters(0,0.3)         # Remember to give good (reasonable) starting values!\n",
    "f_cosmo2.SetParameters(1,7.)\n",
    "\n",
    "#f_cosmo.SetLineColor(kBlue)\n",
    "\n",
    "print \"done\""
   ]
  },
  {
   "cell_type": "code",
   "execution_count": 18,
   "metadata": {
    "collapsed": false,
    "deletable": true,
    "editable": true
   },
   "outputs": [
    {
     "name": "stdout",
     "output_type": "stream",
     "text": [
      "done\n"
     ]
    }
   ],
   "source": [
    "# Define Graph_tauFz and canvas\n",
    "\n",
    "#Graph_tauFz = TGraphErrors(len(tau), z, tauF, dz, dtauF)\n",
    "#Graph_tauFz = TGraphAsymmErrors(len(tau),z,tauF,dz,dz,dtauFm,dtauFp)\n",
    "\n",
    "\n",
    "Graph_tauFz = TGraphAsymmErrors(len(tau),logz,logTauF,dlogz,dlogz,dlogTauFm,dlogTauFp)\n",
    "\n",
    "canvas = TCanvas(\"canvas\",\"All data\", 50, 50, 600, 400)\n",
    "\n",
    "Graph_tauFz.GetXaxis().SetTitle(\"z\")\n",
    "Graph_tauFz.GetYaxis().SetTitle(\"tau/sqrt(F) [kg^1/2 s^-1/2 m^-1/2]\") #[s^2.5*kg^-1/2]\")\n",
    "Graph_tauFz.SetTitle(\"\")\n",
    "\n",
    "Graph_tauFz.GetYaxis().SetTitleOffset(1.25)\n",
    "Graph_tauFz.SetLineColor(kBlack)\n",
    "Graph_tauFz.SetMarkerSize(0.5)\n",
    "Graph_tauFz.SetMarkerStyle(20)\n",
    "\n",
    "#Graph_tauFz.GetXaxis().SetRangeUser(-10,5) #or SetLimits?\n",
    "#Graph_tauFz.GetYaxis().SetRangeUser(0,20)\n",
    "print \"done\""
   ]
  },
  {
   "cell_type": "code",
   "execution_count": 19,
   "metadata": {
    "collapsed": false,
    "deletable": true,
    "editable": true
   },
   "outputs": [
    {
     "name": "stdout",
     "output_type": "stream",
     "text": [
      "done\n"
     ]
    }
   ],
   "source": [
    "Graph_tauFz.Fit(\"f_cosmo2\", \"R+\")\n",
    "\n",
    "# Draw ROOT plot of tauFz\n",
    "Graph_tauFz.Draw('AP')\n",
    "f_cosmo2.Draw(\"same\")\n",
    "canvas.Update()\n",
    "canvas.Draw()\n",
    "canvas.SaveAs(\"tauFz.png\")\n",
    "print \"done\"\n"
   ]
  },
  {
   "cell_type": "code",
   "execution_count": null,
   "metadata": {
    "collapsed": true,
    "deletable": true,
    "editable": true
   },
   "outputs": [],
   "source": [
    "\"\"\"\"\n",
    "canvasContour = TCanvas(\"canvasContour\",\"\", 50, 50, 600, 400)\n",
    "\n",
    "contourplot = Contour(Int_t npoints=40, Int_t p0=0, Int_t p2=1)  #(Int_t npoints=10, Int_t pa1=0, Int_t pa2=1)\n",
    "contourplot.Draw('')\n",
    "canvasContour.Update()\n",
    "canvasContour.Draw()\n",
    "\n",
    "print \"done\"\n",
    "\"\"\""
   ]
  },
  {
   "cell_type": "code",
   "execution_count": 27,
   "metadata": {
    "collapsed": false,
    "deletable": true,
    "editable": true
   },
   "outputs": [
    {
     "name": "stdout",
     "output_type": "stream",
     "text": [
      "p0:  1.00000018257e-05\n",
      "p1:  7.8792402072\n"
     ]
    },
    {
     "data": {
      "image/png": "[encoded data removed]",
      "text/plain": [
       "<matplotlib.figure.Figure at 0x3fcf1690>"
      ]
     },
     "metadata": {},
     "output_type": "display_data"
    },
    {
     "name": "stdout",
     "output_type": "stream",
     "text": [
      "done\n"
     ]
    }
   ],
   "source": [
    "# Matplotlib plot\n",
    "plt.figure()\n",
    "z_cosmo = np.linspace(0.0,0.8,100)\n",
    "\n",
    "\"\"\"\n",
    "DL      = cosmo.luminosity_distance(z_cosmo) #Fit with this somehow\n",
    "\n",
    "%matplotlib inline\n",
    "plt.plot(z_cosmo,DL.value) #Why does this one disappear?\n",
    "plt.show()\n",
    "\"\"\"\n",
    "\n",
    "plt.figure()\n",
    "%matplotlib inline\n",
    "plt.errorbar(logz[dataB], logTauF[dataB], yerr=[dlogTauFm[dataB],dlogTauFp[dataB]], xerr=dlogz[dataB], linestyle='', fmt='.',markersize='5',color='k') #Remember m\n",
    "plt.errorbar(logz[dataS], logTauF[dataS], yerr=[dlogTauFm[dataS],dlogTauFp[dataS]], xerr=dlogz[dataS], linestyle='', fmt='.',markersize='5',color='r') #Remember m\n",
    "\n",
    "p0        = f_cosmo2.GetParameter(0)\n",
    "p1        = f_cosmo2.GetParameter(1)\n",
    "\n",
    "print \"p0: \",p0\n",
    "print \"p1: \",p1\n",
    "\n",
    "logz_fit      = np.linspace(-3.0,0.0,100)\n",
    "asdf = FlatLambdaCDM(H0=70, Om0=p0).luminosity_distance(10**logz_fit).value\n",
    "#p[2]+p[1]*math.log10(cosmo2.luminosity_distance(10**(x[0])).value)\n",
    "\n",
    "asdf = np.array(asdf)\n",
    "logtauF_fit   = p1+np.log10(asdf)#*logz_fit #p0*logz_fit\n",
    "plt.plot(logz_fit,logtauF_fit)\n",
    "plt.xlabel('log(z)')\n",
    "plt.ylabel('log(tau/sqrt(F)) [kg^1/2 s^-1/2 m^-1/2]')\n",
    "\n",
    "plt.show()\n",
    "print \"done\""
   ]
  },
  {
   "cell_type": "code",
   "execution_count": 28,
   "metadata": {
    "collapsed": false,
    "deletable": true,
    "editable": true
   },
   "outputs": [
    {
     "name": "stdout",
     "output_type": "stream",
     "text": [
      "done\n"
     ]
    }
   ],
   "source": [
    "### R vs. L plot ###\n",
    "\n",
    "logRBLR   = np.log10(RBLR)\n",
    "dlogRBLRp = np.log10(1+dRBLRp/RBLR)\n",
    "dlogRBLRm = np.log10(1+dRBLRm/RBLR)\n",
    "logL      = np.log10(L) #Unneccesary now?\n",
    "\n",
    "#Graph_RL = TGraphErrors(len(L), L, RBLR, dL, dRBLR)\n",
    "#Graph_RL = TGraphErrors(len(L), logL, logRBLR, logdL, dlogRBLR)\n",
    "Graph_RL = TGraphAsymmErrors(len(L), L, logRBLR, dL, dL, dlogRBLRm,dlogRBLRm)\n",
    "#Graph_tauFz = TGraphAsymmErrors(len(tau),logz,logTauF,dlogz,dlogz,dlogTauFm,dlogTauFp)\n",
    "\n",
    "canvas2 = TCanvas(\"canvas2\",\"\", 50, 50, 600, 400)\n",
    "\n",
    "#fitRL = TF1(\"fitRL\", \"[0]+[1]*x\" , -10., 10.**(13))\n",
    "fitRL = TF1(\"fitRL\", \"[0]+0.5*x\" , -10., 10.**(13))\n",
    "\n",
    "fitRL.SetParameter(0,-9)\n",
    "fitRL.SetNpx(500) #good resolution\n",
    "\n",
    "Graph_RL.Fit(\"fitRL\", \"R\")\n",
    "\n",
    "Graph_RL.GetXaxis().SetTitle(\"log(L) [W]\") #/L_sol\")\n",
    "Graph_RL.GetYaxis().SetTitle(\"log(R_BLR) [m]\")\n",
    "Graph_RL.SetTitle(\"\")\n",
    "\n",
    "Graph_RL.SetLineColor(kBlack)\n",
    "Graph_RL.SetMarkerSize(0.5)\n",
    "Graph_RL.SetMarkerStyle(20)\n",
    "\n",
    "fitRL.Draw(\"same\")\n",
    "Graph_RL.Draw('AP')\n",
    "canvas2.Update()\n",
    "canvas2.SaveAs(\"RL.png\")\n",
    "print \"done\""
   ]
  },
  {
   "cell_type": "code",
   "execution_count": 29,
   "metadata": {
    "collapsed": false,
    "deletable": true,
    "editable": true
   },
   "outputs": [
    {
     "data": {
      "image/png": "[encoded data removed]",
      "text/plain": [
       "<matplotlib.figure.Figure at 0x3fe21590>"
      ]
     },
     "metadata": {},
     "output_type": "display_data"
    },
    {
     "name": "stdout",
     "output_type": "stream",
     "text": [
      "done\n"
     ]
    }
   ],
   "source": [
    "# Matplotlib plot\n",
    "plt.figure()\n",
    "\n",
    "%matplotlib inline\n",
    "\n",
    "plt.errorbar(L[dataB], logRBLR[dataB], yerr=[dlogRBLRm[dataB],dlogRBLRp[dataB]], xerr=dL[dataB], linestyle='', fmt='.',markersize='5',color='k') #Remember m\n",
    "plt.errorbar(L[dataS], logRBLR[dataS], yerr=[dlogRBLRm[dataS],dlogRBLRp[dataS]], xerr=dL[dataS], linestyle='', fmt='.',markersize='5',color='r') #Remember m\n",
    "p0           = fitRL.GetParameter(0)\n",
    "p1           = fitRL.GetParameter(1)\n",
    "\n",
    "L_fit        = np.linspace(41.5,46,100)\n",
    "#logRBLR_fit  = p0 + p1*L_fit\n",
    "logRBLR_fit  = p0 + 0.5*L_fit\n",
    "plt.plot(L_fit,logRBLR_fit)\n",
    "plt.xlabel('log(L) [W]')\n",
    "plt.ylabel('log(R_BLR) [m]')\n",
    "\n",
    "plt.show()\n",
    "print \"done\""
   ]
  },
  {
   "cell_type": "code",
   "execution_count": 42,
   "metadata": {
    "collapsed": false,
    "deletable": true,
    "editable": true
   },
   "outputs": [
    {
     "name": "stdout",
     "output_type": "stream",
     "text": [
      "priors [[  31.21803744   79.57809401]\n",
      " [  13.64283768   34.77704266]\n",
      " [  12.22937048   31.17396459]\n",
      " [  22.79839558   58.11553241]\n",
      " [  18.89753616   48.17182734]\n",
      " [  10.56585511   26.93348719]\n",
      " [   9.8833761    25.19377569]\n",
      " [  33.10586509   84.39036727]\n",
      " [  23.24905676   59.26431564]\n",
      " [  24.51343362   62.48734658]\n",
      " [  18.91929332   48.22728865]\n",
      " [   6.27920727   16.00636643]\n",
      " [  12.08940539   30.81717872]\n",
      " [  14.2693912    36.37419415]\n",
      " [   7.95986056   20.29053021]\n",
      " [  14.51794475   37.00778355]\n",
      " [  15.91857352   40.57813508]\n",
      " [  14.18746851   36.16536449]\n",
      " [  58.46617492  149.03649128]\n",
      " [  48.63005468  123.9631758 ]\n",
      " [  18.70267996   47.67511818]\n",
      " [  11.9372461    30.42930852]\n",
      " [   7.02917904   17.91812414]\n",
      " [   9.3735609    23.89420257]\n",
      " [  12.79100987   32.60564308]\n",
      " [  20.74454524   52.88004969]\n",
      " [  17.65648394   45.00825338]\n",
      " [  18.70267996   47.67511818]\n",
      " [  12.49984435   31.86343123]\n",
      " [  12.49984435   31.86343123]\n",
      " [  14.0250314    35.75129506]\n",
      " [  12.93909778   32.98313489]\n",
      " [  54.56372293  139.08872656]\n",
      " [  13.24049507   33.75142858]\n",
      " [  14.35172391   36.58406898]\n",
      " [  11.14051758   28.39836287]\n",
      " [  75.31912948  191.99646291]\n",
      " [   2.70337067    6.89117903]\n",
      " [  12.0755026    30.78173901]\n",
      " [   4.75230744   12.11413656]\n",
      " [   2.22282158    5.66620837]\n",
      " [   3.56372783    9.08432086]\n",
      " [   3.86281916    9.84673641]\n",
      " [   2.67241887    6.81227961]\n",
      " [   1.95841308    4.99220299]\n",
      " [   2.27459895    5.79819437]\n",
      " [   2.58169622    6.58101795]\n",
      " [   3.68895977    9.40355036]\n",
      " [ 182.77025628  465.90080065]\n",
      " [  13.54891296   34.53761855]\n",
      " [   5.58347047   14.23285942]\n",
      " [   3.60500272    9.18953493]\n",
      " [  50.92197222  129.8055171 ]\n",
      " [  13.54891296   34.53761855]\n",
      " [  36.4673964    92.9592677 ]\n",
      " [   9.48212494   24.17094384]\n",
      " [   7.11059058   18.12565082]\n",
      " [   9.05534947   23.08304784]\n",
      " [   6.5600012    16.72213998]\n",
      " [   8.74790219   22.29933206]\n",
      " [   9.3735609    23.89420257]\n",
      " [  11.01296604   28.07322045]\n",
      " [   9.92897058   25.31000085]\n",
      " [   7.97819984   20.33727899]\n",
      " [  11.80062438   30.08104523]\n",
      " [  10.76227466   27.43418148]\n",
      " [   6.86917177   17.51024862]\n",
      " [   6.86917177   17.51024862]\n",
      " [   5.77970298   14.73307694]\n",
      " [   6.12216654   15.60605292]\n",
      " [   5.98280586   15.25080775]\n",
      " [  39.52797856  100.76101677]\n",
      " [  15.02811566   38.30826341]\n",
      " [  13.08895767   33.36514365]\n",
      " [  13.08895767   33.36514365]\n",
      " [  15.91857352   40.57813508]\n",
      " [   7.3604618    18.7625991 ]\n",
      " [  46.44129272  118.38378904]\n",
      " [  29.98511186   76.43523574]\n",
      " [ 119.37246102  304.2930852 ]\n",
      " [  13.24049507   33.75142858]\n",
      " [  33.64378976   85.7615944 ]\n",
      " [   2.17222284    5.5372268 ]\n",
      " [  23.81800005   60.71461255]\n",
      " [  24.09375294   61.41753594]\n",
      " [  12.3567837    31.49875442]]\n",
      "priors Shen [[ 31.21803744  79.57809401]\n",
      " [ 13.64283768  34.77704266]\n",
      " [ 12.22937048  31.17396459]\n",
      " [ 22.79839558  58.11553241]\n",
      " [ 18.89753616  48.17182734]\n",
      " [ 10.56585511  26.93348719]\n",
      " [  9.8833761   25.19377569]\n",
      " [ 33.10586509  84.39036727]\n",
      " [ 23.24905676  59.26431564]\n",
      " [ 24.51343362  62.48734658]\n",
      " [ 18.91929332  48.22728865]\n",
      " [  6.27920727  16.00636643]\n",
      " [ 12.08940539  30.81717872]\n",
      " [ 14.2693912   36.37419415]\n",
      " [  7.95986056  20.29053021]]\n",
      "priors Bentz [[  14.51794475   37.00778355]\n",
      " [  15.91857352   40.57813508]\n",
      " [  14.18746851   36.16536449]\n",
      " [  58.46617492  149.03649128]\n",
      " [  48.63005468  123.9631758 ]\n",
      " [  18.70267996   47.67511818]\n",
      " [  11.9372461    30.42930852]\n",
      " [   7.02917904   17.91812414]\n",
      " [   9.3735609    23.89420257]\n",
      " [  12.79100987   32.60564308]\n",
      " [  20.74454524   52.88004969]\n",
      " [  17.65648394   45.00825338]\n",
      " [  18.70267996   47.67511818]\n",
      " [  12.49984435   31.86343123]\n",
      " [  12.49984435   31.86343123]\n",
      " [  14.0250314    35.75129506]\n",
      " [  12.93909778   32.98313489]\n",
      " [  54.56372293  139.08872656]\n",
      " [  13.24049507   33.75142858]\n",
      " [  14.35172391   36.58406898]\n",
      " [  11.14051758   28.39836287]\n",
      " [  75.31912948  191.99646291]\n",
      " [   2.70337067    6.89117903]\n",
      " [  12.0755026    30.78173901]\n",
      " [   4.75230744   12.11413656]\n",
      " [   2.22282158    5.66620837]\n",
      " [   3.56372783    9.08432086]\n",
      " [   3.86281916    9.84673641]\n",
      " [   2.67241887    6.81227961]\n",
      " [   1.95841308    4.99220299]\n",
      " [   2.27459895    5.79819437]\n",
      " [   2.58169622    6.58101795]\n",
      " [   3.68895977    9.40355036]\n",
      " [ 182.77025628  465.90080065]\n",
      " [  13.54891296   34.53761855]\n",
      " [   5.58347047   14.23285942]\n",
      " [   3.60500272    9.18953493]\n",
      " [  50.92197222  129.8055171 ]\n",
      " [  13.54891296   34.53761855]\n",
      " [  36.4673964    92.9592677 ]\n",
      " [   9.48212494   24.17094384]\n",
      " [   7.11059058   18.12565082]\n",
      " [   9.05534947   23.08304784]\n",
      " [   6.5600012    16.72213998]\n",
      " [   8.74790219   22.29933206]\n",
      " [   9.3735609    23.89420257]\n",
      " [  11.01296604   28.07322045]\n",
      " [   9.92897058   25.31000085]\n",
      " [   7.97819984   20.33727899]\n",
      " [  11.80062438   30.08104523]\n",
      " [  10.76227466   27.43418148]\n",
      " [   6.86917177   17.51024862]\n",
      " [   6.86917177   17.51024862]\n",
      " [   5.77970298   14.73307694]\n",
      " [   6.12216654   15.60605292]\n",
      " [   5.98280586   15.25080775]\n",
      " [  39.52797856  100.76101677]\n",
      " [  15.02811566   38.30826341]\n",
      " [  13.08895767   33.36514365]\n",
      " [  13.08895767   33.36514365]\n",
      " [  15.91857352   40.57813508]\n",
      " [   7.3604618    18.7625991 ]\n",
      " [  46.44129272  118.38378904]\n",
      " [  29.98511186   76.43523574]\n",
      " [ 119.37246102  304.2930852 ]\n",
      " [  13.24049507   33.75142858]\n",
      " [  33.64378976   85.7615944 ]\n",
      " [   2.17222284    5.5372268 ]\n",
      " [  23.81800005   60.71461255]\n",
      " [  24.09375294   61.41753594]\n",
      " [  12.3567837    31.49875442]]\n",
      "Some prior from Shen [ 31.21803744  79.57809401]\n",
      "Some prior from Bentz [ 14.51794475  37.00778355]\n",
      "done\n"
     ]
    }
   ],
   "source": [
    "#RMS of RL\n",
    "N=float(len(RBLR))\n",
    "expectedR = np.array(p0 + 0.5*L)\n",
    "#diff=abs(expectedR   -   logRBLR) #yfit -y\n",
    "diffy=np.array(abs(expectedR   -   logRBLR)) #yfit -y\n",
    "\n",
    "#RMS=math.sqrt(1/(N-1.) * sum(diff**2))/math.sqrt(N) #y   sqrt(1/())\n",
    "\n",
    "#Maybe also for x and then sqrt(RMSx^2+RMSy^2) ?\n",
    "#I need to fix dz\n",
    "\n",
    "expectedL = 2*(logRBLR - p0)\n",
    "diffx=np.array(abs(expectedL   -   L)) #yfit -y\n",
    "\n",
    "RMS=np.sqrt(1/(N*(N-1.)) * np.sum(np.sqrt(np.add(diffx**2,diffy**2)))) #y\n",
    "\n",
    "#This does not take dtau into account\n",
    "\n",
    "#List of priors for all tau, R=c*tau -> tau=R/c\n",
    "priormax=10**(expectedR+3*RMS)/c #Expected R for that L + 2RMS -> tau prior\n",
    "priormin=10**(expectedR-3*RMS)/c\n",
    "priors=np.vstack((priormin,priormax))\n",
    "priors=priors/(24.*60*60) #s -> days\n",
    "print \"priors\",priors.T\n",
    "#They depend on L as expected\n",
    "\n",
    "print \"priors Shen\",priors[:,dataS].T#*(1+[z_S+z_S])  #*(1+z) to read the plots\n",
    "print \"priors Bentz\",priors[:,dataB].T\n",
    "print \"Some prior from Shen\", priors[:,dataS[0]].T #Bentz nr. x\n",
    "print \"Some prior from Bentz\", priors[:,dataB[0]].T #Bentz nr. x\n",
    "print \"done\""
   ]
  },
  {
   "cell_type": "code",
   "execution_count": null,
   "metadata": {
    "collapsed": false,
    "deletable": true,
    "editable": true
   },
   "outputs": [
    {
     "name": "stdout",
     "output_type": "stream",
     "text": [
      "86.0\n"
     ]
    }
   ],
   "source": [
    "# How large deviations should I expect\n",
    "print N\n",
    "# 86, so I expect 1 point to be a little over 2.5 sigma away\n",
    "# I remove every point beyond 3 sigma\n",
    "\n",
    "sigmaAway=np.array([0.0]*int(N));\n",
    "\n",
    "#Data to use: logz,logTauF,dlogz,dlogz,dlogTauFm,dlogTauFp\n",
    "\n",
    "p0        = f_cosmo2.GetParameter(0)\n",
    "p1        = f_cosmo2.GetParameter(1)\n",
    "\n",
    "\n",
    "asdf = FlatLambdaCDM(H0=70, Om0=p0).luminosity_distance(10**logz).value\n",
    "#p[2]+p[1]*math.log10(cosmo2.luminosity_distance(10**(x[0])).value)\n",
    "\n",
    "asdf = np.array(asdf)\n",
    "logtauF_fit_real_z   = p1+np.log10(asdf)# Fit values for each real z\n",
    "logtauF_fit_real_z = np.array(logtauF_fit_real_z)\n",
    "\n",
    "diff_fit_y = logTauF - logtauF_fit_real_z\n",
    "# expectedz = For a tauF, which z would I expect\n",
    "\n",
    "def diff_findz(x):   # Function to minimise.\n",
    "    return FlatLambdaCDM(H0=70, Om0=p0).luminosity_distance(10**x[0]).value - (logTauF[i] - p1)\n",
    "\n",
    "for i in range(len(logTauF)) :\n",
    "    expectedz = scipy.optimize.fmin_bfgs(diff_findz,[-3,0],disp=False) #http://www.scipy-lectures.org/advanced/mathematical_optimization/\n",
    "\n",
    "\n",
    "\"\"\"\n",
    "for i in range(len(logTauF)):\n",
    "    findthis = logTauF - p1# f(Omega_m,z) = logTauF - p1\n",
    "    expectedz[i] = z[i] #First guess\n",
    "    while eps>0.1 : #Close\n",
    "        diff_findz = FlatLambdaCDM(H0=70, Om0=p0).luminosity_distance(10**logz).value - findthis\n",
    "        if diff_findz>0 :\n",
    "\"\"\"            \n",
    "        \n",
    "\n",
    "diff_fit_x = z - expectedz\n",
    "diff_fit_y = logTauF - logtauF_fit_real_z  # expectedTauF = logtauF_fit_real_z\n",
    "\n",
    "diff_fit_real = np.sqrt(np.add(diff_fit_x**2,diff_fit_y**2)) #Distance from points to fit\n",
    "\n",
    "#diff_fit_real= logTauF - logtauF_fit_real_z #Not taking dz into account again!\n",
    "\n",
    "\n",
    "for i in range(int(N)) : #Which of the asym. sigma to use for sigmaAway\n",
    "    if diff_fit_y[i]>0:\n",
    "        sigmaAway_y = diff_fit_real[i]/float(dlogTauFm[i]) #Downwards\n",
    "    else:\n",
    "        sigmaAway_y = -diff_fit_real[i]/float(dlogTauFp[i]) #Upwards\n",
    "        \n",
    "    sigmaAway_x = abs(diff_fit_real[i]/float(dz[i])) #dz is symmetric\n",
    "    sigmaAway[i]= math.sqrt(sigmaAway_y**2+sigmaAway_x**2)/2. #  /2 if linear\n",
    "print sigmaAway\n",
    "\n",
    "print len(sigmaAway[sigmaAway>3])\n",
    "\n",
    "i_data_used=sigmaAway<=3 #Indices of data close to the fit\n",
    "print i_data_used\n",
    "print \"done\""
   ]
  },
  {
   "cell_type": "code",
   "execution_count": 54,
   "metadata": {
    "collapsed": false,
    "deletable": true,
    "editable": true,
    "scrolled": true
   },
   "outputs": [
    {
     "data": {
      "image/png": "[encoded data removed]",
      "text/plain": [
       "<IPython.core.display.Image object>"
      ]
     },
     "metadata": {},
     "output_type": "display_data"
    },
    {
     "data": {
      "image/png": "[encoded data removed]",
      "text/plain": [
       "<IPython.core.display.Image object>"
      ]
     },
     "metadata": {},
     "output_type": "display_data"
    }
   ],
   "source": [
    "#Show plots\n",
    "\n",
    "x = Image(\"tauFz.png\") \n",
    "y = Image(\"RL.png\") \n",
    "display(x,y)"
   ]
  },
  {
   "cell_type": "code",
   "execution_count": 43,
   "metadata": {
    "collapsed": false,
    "deletable": true,
    "editable": true
   },
   "outputs": [
    {
     "name": "stdout",
     "output_type": "stream",
     "text": [
      "[[1]\n",
      " [2]\n",
      " [3]]\n",
      "[[1 2 3]\n",
      " [1 2 3]]\n",
      "[1 2]\n",
      "[1 2 3]\n",
      "[-1  0  1]\n"
     ]
    }
   ],
   "source": [
    "test=np.array([1,2,3])\n",
    "test=test.T\n",
    "print np.vstack(test)\n",
    "print np.vstack((test,test))\n",
    "print test[:2]\n",
    "print test\n",
    "print test -2"
   ]
  },
  {
   "cell_type": "code",
   "execution_count": 57,
   "metadata": {
    "collapsed": false,
    "deletable": true,
    "editable": true
   },
   "outputs": [
    {
     "name": "stdout",
     "output_type": "stream",
     "text": [
      "[ True  True False  True  True  True  True  True  True  True  True  True\n",
      "  True  True  True]\n",
      "[ 0.45809999  0.4418      0.58719999  0.26280001  0.2647      0.60369998\n",
      "  0.75099999  0.4738      0.53240001  0.5266      0.18709999  0.1725\n",
      "  0.4253      0.2439    ]\n"
     ]
    }
   ],
   "source": [
    "z_S=np.array(z_S)\n",
    "kage=i_data_used[:len(z_S)]\n",
    "print kage\n",
    "print z_S[kage]\n",
    "#print z_S[i_data_used[:len(z_S)]]"
   ]
  },
  {
   "cell_type": "code",
   "execution_count": 32,
   "metadata": {
    "collapsed": false,
    "deletable": true,
    "editable": true
   },
   "outputs": [
    {
     "ename": "SyntaxError",
     "evalue": "invalid syntax (<ipython-input-32-d72a452fcbb4>, line 2)",
     "output_type": "error",
     "traceback": [
      "\u001b[0;36m  File \u001b[0;32m\"<ipython-input-32-d72a452fcbb4>\"\u001b[0;36m, line \u001b[0;32m2\u001b[0m\n\u001b[0;31m    print z_S+[:,z_S]\u001b[0m\n\u001b[0m               ^\u001b[0m\n\u001b[0;31mSyntaxError\u001b[0m\u001b[0;31m:\u001b[0m invalid syntax\n"
     ]
    }
   ],
   "source": [
    "print z_S\n",
    "print z_S+[:,z_S]"
   ]
  },
  {
   "cell_type": "code",
   "execution_count": 51,
   "metadata": {
    "collapsed": false
   },
   "outputs": [
    {
     "data": {
      "text/plain": [
       "86"
      ]
     },
     "execution_count": 51,
     "metadata": {},
     "output_type": "execute_result"
    }
   ],
   "source": [
    "len(logTauF)"
   ]
  },
  {
   "cell_type": "code",
   "execution_count": null,
   "metadata": {
    "collapsed": true
   },
   "outputs": [],
   "source": []
  }
 ],
 "metadata": {
  "kernelspec": {
   "display_name": "Python 2",
   "language": "python",
   "name": "python2"
  },
  "language_info": {
   "codemirror_mode": {
    "name": "ipython",
    "version": 2
   },
   "file_extension": ".py",
   "mimetype": "text/x-python",
   "name": "python",
   "nbconvert_exporter": "python",
   "pygments_lexer": "ipython2",
   "version": "2.7.12"
  }
 },
 "nbformat": 4,
 "nbformat_minor": 2
}
