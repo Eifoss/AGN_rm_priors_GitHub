{
 "cells": [
  {
   "cell_type": "code",
   "execution_count": 2,
   "metadata": {
    "collapsed": false,
    "deletable": true,
    "editable": true
   },
   "outputs": [
    {
     "name": "stderr",
     "output_type": "stream",
     "text": [
      "C:\\root_v5.34.36\\bin\\ROOT.py:466: UserWarning: \"from ROOT import *\" is not supported under IPython\n",
      "  warnings.warn( '\"from ROOT import *\" is not supported under IPython' )\n"
     ]
    },
    {
     "name": "stdout",
     "output_type": "stream",
     "text": [
      "done\n"
     ]
    }
   ],
   "source": [
    "#I plot data from Shen and Bentz (soon)\n",
    "import ROOT\n",
    "from ROOT import *\n",
    "from array import array\n",
    "import math\n",
    "from IPython.display import Image\n",
    "from IPython.display import display\n",
    "import numpy as np\n",
    "import astropy\n",
    "import astropy.units as u\n",
    "from astropy.cosmology import Planck15 as cosmo\n",
    "from astropy.cosmology import FlatLambdaCDM\n",
    "from astropy.cosmology import LambdaCDM\n",
    "import scipy\n",
    "import matplotlib\n",
    "import matplotlib.pyplot as plt\n",
    "\n",
    "# Setting what to be shown in statistics box:\n",
    "gStyle.SetOptStat(1111)   # Print for stat: Entries, Mean, and RMS\n",
    "gStyle.SetOptFit(1111)    # Print for fit:  Everything!\n",
    "\n",
    "r = TRandom3()\n",
    "\n",
    "#---------------------------------------------------------------------------------\n",
    "### Constants ###\n",
    "        \n",
    "c         = 299792458. #m/s\n",
    "H0        = 2.23 *10.**(-18) # s^-1      = 69 (km/s)/Mpc\n",
    "dH0       = 0.03 *10.**(-18) # s^-1      = 1 (km/s)/Mpc\n",
    "L_sol     = 3.828*10**(26) # W\n",
    "\n",
    "print \"done\""
   ]
  },
  {
   "cell_type": "code",
   "execution_count": 3,
   "metadata": {
    "collapsed": false,
    "deletable": true,
    "editable": true
   },
   "outputs": [
    {
     "name": "stdout",
     "output_type": "stream",
     "text": [
      "done\n"
     ]
    }
   ],
   "source": [
    "#----------------------------------------------------------------------\n",
    "# Read data\n",
    "#----------------------------------------------------------------------\n",
    "### Bentz 13 part I ###\n",
    "#name    z    D_L   dD   A_B\n",
    "\n",
    "#f_lambda(5100*(1+z))\n",
    "\n",
    "name_B          =[]\n",
    "z_B             = array(\"f\", [])\n",
    "D_B             = array(\"f\", [])\n",
    "dD_B            = array(\"f\", [])\n",
    "A_B_B           = array(\"f\", [])\n",
    "\n",
    "with open( 'Bentz13zDA.txt', 'r' ) as infile :\n",
    "    for line in infile:\n",
    "        line = line.strip().split()\n",
    "        \n",
    "        name_B.append((line[0]))\n",
    "        \n",
    "        z_B.append(float(line[1]))\n",
    "        \n",
    "        D_B.append(float(line[2])*3.0857*10**22) #Mpc -> m\n",
    "        dD_B.append(float(line[3])*3.0857*10**22)\n",
    "        \n",
    "        A_B_B.append(float(line[4]))\n",
    "#---------------------------------------------------------------------------------\n",
    "### Bentz 13 part II ###\n",
    "#name/a    tau  +dtau   -dtau    F  dF    L   dL\n",
    "# a=same name\n",
    "\n",
    "#f_lambda(5100*(1+z))\n",
    "\n",
    "#10^44 ergs s^-1\n",
    "\n",
    "name_B2      = []\n",
    "tau_B2       = array(\"f\", [])\n",
    "dtaup_B2     = array(\"f\", [])\n",
    "dtaum_B2     = array(\"f\", [])\n",
    "F_B2         = array(\"f\", [])\n",
    "dF_B2        = array(\"f\", [])\n",
    "L_B2         = array(\"f\", [])\n",
    "dL_B2        = array(\"f\", [])\n",
    "\n",
    "with open( 'Bentz13tauFL_newer.txt', 'r' ) as infile :\n",
    "#with open( 'Bentz13tauFL_with_priors.txt', 'r' ) as infile :\n",
    "    for line in infile:\n",
    "        line = line.strip().split()\n",
    "        \n",
    "        name_B2.append((line[0]))\n",
    "        \n",
    "        tau_B2.append(float(line[1])*24*60*60) #days -> s\n",
    "        dtaup_B2.append(float(line[2])*24*60*60)\n",
    "        dtaum_B2.append(float(line[3])*24*60*60)\n",
    "        \n",
    "        F_B2.append(float(line[4])*10**(-8)) #10^-15 ergs s^-1 cm^-2 AA^-1 = 10^-15 *10^7 kg s^-3 m^-1\n",
    "        dF_B2.append(float(line[5])*10**(-8))\n",
    "        \n",
    "        #Should be wrong - this is from the article\n",
    "        #L_B2.append(float(line[6])*10**(37)/L_sol) #10^44 ergs s^-1 ->  10^44 * 10^-7 kg m^2 s^-3       \n",
    "        #dL_B2.append(float(line[7])*10**(37)/L_sol)\n",
    "        \n",
    "        #Right way:\n",
    "        #L_B2.append((10**(float(line[6])))*10**(-7)/L_sol) #log(erg s^-1)=log(10^-7 kg m^2 s^-3): log(x)=y -> x=exp(y)\n",
    "        #dL_B2.append((10**(float(line[7])))*10**(-7)/L_sol)\n",
    "        \n",
    "        #log:\n",
    "        L_B2.append(float(line[6])) #log(erg s^-1)=log(10^-7 kg m^2 s^-3): log(x)=y -> x=exp(y)\n",
    "        dL_B2.append(float(line[7]))\n",
    "#---------------------------------------------------------------------------------\n",
    "### Shen ###\n",
    "#name    z    tau    dtau+    dtau-   F    dF    L    dL\n",
    "# a=same name\n",
    "\n",
    "#f_lambda(5100*(1+z))\n",
    "\n",
    "\n",
    "name_S    = []\n",
    "z_S       = array(\"f\", [])\n",
    "tau_S     = array(\"f\", [])\n",
    "dtaup_S   = array(\"f\", [])\n",
    "dtaum_S   = array(\"f\", [])\n",
    "F_S       = array(\"f\", [])\n",
    "dF_S      = array(\"f\", [])\n",
    "L_S       = array(\"f\", [])\n",
    "dL_S      = array(\"f\", [])\n",
    "\n",
    "#with open( 'ShenSDSSztauFL.txt', 'r' ) as infile :\n",
    "with open( 'ShenSDSSztauFL_with_priors_newer.txt', 'r' ) as infile :\n",
    "    for line in infile:\n",
    "        line = line.strip().split()\n",
    "        \n",
    "        name_S.append((line[0]))\n",
    "        \n",
    "        z_S.append(float(line[1]))\n",
    "        \n",
    "        tau_S.append(float(line[2])*24*60*60)  #days -> s\n",
    "        dtaup_S.append(float(line[3])*24*60*60) \n",
    "        dtaum_S.append(float(line[4])*24*60*60) \n",
    "        \n",
    "        F_S.append(float(line[5])*10**(-10)) #10^-17 erg s^-1 cm^-2 AA^-1 =10^-17 *10^7 kg s^-3 m^-1 -> kg s^-3 m^-1\n",
    "        dF_S.append(float(line[6])*10**(-10))\n",
    "        \n",
    "        #print float(line[7])\n",
    "        \n",
    "        #L_S.append(math.exp(float(line[7]))*10**(-7)/L_sol) #log(erg s^-1)=log(10^-7 kg m^2 s^-3): log(x)=y -> x=10^y\n",
    "        #dL_S.append(math.exp(float(line[8]))*10**(-7)/L_sol)\n",
    "        \n",
    "        #Right way:\n",
    "        #L_S.append((10**(float(line[7])))*10**(-7)/L_sol) #log(erg s^-1)=log(10^-7 kg m^2 s^-3): log(x)=y -> x=exp(y)\n",
    "        #dL_S.append((10**(float(line[8])))*10**(-7)/L_sol)\n",
    "        \n",
    "        #log:\n",
    "        L_S.append(float(line[7])) #log(erg s^-1)=log(10^-7 kg m^2 s^-3): log(x)=y -> x=exp(y)\n",
    "        dL_S.append(float(line[8]))\n",
    "\n",
    "        #Should be wrong:\n",
    "        #L_S.append(float(line[7])*10**(37)/L_sol) #10^44 ergs s^-1 ->  10^44 * 10^-7 kg m^2 s^-3       \n",
    "        #dL_S.append(float(line[8])*10**(37)/L_sol)\n",
    "print \"done\"        "
   ]
  },
  {
   "cell_type": "code",
   "execution_count": 4,
   "metadata": {
    "collapsed": false,
    "deletable": true,
    "editable": true
   },
   "outputs": [
    {
     "name": "stdout",
     "output_type": "stream",
     "text": [
      "array('f', [0.025790000334382057, 0.025790000334382057, 0.025790000334382057, 0.1420000046491623, 0.1550000011920929, 0.04701999947428703, 0.02638999931514263, 0.02638999931514263, 0.02638999931514263, 0.02638999931514263, 0.03300999850034714, 0.03300999850034714, 0.032710000872612, 0.032710000872612, 0.022190000861883163, 0.022190000861883163, 0.022190000861883163, 0.10000000149011612, 0.03528999909758568, 0.03528999909758568, 0.03528999909758568, 0.23409999907016754, 0.003860000055283308, 0.04493999853730202, 0.008840000256896019, 0.027869999408721924, 0.021090000867843628, 0.009730000048875809, 0.01955999992787838, 0.0023399998899549246, 0.0033199999015778303, 0.02102000080049038, 0.012930000200867653, 0.15834000706672668, 0.06300999969244003, 0.008999999612569809, 0.014630000106990337, 0.1550000011920929, 0.03044999949634075, 0.08959999680519104, 0.017179999500513077, 0.017179999500513077, 0.017179999500513077, 0.017179999500513077, 0.017179999500513077, 0.017179999500513077, 0.017179999500513077, 0.017179999500513077, 0.017179999500513077, 0.017179999500513077, 0.017179999500513077, 0.017179999500513077, 0.017179999500513077, 0.017179999500513077, 0.017179999500513077, 0.017179999500513077, 0.08647000044584274, 0.0314599983394146, 0.0314599983394146, 0.0314599983394146, 0.0314599983394146, 0.029580000787973404, 0.1289999932050705, 0.11243999749422073, 0.2919999957084656, 0.05609999969601631, 0.05609999969601631, 0.005210000090301037, 0.03440000116825104, 0.06298000365495682, 0.0163199994713068])\n",
      "done\n"
     ]
    }
   ],
   "source": [
    "#--------------------------------------------------------------------------------\n",
    "# Combining data\n",
    "#--------------------------------------------------------------------------------\n",
    "# PG1226+023 = PG1226+032 ???\n",
    "# I renamed it 23\n",
    "\n",
    "name= name_S+name_B2\n",
    "\n",
    "#z for each tau\n",
    "z_B2 = array('f',[])\n",
    "for i,x in enumerate(name_B2):\n",
    "    i_name=name_B.index(x) #find index of name_B2 in name_B\n",
    "    z_B2.append(z_B[i_name]) #use z for that index\n",
    "    \n",
    "print z_B2\n",
    "\n",
    "#Shen + Bentz 2013\n",
    "z     = np.array(z_S + z_B2) #Still an array\n",
    "\n",
    "F     = np.array(F_S + F_B2)\n",
    "dF    = np.array(dF_S + dF_B2)\n",
    "\n",
    "L     = np.array(L_S + L_B2)\n",
    "dL    = np.array(dL_S + dL_B2)\n",
    "\n",
    "tau   = np.array(tau_S + tau_B2)\n",
    "dtaum = np.array(dtaum_S + dtaum_B2)\n",
    "dtaup = np.array(dtaup_S + dtaup_B2)\n",
    "\n",
    "\"\"\"\n",
    "\n",
    "NobsPerName=[name_B2.count(x) for x in name_B] #noget galt\n",
    "print NobsPerName\n",
    "\n",
    "z_B2=[]\n",
    "for i in range(len(name_B)): \n",
    "    for j in range(NobsPerName[i]):\n",
    "        z_B2.append(z_B[i])\n",
    "print z_B2 \n",
    "\"\"\"\n",
    "print \"done\""
   ]
  },
  {
   "cell_type": "code",
   "execution_count": 5,
   "metadata": {
    "collapsed": false,
    "deletable": true,
    "editable": true
   },
   "outputs": [
    {
     "name": "stdout",
     "output_type": "stream",
     "text": [
      "done\n"
     ]
    }
   ],
   "source": [
    "#Select data to be used\n",
    "i_data_used=range(len(z_S)+len(z_B2)) #There are 86 data points to begin with\n",
    "\n",
    "#Removing 16 points more than 3 sigma away (y axis) :\n",
    "#i_data_used=[ True  True  False  True  True  True  True  True  True  True  True  True  True  True  True  True  True  False  True  True  False  True  True  False  True  True  True  True  False  True  True  True  False  True  True  True  True  True  False  True  True  True  True  True  True  False  True  True  True  True  False  True  True  True  True  True  False  True  True  True  True  True  True  True  False  True  True  True  True  False  True  True  True  True  True  False  True  True  True  True  True  True  False  False  False  True]\n",
    "#i_data_used = np.array([ True,  True,  False,  True,  True,  True,  True,  True,  True,  True,  True,  True,  True,  True,  True,  True,  True,  False,  True,  True,  False,  True,  True,  False,  True,  True,  True,  True,  False,  True,  True,  True,  False,  True,  True,  True,  True,  True,  False,  True,  True,  True,  True,  True,  True,  False,  True,  True,  True,  True,  False,  True,  True,  True,  True,  True,  False,  True,  True,  True,  True,  True,  True,  True,  False,  True,  True,  True,  True,  False,  True,  True,  True,  True,  True,  False,  True,  True,  True,  True,  True,  True,  False,  False,  False,  True])\n",
    "\n",
    "#Removing 13 points that are truly more than 3 sigma away:\n",
    "i_data_used = np.array([ True,  True, False,  True,  True,  True,  True,  True,  True,  True,  True,  True,  True,  True,  True,  True,  True, False,  True,  True, False,  True,  True, False,  True,  True,  True,  True, False,  True,  True,  True, False,  True,  True,  True,  True,  True, False,  True,  True,  True,  True,  True,  True,  True,  True,  True,  True,  True, False,  True,  True,  True,  True,  True,  True,  True,  True,  True,  True,  True,  True,  True,  True,  True,  True,  True,  True, False,  True,  True,  True,  True,  True, False,  True,  True,  True,  True,  True,  True, False, False, False,  True])\n",
    "\n",
    "#Data with priors\n",
    "i_data_used_priors = np.array([ True,  True, True,  True,  True,  True,  True,  True,  True,  True,  True,  True,  True,  True,  True,  True,  True, True,  True,  True, True,  True,  True, True,  True,  True,  True,  True, True,  True,  True,  True, True,  True,  True,  True,  True,  True, True,  True,  True,  True,  True,  True,  True,  True,  True,  True,  True,  True, True,  True,  True,  True,  True,  True,  True,  True,  True,  True,  True,  True,  True,  True,  True,  True,  True,  True,  True, True,  True,  True,  True,  True,  True, True,  True,  True,  True,  True,  True,  True, True, True, True,  True])\n",
    "i_data_used_priors[15+1] = False\n",
    "i_data_used_priors[15+7:15+10] = False\n",
    "i_data_used_priors[15+13] = False\n",
    "i_data_used_priors[15+15:15+17] = False\n",
    "i_data_used_priors[15+18:15+21] = False\n",
    "i_data_used_priors[15+57:15+60] = False\n",
    "\n",
    "#i_data_used = i_data_used_priors\n",
    "\n",
    "z=z[i_data_used]\n",
    "F=F[i_data_used]\n",
    "dF=dF[i_data_used]\n",
    "L=L[i_data_used]\n",
    "dL=dL[i_data_used]\n",
    "tau=tau[i_data_used]\n",
    "dtaum=dtaum[i_data_used]\n",
    "dtaup=dtaup[i_data_used]\n",
    "name=[x for i,x in enumerate(name) if i_data_used[i]]\n",
    "\n",
    "z_S=np.array(z_S)\n",
    "z_S=z_S[i_data_used[:len(z_S)]]\n",
    "\n",
    "dataS = range(0,len(z_S))\n",
    "dataB = range(len(z_S),len(z))\n",
    "print \"done\""
   ]
  },
  {
   "cell_type": "code",
   "execution_count": 6,
   "metadata": {
    "collapsed": false,
    "deletable": true,
    "editable": true
   },
   "outputs": [
    {
     "name": "stdout",
     "output_type": "stream",
     "text": [
      "73\n",
      "[  36.7          23.3          18.6          21.9          29.6          29.1\n",
      "   34.           14.2          14.1          25.1          21.5          19.2\n",
      "   17.2          10.9          15.26800058    0.          111.           89.8\n",
      "   24.23          0.            0.           38.1          25.9\n",
      "   39.05300058   14.38          0.            0.           24.36699942\n",
      "    0.            0.          150.1           3.75         11.68          2.31\n",
      "    3.99         10.2           3.66          1.87          6.58          3.05\n",
      "    6.16        306.8          37.8           5.55        105.6          16.7\n",
      "  124.3          19.7          18.6          15.9          11.           13.\n",
      "   13.4          21.7          16.4          17.5          26.5          24.8\n",
      "    6.5          14.3           6.3          12.4          95.           19.05\n",
      "    0.            0.            8.72         40.1          71.5         251.8\n",
      "   23.6          46.4          24.3       ]\n"
     ]
    }
   ],
   "source": [
    "print len(tau)\n",
    "print tau/float(24*60*60)"
   ]
  },
  {
   "cell_type": "code",
   "execution_count": null,
   "metadata": {
    "collapsed": false,
    "deletable": true,
    "editable": true
   },
   "outputs": [
    {
     "name": "stdout",
     "output_type": "stream",
     "text": [
      "32840360852.3 "
     ]
    }
   ],
   "source": [
    "#----------------------------------------------------------------------\n",
    "# Analyse data\n",
    "#----------------------------------------------------------------------\n",
    "### tauF vs. z ###\n",
    "    \n",
    "# tauF vs. z\n",
    "tauF          = tau/np.sqrt(F) #tau/sqrt(F)\n",
    "\n",
    "#Slightly wrong uncertainties:\n",
    "dtaumean      = (dtaum+dtaup)/2. #Mean of errors of each side\n",
    "dtauF         = np.sqrt((1./F) * dtaumean**2. + (tau * F**(-3./2.) /2. )**2. * dF**2.)\n",
    "test          = array('f', [math.sqrt(1./F[i] * dtaumean[i]**2 + (tau[i] * F[i]**(-3./2.) /2. )**2 * dF[i]**2) for i,x in enumerate(tau)] )\n",
    "dz            = np.array([0.001]*len(z)) #That order of magnitude\n",
    "\n",
    "print dtauF[0],test[0]\n",
    "\n",
    "# ------- Monte Carlo --------- # \n",
    "# Assume gauss on each side\n",
    "# I generate 2 gaussians and accept values on one side\n",
    "# Combine\n",
    "\n",
    "Npoints   = 10000\n",
    "NegativeF = 0\n",
    "dtauFm    = np.array([])\n",
    "dtauFp    = np.array([])\n",
    "Hist_SimTauF = TH1F(\"Hist_SimTauF\", \";Simulated tau/sqrt(F) for the 16th iteration ;Frequency\", 25, 400000000., 13000000000.)\n",
    "\n",
    "for i in range(len(tau)) : #For all data\n",
    "    simTauF = []\n",
    "    Nhit    = 0\n",
    "    while Nhit<0.5*Npoints: #Simulate many values of TauF (two each time)\n",
    "        tauHigh = r.Gaus(tau[i],dtaup[i])\n",
    "        tauLow  = r.Gaus(tau[i],dtaum[i])\n",
    "        \n",
    "        if tauHigh>tau[i] and tauLow<tau[i] : # Equal numbers of high and low - too much restriction?\n",
    "            simF  = r.Gaus(F[i],dF[i]) #Or something with a possionian distribution?\n",
    "            \n",
    "            if simF>0: #math error if F<0\n",
    "                simTauF.append(tauHigh/math.sqrt(simF))\n",
    "            else:\n",
    "                simTauF.append(tauHigh/0.00000000000001) #How do I avoid doing this?\n",
    "                NegativeF += 1\n",
    "            if i==15: Hist_SimTauF.Fill(simTauF[-1]) #Only one dataset and add latest value\n",
    "            \n",
    "            simF  = r.Gaus(F[i],dF[i]) #New F for the low tau. Necessary?\n",
    "            if simF>0: \n",
    "                simTauF.append(tauLow/math.sqrt(simF))\n",
    "            else:\n",
    "                simTauF.append(tauLow/0.00000000000001) #How do I avoid doing this?\n",
    "                NegativeF += 1\n",
    "            if i==15: Hist_SimTauF.Fill(simTauF[-1])\n",
    "            \n",
    "            Nhit += 1\n",
    "            \n",
    "    # Find assymmetric uncertainties on tauF\n",
    "    NotIn1sig       = (1 - 0.682689492137086)/2. # 1 sig from middle seen from lowest or highest = % not included in +- 1 sig from each side\n",
    "    simTauF.sort()\n",
    "    tauFLow  = simTauF[int(Npoints*NotIn1sig+0.5)] #Why not nearest integer? I'm changing that\n",
    "    tauFHigh = simTauF[-int(Npoints*NotIn1sig+0.5)]\n",
    "    \n",
    "    # how different from actual tauF\n",
    "    dtauFm   =np.append(dtauFm,tauF[i]-tauFLow)\n",
    "    dtauFp   =np.append(dtauFp,tauFHigh-tauF[i])\n",
    "    \n",
    "    if i == 15: \n",
    "        print min(simTauF), max(simTauF)\n",
    "        \n",
    "print len(dtauF),len(dtauFm),len(dtauFp)    \n",
    "print \"tauF[0]: \",tauF[0],\"+-\",dtauF[0], \"+\",dtauFp[0],\"-\",dtauFm[0]    \n",
    "print \"Number of negative simulated F: \", NegativeF            \n",
    "\n",
    "\n",
    "#print \"tauF:\", tauF, \"+-\",dtauF\n",
    "#print \"z:\", z, \"+-\",dz\n",
    "#print \"tau[0]: \",tau[0],\"+-\",dtaumean[0]\n",
    "print \"done\""
   ]
  },
  {
   "cell_type": "code",
   "execution_count": 9,
   "metadata": {
    "collapsed": false,
    "deletable": true,
    "editable": true
   },
   "outputs": [
    {
     "name": "stdout",
     "output_type": "stream",
     "text": [
      "[]\n",
      "[ 0.45809999  0.4418      0.58719999  0.26280001  0.2647      0.60369998\n",
      "  0.75099999  0.4738      0.53240001  0.5266      0.18709999  0.1725\n",
      "  0.4253      0.2439      0.02579     0.02579     0.142       0.155\n",
      "  0.02639     0.02639     0.02639     0.03301     0.03301     0.03271\n",
      "  0.02219     0.02219     0.02219     0.03529     0.03529     0.03529\n",
      "  0.2341      0.00386     0.00884     0.02787     0.02109     0.00973\n",
      "  0.01956     0.00234     0.00332     0.02102     0.01293     0.15834001\n",
      "  0.06301     0.01463     0.155       0.03045     0.0896      0.01718\n",
      "  0.01718     0.01718     0.01718     0.01718     0.01718     0.01718\n",
      "  0.01718     0.01718     0.01718     0.01718     0.01718     0.01718\n",
      "  0.01718     0.01718     0.08647     0.03146     0.03146     0.03146\n",
      "  0.02958     0.12899999  0.11244     0.292       0.0561      0.0561\n",
      "  0.01632   ]\n",
      "done\n"
     ]
    }
   ],
   "source": [
    "#Limit tau\n",
    "\n",
    "#Remove negative tau  - there are none, though\n",
    "\"\"\"\n",
    "print len(tau)\n",
    "hvor=np.where(tau <= 0)\n",
    "print hvor\n",
    "print tau[hvor]\n",
    "\n",
    "condlist = [tau<0]\n",
    "choicelist = tau\n",
    "print np.select(condlist, choicelist)\n",
    "\"\"\"\n",
    "print np.extract(tau<=0, tau) #Some limit\n",
    "print z\n",
    "print \"done\""
   ]
  },
  {
   "cell_type": "code",
   "execution_count": 10,
   "metadata": {
    "collapsed": false,
    "deletable": true,
    "editable": true,
    "scrolled": true
   },
   "outputs": [
    {
     "name": "stdout",
     "output_type": "stream",
     "text": [
      "RBLR: 9.50605909223e+14 + 2.6938151106e+14 + 1.24329928182e+14\n",
      "L: 44.3650016785 +- 0.0010000000475\n",
      "2.15628200461\n",
      "done\n"
     ]
    }
   ],
   "source": [
    "#-------------------------------------------------------------------------------------\n",
    "### L vs. R ###\n",
    "RBLR      = tau*c      #R=c*tau\n",
    "\n",
    "dRBLRp    = dtaup*c  # dR=c*dtau\n",
    "dRBLRm    = dtaum*c  # dR=c*dtau\n",
    "#dRBLR     = array(\"f\", [x*c for x in dtaumean])  # dR=c*dtau\n",
    "\n",
    "print \"RBLR:\", RBLR[0], \"+\",dRBLRp[0], \"+\",dRBLRm[0]\n",
    "print \"L:\", L[0], \"+-\",dL[0]\n",
    "print math.log10(cosmo.luminosity_distance(10.**(-1.5)).value)\n",
    "print \"done\""
   ]
  },
  {
   "cell_type": "code",
   "execution_count": 11,
   "metadata": {
    "collapsed": false,
    "deletable": true,
    "editable": true
   },
   "outputs": [
    {
     "name": "stdout",
     "output_type": "stream",
     "text": [
      "done\n"
     ]
    }
   ],
   "source": [
    "#----------------------------------------------------------------------\n",
    "# Plot data\n",
    "#----------------------------------------------------------------------\n",
    "### Monte Carlo Simulation ###\n",
    "\n",
    "gStyle.SetStatX(0.86);    # Top right corner.\n",
    "gStyle.SetStatY(0.86);\n",
    "\n",
    "canvasMC = TCanvas(\"canvasMC\",\"\", 50, 50, 600, 400)\n",
    "\n",
    "Hist_SimTauF.Draw('')\n",
    "canvasMC.Update()\n",
    "canvasMC.Draw()\n",
    "\n",
    "canvasMC.SaveAs(\"Mont.png\")\n",
    "print \"done\""
   ]
  },
  {
   "cell_type": "code",
   "execution_count": 12,
   "metadata": {
    "collapsed": false,
    "deletable": true,
    "editable": true
   },
   "outputs": [
    {
     "name": "stdout",
     "output_type": "stream",
     "text": [
      "laengder: 73 73 73 73\n",
      "done\n"
     ]
    }
   ],
   "source": [
    "### tauFz ###\n",
    "print \"laengder:\",len(tau), len(z), len(dz), len(dtauF)\n",
    "\n",
    "logTauF   = np.log10(tauF)\n",
    "dlogTauFp = np.log10(1+dtauFp/tauF)\n",
    "dlogTauFm = np.log10(1+dtauFm/tauF)\n",
    "logz      = np.log10(z)\n",
    "dlogz     = np.log10(1+dz/z)\n",
    "\n",
    "print \"done\""
   ]
  },
  {
   "cell_type": "code",
   "execution_count": 18,
   "metadata": {
    "collapsed": false,
    "deletable": true,
    "editable": true
   },
   "outputs": [
    {
     "name": "stdout",
     "output_type": "stream",
     "text": [
      "done\n"
     ]
    }
   ],
   "source": [
    "# Cosmofit with free Omega_tot\n",
    "def fit_fun_cosmo (x, p) :\n",
    "    cosmoFree = LambdaCDM(H0=70, Om0=p[0], Ode0=p[2]) #evt. med p[1] som Om0\n",
    "    #return p[2]+p[1]*math.log10(cosmo2.luminosity_distance(10**(x[0])).value) #in Mpc...\n",
    "    return p[1]+math.log10(cosmoFree.luminosity_distance(10**(x[0])).value) #in Mpc...\n",
    "\n",
    "f_cosmo = TF1(\"f_cosmo\", fit_fun_cosmo, -5,5.,3)#-3., 0., 2)   # Here you need to ALSO define number of variables\n",
    "f_cosmo.SetParLimits(0, 0.001, 0.999)\n",
    "f_cosmo.SetParameters(0,0.9999) #Ideally 0.3089, original 0.2576, remove         # Remember to give good (reasonable) starting values!\n",
    "f_cosmo.SetParameters(1,7.915)\n",
    "f_cosmo.SetParLimits(2, 0.001, 0.999)\n",
    "f_cosmo.SetParameters(2,0.7418) #Ideally 0.6911, original 0.7424\n",
    "\n",
    "#f_cosmo.SetLineColor(kBlue)\n",
    "\n",
    "print \"done\"\n"
   ]
  },
  {
   "cell_type": "code",
   "execution_count": 14,
   "metadata": {
    "collapsed": false,
    "deletable": true,
    "editable": true
   },
   "outputs": [
    {
     "name": "stdout",
     "output_type": "stream",
     "text": [
      "done\n"
     ]
    }
   ],
   "source": [
    "#cosmo2 = FlatLambdaCDM(H0=70, Om0=0.3)\n",
    "# Cosmofit2\n",
    "def fit_fun_cosmo2 (x, p) :\n",
    "    cosmo2 = FlatLambdaCDM(H0=70, Om0=p[0]) #evt. med p[1] som Om0\n",
    "    #return p[2]+p[1]*math.log10(cosmo2.luminosity_distance(10**(x[0])).value) #in Mpc...\n",
    "    return p[1]+math.log10(cosmo2.luminosity_distance(10**(x[0])).value) #in Mpc...\n",
    "\n",
    "f_cosmo2 = TF1(\"f_cosmo2\", fit_fun_cosmo2, -5,5.,2)#-3., 0., 2)   # Here you need to ALSO define number of variables\n",
    "f_cosmo2.SetParLimits(0, 0.001, 0.999)\n",
    "f_cosmo2.SetParameters(0,0.2576) #Ideally 0.3089, here 0.2576         # Remember to give good (reasonable) starting values!\n",
    "f_cosmo2.SetParameters(1,7.887)\n",
    "\n",
    "#f_cosmo.SetLineColor(kBlue)\n",
    "\n",
    "print \"done\""
   ]
  },
  {
   "cell_type": "code",
   "execution_count": 15,
   "metadata": {
    "collapsed": false,
    "deletable": true,
    "editable": true
   },
   "outputs": [
    {
     "name": "stdout",
     "output_type": "stream",
     "text": [
      "done\n"
     ]
    }
   ],
   "source": [
    "# Define Graph_tauFz and canvas\n",
    "\n",
    "#Graph_tauFz = TGraphErrors(len(tau), z, tauF, dz, dtauF)\n",
    "#Graph_tauFz = TGraphAsymmErrors(len(tau),z,tauF,dz,dz,dtauFm,dtauFp)\n",
    "\n",
    "\n",
    "Graph_tauFz = TGraphAsymmErrors(len(tau),logz,logTauF,dlogz,dlogz,dlogTauFm,dlogTauFp)\n",
    "\n",
    "canvas = TCanvas(\"canvas\",\"All data\", 50, 50, 600, 400)\n",
    "\n",
    "Graph_tauFz.GetXaxis().SetTitle(\"log(z)\")\n",
    "Graph_tauFz.GetYaxis().SetTitle(\"log(tau/sqrt(F)) [kg^1/2 s^-1/2 m^-1/2]\") #[s^2.5*kg^-1/2]\")\n",
    "Graph_tauFz.SetTitle(\"\")\n",
    "\n",
    "Graph_tauFz.GetYaxis().SetTitleOffset(1.25)\n",
    "Graph_tauFz.SetLineColor(kBlack)\n",
    "Graph_tauFz.SetMarkerSize(0.5)\n",
    "Graph_tauFz.SetMarkerStyle(20)\n",
    "\n",
    "#Graph_tauFz.GetXaxis().SetRangeUser(-10,5) #or SetLimits?\n",
    "#Graph_tauFz.GetYaxis().SetRangeUser(0,20)\n",
    "print \"done\""
   ]
  },
  {
   "cell_type": "code",
   "execution_count": 17,
   "metadata": {
    "collapsed": false,
    "deletable": true,
    "editable": true
   },
   "outputs": [
    {
     "name": "stderr",
     "output_type": "stream",
     "text": [
      "Fit:0: RuntimeWarning: Abnormal termination of minimization.\n"
     ]
    },
    {
     "name": "stdout",
     "output_type": "stream",
     "text": [
      "done\n"
     ]
    },
    {
     "name": "stderr",
     "output_type": "stream",
     "text": [
      "Fit:0: RuntimeWarning: Abnormal termination of minimization.\n"
     ]
    }
   ],
   "source": [
    "# Fit and draw ROOT plot of tauFz\n",
    "\n",
    "setfit = 2; #1-> Flat, 2->Free\n",
    "\n",
    "if setfit == 1:\n",
    "    Graph_tauFz.Fit(\"f_cosmo2\", \"R+\")\n",
    "    f_cosmo2.Draw(\"same\")\n",
    "else:\n",
    "    Graph_tauFz.Fit(\"f_cosmo\", \"R+\")\n",
    "    f_cosmo.Draw(\"same\")\n",
    "    \n",
    "\n",
    "Graph_tauFz.Draw('AP')\n",
    "canvas.Update()\n",
    "canvas.Draw()\n",
    "canvas.SaveAs(\"tauFz.png\")\n",
    "print \"done\"\n"
   ]
  },
  {
   "cell_type": "code",
   "execution_count": 31,
   "metadata": {
    "collapsed": false,
    "deletable": true,
    "editable": true
   },
   "outputs": [
    {
     "name": "stderr",
     "output_type": "stream",
     "text": [
      "TCanvas::Constructor:0: RuntimeWarning: Deleting canvas with same name: canvasContour\n"
     ]
    },
    {
     "ename": "NameError",
     "evalue": "name 'TGraph' is not defined",
     "output_type": "error",
     "traceback": [
      "\u001b[0;31m---------------------------------------------------------------------------\u001b[0m",
      "\u001b[0;31mNameError\u001b[0m                                 Traceback (most recent call last)",
      "\u001b[0;32m<ipython-input-31-468cf305a7e8>\u001b[0m in \u001b[0;36m<module>\u001b[0;34m()\u001b[0m\n\u001b[1;32m      2\u001b[0m \u001b[0mcanvasContour\u001b[0m \u001b[1;33m=\u001b[0m \u001b[0mTCanvas\u001b[0m\u001b[1;33m(\u001b[0m\u001b[1;34m\"canvasContour\"\u001b[0m\u001b[1;33m,\u001b[0m\u001b[1;34m\"\"\u001b[0m\u001b[1;33m,\u001b[0m \u001b[1;36m50\u001b[0m\u001b[1;33m,\u001b[0m \u001b[1;36m50\u001b[0m\u001b[1;33m,\u001b[0m \u001b[1;36m600\u001b[0m\u001b[1;33m,\u001b[0m \u001b[1;36m400\u001b[0m\u001b[1;33m)\u001b[0m\u001b[1;33m\u001b[0m\u001b[0m\n\u001b[1;32m      3\u001b[0m \u001b[1;33m\u001b[0m\u001b[0m\n\u001b[0;32m----> 4\u001b[0;31m \u001b[0mGraph_test\u001b[0m \u001b[1;33m=\u001b[0m \u001b[0mTGraph\u001b[0m\u001b[1;33m(\u001b[0m\u001b[0mlen\u001b[0m\u001b[1;33m(\u001b[0m\u001b[0mtau\u001b[0m\u001b[1;33m)\u001b[0m\u001b[1;33m,\u001b[0m\u001b[0mlogz\u001b[0m\u001b[1;33m,\u001b[0m\u001b[0mlogTauF\u001b[0m\u001b[1;33m)\u001b[0m\u001b[1;33m\u001b[0m\u001b[0m\n\u001b[0m\u001b[1;32m      5\u001b[0m \u001b[1;33m\u001b[0m\u001b[0m\n\u001b[1;32m      6\u001b[0m \u001b[0mcontourplot\u001b[0m \u001b[1;33m=\u001b[0m \u001b[0mTGraph\u001b[0m\u001b[1;33m.\u001b[0m\u001b[0mContour\u001b[0m\u001b[1;33m(\u001b[0m\u001b[0mnpoints\u001b[0m\u001b[1;33m=\u001b[0m\u001b[1;36m40\u001b[0m\u001b[1;33m,\u001b[0m \u001b[0mpa1\u001b[0m\u001b[1;33m=\u001b[0m\u001b[1;36m0\u001b[0m\u001b[1;33m,\u001b[0m \u001b[0mpa2\u001b[0m\u001b[1;33m=\u001b[0m\u001b[1;36m2\u001b[0m\u001b[1;33m)\u001b[0m  \u001b[1;31m#(Int_t npoints=10, Int_t pa1=0, Int_t pa2=1)\u001b[0m\u001b[1;33m\u001b[0m\u001b[0m\n",
      "\u001b[0;31mNameError\u001b[0m: name 'TGraph' is not defined"
     ]
    }
   ],
   "source": [
    "#Contour plot\n",
    "canvasContour = TCanvas(\"canvasContour\",\"\", 50, 50, 600, 400)\n",
    "\n",
    "Graph_test = TGraph(len(tau),logz,logTauF)\n",
    "\n",
    "contourplot = TGraph.Contour(npoints=40, pa1=0, pa2=2)  #(Int_t npoints=10, Int_t pa1=0, Int_t pa2=1)\n",
    "contourplot.Draw('')\n",
    "canvasContour.Update()\n",
    "canvasContour.Draw()\n",
    "\n",
    "print \"done\"\n"
   ]
  },
  {
   "cell_type": "code",
   "execution_count": 16,
   "metadata": {
    "collapsed": false,
    "deletable": true,
    "editable": true
   },
   "outputs": [
    {
     "name": "stdout",
     "output_type": "stream",
     "text": [
      "start\n",
      "p0:  0.518437045036\n",
      "p1:  7.88674784329\n",
      "p2:  0.998999999714\n"
     ]
    },
    {
     "data": {
      "image/png": "[encoded data removed]",
      "text/plain": [
       "<matplotlib.figure.Figure at 0x28aecaf0>"
      ]
     },
     "metadata": {},
     "output_type": "display_data"
    },
    {
     "name": "stdout",
     "output_type": "stream",
     "text": [
      "Prob: 8.1610340834e-90\n",
      "done\n"
     ]
    }
   ],
   "source": [
    "# Matplotlib plot\n",
    "print \"start\"\n",
    "plt.figure()\n",
    "z_cosmo = np.linspace(0.0,0.8,100)\n",
    "\n",
    "\"\"\"\n",
    "DL      = cosmo.luminosity_distance(z_cosmo) #Fit with this somehow\n",
    "\n",
    "%matplotlib inline\n",
    "plt.plot(z_cosmo,DL.value) #Why does this one disappear?\n",
    "plt.show()\n",
    "\"\"\"\n",
    "\n",
    "nr = 10\n",
    "\n",
    "plt.figure()\n",
    "%matplotlib inline\n",
    "plt.errorbar(logz[dataB], logTauF[dataB], yerr=[dlogTauFm[dataB],dlogTauFp[dataB]], xerr=dlogz[dataB], linestyle='', fmt='.',markersize='5',color='k') #Remember m\n",
    "plt.errorbar(logz[dataS[:nr]], logTauF[dataS[:nr]], yerr=[dlogTauFm[dataS[:nr]],dlogTauFp[dataS[:nr]]], xerr=dlogz[dataS[:nr]], linestyle='', fmt='.',markersize='5',color='r') #Remember m\n",
    "\n",
    "\n",
    "logz_fit      = np.linspace(-3.0,0.0,100)\n",
    "\n",
    "if setfit == 1:\n",
    "    p0        = f_cosmo2.GetParameter(0)\n",
    "    p1        = f_cosmo2.GetParameter(1)\n",
    "    p2        = 0\n",
    "    prob      = f_cosmo2.GetProb()\n",
    "    #rms       = f_cosmo2.GetRMS()\n",
    "    asdf = FlatLambdaCDM(H0=70, Om0=p0).luminosity_distance(10**logz_fit).value\n",
    "    #p[2]+p[1]*math.log10(cosmo2.luminosity_distance(10**(x[0])).value)\n",
    "else:\n",
    "    p0        = f_cosmo.GetParameter(0)\n",
    "    p1        = f_cosmo.GetParameter(1)\n",
    "    p2        = f_cosmo.GetParameter(2)\n",
    "    asdf = LambdaCDM(H0=70, Om0=p0, Ode0=p2).luminosity_distance(10**logz_fit).value\n",
    "    prob      = f_cosmo.GetProb()\n",
    "    #rms       = f_cosmo.GetRMS()\n",
    "    \n",
    "print \"p0: \",p0\n",
    "print \"p1: \",p1\n",
    "print \"p2: \",p2\n",
    "       \n",
    "asdf = np.array(asdf)\n",
    "logtauF_fit   = p1+np.log10(asdf)#*logz_fit #p0*logz_fit\n",
    "plt.plot(logz_fit,logtauF_fit)\n",
    "plt.xlabel('log(z)')\n",
    "plt.ylabel('log(tau/sqrt(F)) [kg^1/2 s^-1/2 m^-1/2]')\n",
    "\n",
    "plt.show()\n",
    "print \"Prob:\", prob\n",
    "#print \"RMS:\", rms\n",
    "print \"done\""
   ]
  },
  {
   "cell_type": "code",
   "execution_count": 9,
   "metadata": {
    "collapsed": false,
    "deletable": true,
    "editable": true
   },
   "outputs": [
    {
     "ename": "NameError",
     "evalue": "name 'RBLR' is not defined",
     "output_type": "error",
     "traceback": [
      "\u001b[0;31m---------------------------------------------------------------------------\u001b[0m",
      "\u001b[0;31mNameError\u001b[0m                                 Traceback (most recent call last)",
      "\u001b[0;32m<ipython-input-9-dbbb445f13c2>\u001b[0m in \u001b[0;36m<module>\u001b[0;34m()\u001b[0m\n\u001b[1;32m      3\u001b[0m \u001b[0mgStyle\u001b[0m\u001b[1;33m.\u001b[0m\u001b[0mSetOptFit\u001b[0m\u001b[1;33m(\u001b[0m\u001b[1;36m1111\u001b[0m\u001b[1;33m)\u001b[0m    \u001b[1;31m# Print for fit:  Everything!\u001b[0m\u001b[1;33m\u001b[0m\u001b[0m\n\u001b[1;32m      4\u001b[0m \u001b[1;33m\u001b[0m\u001b[0m\n\u001b[0;32m----> 5\u001b[0;31m \u001b[0mlogRBLR\u001b[0m   \u001b[1;33m=\u001b[0m \u001b[0mnp\u001b[0m\u001b[1;33m.\u001b[0m\u001b[0mlog10\u001b[0m\u001b[1;33m(\u001b[0m\u001b[0mRBLR\u001b[0m\u001b[1;33m)\u001b[0m\u001b[1;33m\u001b[0m\u001b[0m\n\u001b[0m\u001b[1;32m      6\u001b[0m \u001b[0mdlogRBLRp\u001b[0m \u001b[1;33m=\u001b[0m \u001b[0mnp\u001b[0m\u001b[1;33m.\u001b[0m\u001b[0mlog10\u001b[0m\u001b[1;33m(\u001b[0m\u001b[1;36m1\u001b[0m\u001b[1;33m+\u001b[0m\u001b[0mdRBLRp\u001b[0m\u001b[1;33m/\u001b[0m\u001b[0mRBLR\u001b[0m\u001b[1;33m)\u001b[0m\u001b[1;33m\u001b[0m\u001b[0m\n\u001b[1;32m      7\u001b[0m \u001b[0mdlogRBLRm\u001b[0m \u001b[1;33m=\u001b[0m \u001b[0mnp\u001b[0m\u001b[1;33m.\u001b[0m\u001b[0mlog10\u001b[0m\u001b[1;33m(\u001b[0m\u001b[1;36m1\u001b[0m\u001b[1;33m+\u001b[0m\u001b[0mdRBLRm\u001b[0m\u001b[1;33m/\u001b[0m\u001b[0mRBLR\u001b[0m\u001b[1;33m)\u001b[0m\u001b[1;33m\u001b[0m\u001b[0m\n",
      "\u001b[0;31mNameError\u001b[0m: name 'RBLR' is not defined"
     ]
    }
   ],
   "source": [
    "### R vs. L plot ###\n",
    "gStyle.SetOptStat(1111)   # Print for stat: Entries, Mean, and RMS\n",
    "gStyle.SetOptFit(1111)    # Print for fit:  Everything!\n",
    "\n",
    "logRBLR   = np.log10(RBLR)\n",
    "dlogRBLRp = np.log10(1+dRBLRp/RBLR)\n",
    "dlogRBLRm = np.log10(1+dRBLRm/RBLR)\n",
    "logL      = np.log10(L) #Unneccesary now?\n",
    "\n",
    "#Graph_RL = TGraphErrors(len(L), L, RBLR, dL, dRBLR)\n",
    "#Graph_RL = TGraphErrors(len(L), logL, logRBLR, logdL, dlogRBLR)\n",
    "Graph_RL = TGraphAsymmErrors(len(L), L, logRBLR, dL, dL, dlogRBLRm,dlogRBLRm) #RIGTIG\n",
    "#Graph_tauFz = TGraphAsymmErrors(len(tau),logz,logTauF,dlogz,dlogz,dlogTauFm,dlogTauFp)\n",
    "\n",
    "canvas2 = TCanvas(\"canvas2\",\"\", 50, 50, 600, 400)\n",
    "\n",
    "#fitRL = TF1(\"fitRL\", \"[0]+[1]*x\" , -10., 10.**(13))\n",
    "fitRL = TF1(\"fitRL\", \"[0]+0.5*x\" , -10., 10.**(13))\n",
    "\n",
    "fitRL.SetParameter(0,-9)\n",
    "fitRL.SetNpx(500) #good resolution\n",
    "\n",
    "Graph_RL.Fit(\"fitRL\", \"R\")\n",
    "\n",
    "Graph_RL.GetXaxis().SetTitle(\"log(L) [W]\") #/L_sol\")\n",
    "Graph_RL.GetYaxis().SetTitle(\"log(R_BLR) [m]\")\n",
    "Graph_RL.SetTitle(\"\")\n",
    "\n",
    "Graph_RL.SetLineColor(kBlack)\n",
    "Graph_RL.SetMarkerSize(0.5)\n",
    "Graph_RL.SetMarkerStyle(20)\n",
    "\n",
    "fitRL.Draw(\"same\")\n",
    "Graph_RL.Draw('AP')\n",
    "canvas2.Update()\n",
    "canvas2.SaveAs(\"RL.png\")\n",
    "print \"done\""
   ]
  },
  {
   "cell_type": "code",
   "execution_count": 45,
   "metadata": {
    "collapsed": false,
    "deletable": true,
    "editable": true
   },
   "outputs": [
    {
     "data": {
      "image/png": "[encoded data removed]",
      "text/plain": [
       "<matplotlib.figure.Figure at 0x7d802d90>"
      ]
     },
     "metadata": {},
     "output_type": "display_data"
    },
    {
     "name": "stdout",
     "output_type": "stream",
     "text": [
      "Prob: 0.0\n",
      "done\n"
     ]
    }
   ],
   "source": [
    "# Matplotlib plot\n",
    "plt.figure()\n",
    "\n",
    "%matplotlib inline\n",
    "\n",
    "plt.errorbar(L[dataB], logRBLR[dataB], yerr=[dlogRBLRm[dataB],dlogRBLRp[dataB]], xerr=dL[dataB], linestyle='', fmt='.',markersize='5',color='k') #Remember m\n",
    "plt.errorbar(L[dataS], logRBLR[dataS], yerr=[dlogRBLRm[dataS],dlogRBLRp[dataS]], xerr=dL[dataS], linestyle='', fmt='.',markersize='5',color='r') #Remember m\n",
    "p0RL           = fitRL.GetParameter(0)\n",
    "p1RL           = fitRL.GetParameter(1)\n",
    "\n",
    "L_fit        = np.linspace(41.5,46,100)\n",
    "#logRBLR_fit  = p0 + p1*L_fit\n",
    "logRBLR_fit  = p0RL + 0.5*L_fit\n",
    "plt.plot(L_fit,logRBLR_fit)\n",
    "plt.xlabel('log(L) [W]')\n",
    "plt.ylabel('log(R_BLR) [m]')\n",
    "\n",
    "plt.show()\n",
    "print \"Prob:\", fitRL.GetProb()\n",
    "#print \"RMS:\", fitRL.GetRMS()\n",
    "print \"done\""
   ]
  },
  {
   "cell_type": "code",
   "execution_count": 12,
   "metadata": {
    "collapsed": false,
    "deletable": true,
    "editable": true
   },
   "outputs": [
    {
     "ename": "NameError",
     "evalue": "name 'RBLR' is not defined",
     "output_type": "error",
     "traceback": [
      "\u001b[0;31m---------------------------------------------------------------------------\u001b[0m",
      "\u001b[0;31mNameError\u001b[0m                                 Traceback (most recent call last)",
      "\u001b[0;32m<ipython-input-12-0bd3f18e37e2>\u001b[0m in \u001b[0;36m<module>\u001b[0;34m()\u001b[0m\n\u001b[1;32m      1\u001b[0m \u001b[1;31m#RMS of RL\u001b[0m\u001b[1;33m\u001b[0m\u001b[1;33m\u001b[0m\u001b[0m\n\u001b[1;32m      2\u001b[0m \u001b[1;33m\u001b[0m\u001b[0m\n\u001b[0;32m----> 3\u001b[0;31m \u001b[0mN\u001b[0m\u001b[1;33m=\u001b[0m\u001b[0mfloat\u001b[0m\u001b[1;33m(\u001b[0m\u001b[0mlen\u001b[0m\u001b[1;33m(\u001b[0m\u001b[0mRBLR\u001b[0m\u001b[1;33m)\u001b[0m\u001b[1;33m)\u001b[0m\u001b[1;33m\u001b[0m\u001b[0m\n\u001b[0m\u001b[1;32m      4\u001b[0m \u001b[0mp0RL\u001b[0m        \u001b[1;33m=\u001b[0m \u001b[0mfitRL\u001b[0m\u001b[1;33m.\u001b[0m\u001b[0mGetParameter\u001b[0m\u001b[1;33m(\u001b[0m\u001b[1;36m0\u001b[0m\u001b[1;33m)\u001b[0m\u001b[1;33m\u001b[0m\u001b[0m\n\u001b[1;32m      5\u001b[0m \u001b[0mexpectedR\u001b[0m \u001b[1;33m=\u001b[0m \u001b[0mnp\u001b[0m\u001b[1;33m.\u001b[0m\u001b[0marray\u001b[0m\u001b[1;33m(\u001b[0m\u001b[0mp0RL\u001b[0m \u001b[1;33m+\u001b[0m \u001b[1;36m0.5\u001b[0m\u001b[1;33m*\u001b[0m\u001b[0mL\u001b[0m\u001b[1;33m)\u001b[0m\u001b[1;33m\u001b[0m\u001b[0m\n",
      "\u001b[0;31mNameError\u001b[0m: name 'RBLR' is not defined"
     ]
    }
   ],
   "source": [
    "#RMS of RL\n",
    "\n",
    "N=float(len(RBLR))\n",
    "p0RL        = fitRL.GetParameter(0)\n",
    "expectedR = np.array(p0RL + 0.5*L)\n",
    "#diff=abs(expectedR   -   logRBLR) #yfit -y\n",
    "diffy=np.array(abs(expectedR   -   logRBLR)) #yfit -y\n",
    "\n",
    "#RMS=math.sqrt(1/(N-1.) * sum(diff**2))/math.sqrt(N) #y   sqrt(1/())\n",
    "\n",
    "#Maybe also for x and then sqrt(RMSx^2+RMSy^2) ?\n",
    "#I need to fix dz\n",
    "\n",
    "expectedL = 2*(logRBLR - p0RL)\n",
    "diffx=np.array(abs(expectedL   -   L)) #yfit -y\n",
    "\n",
    "#RMS=np.sqrt(1/(N*(N-1.)) * np.sum(np.sqrt(np.add(diffx**2,diffy**2)))) #y\n",
    "RMS_y = np.sqrt(1/(N-1.) * np.sum((diffy-np.mean(diffy))**2)) #y\n",
    "RMS_x = np.sqrt(1/(N-1.) * np.sum((diffx-np.mean(diffx))**2)) #x\n",
    "#RMS = math.sqrt(RMS_y**2+RMS_x**2) \n",
    "\n",
    "diffxy=np.sqrt(np.add(diffx**2,diffy**2))\n",
    "RMS = np.sqrt(1/(N-1.) * np.sum((diffxy-np.mean(diffxy))**2)) #x\n",
    "\n",
    "#This does not take dtau into account\n",
    "\n",
    "#List of priors for all tau, R=c*tau -> tau=R/c\n",
    "priormax=(10**(expectedR+2*RMS))/c #Expected R for that L + 2RMS -> tau prior\n",
    "priormin=(10**(expectedR-2*RMS))/c\n",
    "priors=np.vstack((priormin,priormax))\n",
    "priors=priors/(24.*60*60) #s -> days\n",
    "\n",
    "print len(priors.T)\n",
    "print \"priors\",priors.T\n",
    "#They depend on L as expected\n",
    "\n",
    "print \"priors Shen\",priors[:,dataS].T*(1+np.array([z_S,z_S]).T)  #*(1+z) to read the plots\n",
    "print \"priors Bentz\",priors[:,dataB].T\n",
    "\n",
    "print (priormax[0]+priormin[0])/2.\n",
    "print 10**(expectedR[0])/c #Errors are only symmetric in log-space\n",
    "print \"done\"\n",
    "print RMS"
   ]
  },
  {
   "cell_type": "code",
   "execution_count": 181,
   "metadata": {
    "collapsed": false,
    "deletable": true,
    "editable": true
   },
   "outputs": [
    {
     "name": "stdout",
     "output_type": "stream",
     "text": [
      "[[  6.02409426  97.79248098]]\n",
      "14.65 + 5.7 - 4.85\n",
      "[ 16.8  12.5]\n",
      "23.6779741325\n",
      "L: 43.7399997711 +- 0.054999999702\n",
      "F: 6.68499993139e-08 +- 1.99999994344e-09\n"
     ]
    }
   ],
   "source": [
    "# Peterson paper 1 data:\n",
    "#Mrk 335: dataB[0:2]     6.02409426  97.79248098\n",
    "#Mrk 590: dataB[6:10]    3.96863962  64.42513969\n",
    "#Akn 120: dataB[12:14]   6.05886588  98.3569481 \n",
    "#Mrk 79: dataB[14:17]    5.20664454  84.52236394\n",
    "#Mrk 110: dataB[18:21]   5.08813161  82.59847744\n",
    "#Mrk 817: dataB[57:60]   5.43115253  88.16692737\n",
    "\n",
    "Prange=dataB[0:2]\n",
    "L_P = np.mean(L[Prange])\n",
    "logRBLR_P   = np.mean(logRBLR[Prange])\n",
    "tau_P = np.mean(tau[Prange])/float(24*60*60)\n",
    "dtaup_P = np.mean(dtaup[Prange])/float(24*60*60)\n",
    "dtaum_P = np.mean(dtaum[Prange])/float(24*60*60)\n",
    "\n",
    "expectedR_P = np.array(p0RL + 0.5*L_P) # P for Peterson\n",
    "#diffy_P=np.array(abs(expectedR_P   -   logRBLR_P)) #yfit - y\n",
    "#expectedL_P = 2*(logRBLR_P - p0RL)\n",
    "#diffx_P=np.array(abs(expectedL_P   -   L_P)) #yfit - y\n",
    "\n",
    "#RMS_P=np.sqrt(1/(N*(N-1.)) * np.sum(np.sqrt(np.add(diffx**2,diffy**2)))) #y\n",
    "\n",
    "priormax_P=10**(expectedR_P+2*RMS)/c\n",
    "priormin_P=10**(expectedR_P-2*RMS)/c\n",
    "priors_P=np.vstack((priormin_P,priormax_P)).T/(24.*60*60)\n",
    "print priors_P\n",
    "print tau_P, \"+\", dtaup_P, \"-\", dtaum_P\n",
    "print tau[Prange]/float(24*60*60)\n",
    "\n",
    "# new tau * old sig/oldtau = new sig\n",
    "print (38.97554169)*8.9/(tau_P)\n",
    "print \"L:\", L_P, \"+-\", np.mean(dL[Prange])\n",
    "print \"F:\", np.mean(F[Prange]), \"+-\", np.mean(dF[Prange])"
   ]
  },
  {
   "cell_type": "code",
   "execution_count": 177,
   "metadata": {
    "collapsed": false,
    "deletable": true,
    "editable": true
   },
   "outputs": [
    {
     "name": "stdout",
     "output_type": "stream",
     "text": [
      "Some prior from Bentz [   8.22036372  133.44574772]\n",
      "tau_B from the paper 38.1 + 21.3 - 15.3\n",
      "\n",
      "0.0916832954278\n",
      "0.203441979788\n",
      "30.2063936927\n"
     ]
    }
   ],
   "source": [
    "# Print priors for a measurement\n",
    "nr = 10\n",
    "\n",
    "\"\"\"\n",
    "print \"Some prior from Shen\", priors[:,dataS[nr]].T*(1+np.array([z_S[nr],z_S[nr]]).T) #Bentz nr. x\n",
    "print \"tau_S*(1+z) from the paper\", tau_S[nr]/float(24*60*60)*(1+z_S[nr]),\"+\",dtaup_S[nr]/float(24*60*60)*(1+z_S[nr]),\"-\",dtaum_S[nr]/float(24*60*60)*(1+z_S[nr])\n",
    "\n",
    "print \"\"\n",
    "print 0/(1.+z_S[nr])\n",
    "print 0/(1.+z_S[nr])\n",
    "print 16.8949937386/(1.+z_S[nr])\n",
    "print \"\"\n",
    "#\"\"\"\n",
    "\n",
    "print \"Some prior from Bentz\", priors[:,dataB[nr]].T #Bentz no. x\n",
    "print \"tau_B from the paper\", tau_B2[nr]/float(24*60*60),\"+\",dtaup_B2[nr]/float(24*60*60),\"-\",dtaum_B2[nr]/float(24*60*60)\n",
    "print \"\"\n",
    "#print \"Some prior from Bentz\", priors[:,dataB[nr]].T*(1+np.array([z_B2[nr],z_B2[nr]]).T) #Bentz no. x\n",
    "#print \"tau_B from the paper\", tau_B2[nr]/float(24*60*60)*(1+z_B2[nr]),\"+\",dtaup_B2[nr]/float(24*60*60)*(1+z_B2[nr]),\"-\",dtaum_B2[nr]/float(24*60*60)*(1+z_B2[nr])\n",
    "\n",
    "# new tau * old sig/oldtau = new sig\n",
    "print (4.78511446)*0.73/(tau_B2[nr]/float(24*60*60))\n",
    "print (10**(expectedR[nr])/c - tau[nr])/tau[nr]\n",
    "print 10**(expectedR[nr])/c/float(24*60*60)"
   ]
  },
  {
   "cell_type": "code",
   "execution_count": 91,
   "metadata": {
    "collapsed": false,
    "deletable": true,
    "editable": true
   },
   "outputs": [
    {
     "name": "stdout",
     "output_type": "stream",
     "text": [
      "86.0\n"
     ]
    },
    {
     "ename": "AttributeError",
     "evalue": "'numpy.ndarray' object has no attribute 'x'",
     "output_type": "error",
     "traceback": [
      "\u001b[0;31m---------------------------------------------------------------------------\u001b[0m",
      "\u001b[0;31mAttributeError\u001b[0m                            Traceback (most recent call last)",
      "\u001b[0;32m<ipython-input-91-c3cbd3dc3b8d>\u001b[0m in \u001b[0;36m<module>\u001b[0;34m()\u001b[0m\n\u001b[1;32m     34\u001b[0m     \u001b[0moptim\u001b[0m \u001b[1;33m=\u001b[0m \u001b[0mscipy\u001b[0m\u001b[1;33m.\u001b[0m\u001b[0moptimize\u001b[0m\u001b[1;33m.\u001b[0m\u001b[0mfmin_bfgs\u001b[0m\u001b[1;33m(\u001b[0m\u001b[0mdiff_findz\u001b[0m\u001b[1;33m,\u001b[0m\u001b[0mlogz\u001b[0m\u001b[1;33m[\u001b[0m\u001b[0mi\u001b[0m\u001b[1;33m]\u001b[0m\u001b[1;33m,\u001b[0m\u001b[0mdisp\u001b[0m\u001b[1;33m=\u001b[0m\u001b[0mFalse\u001b[0m\u001b[1;33m)\u001b[0m \u001b[1;31m#  minimize? fmin_bfgs?    http://www.scipy-lectures.org/advanced/mathematical_optimization/\u001b[0m\u001b[1;33m\u001b[0m\u001b[0m\n\u001b[1;32m     35\u001b[0m     \u001b[1;31m#optim = scipy.optimize.minimize(diff_findz,logz[i]) # Check around z_i.  minimize? fmin_bfgs?    http://www.scipy-lectures.org/advanced/mathematical_optimization/\u001b[0m\u001b[1;33m\u001b[0m\u001b[1;33m\u001b[0m\u001b[0m\n\u001b[0;32m---> 36\u001b[0;31m     \u001b[0mexpectedz\u001b[0m \u001b[1;33m[\u001b[0m\u001b[0mi\u001b[0m\u001b[1;33m]\u001b[0m \u001b[1;33m=\u001b[0m \u001b[0moptim\u001b[0m\u001b[1;33m.\u001b[0m\u001b[0mx\u001b[0m\u001b[1;33m\u001b[0m\u001b[0m\n\u001b[0m\u001b[1;32m     37\u001b[0m     \u001b[0merrorMinimisationRel\u001b[0m\u001b[1;33m[\u001b[0m\u001b[0mi\u001b[0m\u001b[1;33m]\u001b[0m \u001b[1;33m=\u001b[0m \u001b[0mabs\u001b[0m\u001b[1;33m(\u001b[0m \u001b[0mnp\u001b[0m\u001b[1;33m.\u001b[0m\u001b[0mlog10\u001b[0m\u001b[1;33m(\u001b[0m\u001b[0mFlatLambdaCDM\u001b[0m\u001b[1;33m(\u001b[0m\u001b[0mH0\u001b[0m\u001b[1;33m=\u001b[0m\u001b[1;36m70\u001b[0m\u001b[1;33m,\u001b[0m \u001b[0mOm0\u001b[0m\u001b[1;33m=\u001b[0m\u001b[0mp0\u001b[0m\u001b[1;33m)\u001b[0m\u001b[1;33m.\u001b[0m\u001b[0mluminosity_distance\u001b[0m\u001b[1;33m(\u001b[0m\u001b[1;36m10\u001b[0m\u001b[1;33m**\u001b[0m\u001b[0mtest\u001b[0m\u001b[1;33m)\u001b[0m\u001b[1;33m.\u001b[0m\u001b[0mvalue\u001b[0m\u001b[1;33m)\u001b[0m \u001b[1;33m+\u001b[0m \u001b[0mp1\u001b[0m \u001b[1;33m-\u001b[0m\u001b[0mlogTauF\u001b[0m\u001b[1;33m[\u001b[0m\u001b[0mi\u001b[0m\u001b[1;33m]\u001b[0m\u001b[1;33m)\u001b[0m\u001b[1;33m/\u001b[0m\u001b[0mlogTauF\u001b[0m\u001b[1;33m[\u001b[0m\u001b[0mi\u001b[0m\u001b[1;33m]\u001b[0m \u001b[1;31m#Relative error\u001b[0m\u001b[1;33m\u001b[0m\u001b[0m\n\u001b[1;32m     38\u001b[0m \u001b[1;33m\u001b[0m\u001b[0m\n",
      "\u001b[0;31mAttributeError\u001b[0m: 'numpy.ndarray' object has no attribute 'x'"
     ]
    }
   ],
   "source": [
    "# How large deviations should I expect\n",
    "print N\n",
    "# 86, so I expect 1 point to be a little over 2.5 sigma away\n",
    "# I remove every point beyond 3 sigma\n",
    "\n",
    "\n",
    "#Data to use: logz,logTauF,dlogz,dlogz,dlogTauFm,dlogTauFp\n",
    "\n",
    "#Already defined:\n",
    "#p0        = f_cosmo2.GetParameter(0)\n",
    "#p1        = f_cosmo2.GetParameter(1)\n",
    "\n",
    "#Project each point on fit in each direction\n",
    "\n",
    "    ### I know logz, and project to find the expected logTauF ###\n",
    "    \n",
    "if setfit ==1:\n",
    "    asdf = FlatLambdaCDM(H0=70, Om0=p0).luminosity_distance(10**logz).value\n",
    "    #p[2]+p[1]*math.log10(cosmo2.luminosity_distance(10**(x[0])).value)\n",
    "else:\n",
    "    asdf = LambdaCDM(H0=70, Om0=p0, Ode0=p2).luminosity_distance(10**logz).value\n",
    "\n",
    "asdf = np.array(asdf)\n",
    "logtauF_fit_real_z   = p1+np.log10(asdf)# Fit values for each real z. expectedTauF = logtauF_fit_real_z\n",
    "logtauF_fit_real_z = np.array(logtauF_fit_real_z) \n",
    "\n",
    "    ### I know logTauF, and project to find the expected logz ###\n",
    "\n",
    "def diff_findz(x):   # Function to minimise. Find z\n",
    "    #return abs( FlatLambdaCDM(H0=70, Om0=p0).luminosity_distance(10**x[0]).value - (logTauF[i] - p1) )    # np.log10(FLCMD(z))+p1 = logtauF =>  np.log10(FLCMD(z))+p1 - logtauF = 0  \n",
    "    if setfit==1:\n",
    "        return abs( np.log10(FlatLambdaCDM(H0=70, Om0=p0).luminosity_distance(10**x[0]).value) + p1 - logTauF[i])    # np.log10(FLCMD(z))+p1 = logtauF =>  np.log10(FLCMD(z))+p1 - logtauF = 0  \n",
    "    else:\n",
    "        return abs( np.log10(LambdaCDM(H0=70, Om0=p0, Ode0=p2).luminosity_distance(10**x[0]).value) + p1 - logTauF[i])    # np.log10(FLCMD(z))+p1 = logtauF =>  np.log10(FLCMD(z))+p1 - logtauF = 0  \n",
    "\n",
    "\n",
    "errorMinimisationRel = np.array([0.0]*int(N)); #To check if the error is small enough\n",
    "expectedz = np.array([0.0]*int(N));\n",
    "\n",
    "verbose = False \n",
    "for i in range(len(logTauF)) : #range(3) :\n",
    "    #expectedz = scipy.optimize.fmin_bfgs(diff_findz,[-3,0],disp=True) #  minimize? fmin_bfgs?    http://www.scipy-lectures.org/advanced/mathematical_optimization/\n",
    "    #optim = scipy.optimize.fmin_bfgs(diff_findz,logz[i],disp=False) #  minimize? fmin_bfgs?    http://www.scipy-lectures.org/advanced/mathematical_optimization/\n",
    "    optim = scipy.optimize.minimize(diff_findz,logz[i]) # Check around z_i.  minimize? fmin_bfgs?    http://www.scipy-lectures.org/advanced/mathematical_optimization/\n",
    "    expectedz [i] = optim.x\n",
    "    if setfit ==1:\n",
    "        errorMinimisationRel[i] = abs( np.log10(FlatLambdaCDM(H0=70, Om0=p0).luminosity_distance(10**test).value) + p1 -logTauF[i])/logTauF[i] #Relative error\n",
    "    else:\n",
    "        errorMinimisationRel[i] = abs( np.log10(LambdaCDM(H0=70, Om0=p0, Ode0=p2).luminosity_distance(10**test).value) + p1 -logTauF[i])/logTauF[i] #Relative error\n",
    "\n",
    "    \n",
    "    if verbose == True:\n",
    "        print \"logz\", logz[i]\n",
    "        print \"expected logz\", expectedz\n",
    "\n",
    "        print \"optim.fun\", optim.fun #What is this?\n",
    "        \n",
    "        if setfit ==1:\n",
    "            print \"function value (should be close to logTauF)\", np.log10(FlatLambdaCDM(H0=70, Om0=p0).luminosity_distance(10**test).value) + p1\n",
    "        else:\n",
    "            print \"function value (should be close to logTauF)\", np.log10(LambdaCDM(H0=70, Om0=p0, Ode0=p2).luminosity_distance(10**test).value) + p1\n",
    "        print \"logTauF\", logTauF[i]\n",
    "        print \"Relative error\", errorMinimisationRel[i]\n",
    "        print \"\"\n",
    "    #print expectedz #Display results\n",
    "    if i%7==0 :\n",
    "        print round(i/float(len(logTauF))), \"%\"\n",
    "print \"Relative error\", errorMinimisationRel #Relative error\n",
    "print \"expected logz\", expectedz\n",
    "print \"logz\", logz\n",
    "print \"done\" "
   ]
  },
  {
   "cell_type": "code",
   "execution_count": 90,
   "metadata": {
    "collapsed": false,
    "deletable": true,
    "editable": true
   },
   "outputs": [
    {
     "name": "stdout",
     "output_type": "stream",
     "text": [
      "1.25337277719\n",
      "110.953650331\n",
      "1.25345275494\n",
      "\n",
      "0.152151600839\n",
      "20.3084471544\n",
      "0.152155871198\n",
      "\n",
      "3.28874466047\n",
      "171.841854033\n",
      "3.2893471117\n",
      "\n",
      "2.02150331505\n",
      "299.398841772\n",
      "2.02154939458\n",
      "\n",
      "1.12769999189\n",
      "77.1306100349\n",
      "1.12782054179\n",
      "\n",
      "1.24124857808\n",
      "113.904420535\n",
      "1.24132228424\n",
      "\n",
      "2.50668565128\n",
      "259.589532014\n",
      "2.50680252737\n",
      "\n",
      "2.31297206406\n",
      "234.785671907\n",
      "2.31308430973\n",
      "\n",
      "2.6970197297\n",
      "367.799209867\n",
      "2.6970922431\n",
      "\n",
      "1.65361176202\n",
      "430.362580544\n",
      "1.65362396895\n",
      "\n",
      "2.43804567613\n",
      "73.7869720298\n",
      "2.43937763841\n",
      "\n",
      "2.31318742704\n",
      "112.895874153\n",
      "2.31367314382\n",
      "\n",
      "0.229588278074\n",
      "7.0661170333\n",
      "0.229709561516\n",
      "\n",
      "1.89163654858\n",
      "96.7116127318\n",
      "1.89199850016\n",
      "\n",
      "0.174505583491\n",
      "37.7586114956\n",
      "0.174507447177\n",
      "\n",
      "1.47848545381\n",
      "9.78238176413\n",
      "1.49566656727\n",
      "\n",
      "1.73435274375\n",
      "19.6371864827\n",
      "1.74115689015\n",
      "\n",
      "8.07287531159\n",
      "13.3439428941\n",
      "10.1387788931\n",
      "\n",
      "0.845935429791\n",
      "22.9043979113\n",
      "0.846512978307\n",
      "\n",
      "0.564162991317\n",
      "17.0791613763\n",
      "0.564471030726\n",
      "\n",
      "3.35413545896\n",
      "27.6125502687\n",
      "3.37915836129\n",
      "\n",
      "0.211225929578\n",
      "0.698370112053\n",
      "0.221605142182\n",
      "\n",
      "0.317855927683\n",
      "4.25068293011\n",
      "0.318748348192\n",
      "\n",
      "3.63093580084\n",
      "16.0384442627\n",
      "3.72771913736\n",
      "\n",
      "2.01044107138\n",
      "7.66785357251\n",
      "2.08332399583\n",
      "\n",
      "1.37198557129\n",
      "14.1627113182\n",
      "1.3784688658\n",
      "\n",
      "2.15963174607\n",
      "6.67899289736\n",
      "2.28223212924\n",
      "\n",
      "2.27787963622\n",
      "16.7791116199\n",
      "2.29916488432\n",
      "\n",
      "4.66122776102\n",
      "22.043598001\n",
      "4.76906711552\n",
      "\n",
      "1.17824961879\n",
      "17.8900078227\n",
      "1.18081337393\n",
      "\n",
      "0.971783459417\n",
      "7.59171819197\n",
      "0.979844218638\n",
      "\n",
      "0.72944192919\n",
      "5.86184597339\n",
      "0.73515610144\n",
      "\n",
      "3.86689646318\n",
      "43.6652400512\n",
      "3.88214926471\n",
      "\n",
      "0.20627036158\n",
      "2.04154217122\n",
      "0.207331335053\n",
      "\n",
      "0.46079140403\n",
      "6.93614390052\n",
      "0.461811608851\n",
      "\n",
      "2.12031168477\n",
      "18.7841007398\n",
      "2.13395006817\n",
      "\n",
      "1.22213410247\n",
      "34.9076343723\n",
      "1.22288379853\n",
      "\n",
      "0.532068054866\n",
      "0.712751215058\n",
      "0.799637515185\n",
      "\n",
      "8.28620387629\n",
      "90.5060893511\n",
      "8.32115185287\n",
      "\n",
      "1.99320593869\n",
      "3.58480031649\n",
      "2.39806773052\n",
      "\n",
      "0.871574195583\n",
      "14.3812903789\n",
      "0.873179235192\n",
      "\n",
      "2.59398215878\n",
      "9.38744817782\n",
      "2.69907218764\n",
      "\n",
      "0.294147589914\n",
      "0.701371954287\n",
      "0.324020074706\n",
      "\n",
      "0.777767008549\n",
      "4.30571895185\n",
      "0.790775219305\n",
      "\n",
      "0.0978209322689\n",
      "0.124363063619\n",
      "0.15841595727\n",
      "\n",
      "2.3107271049\n",
      "2.66252163239\n",
      "4.6513302229\n",
      "\n",
      "0.657518769576\n",
      "7.81021277553\n",
      "0.659861297647\n",
      "\n",
      "0.117031241978\n",
      "0.409167988238\n",
      "0.122133629831\n",
      "\n",
      "0.0175236878075\n",
      "0.491752522489\n",
      "0.0175348247812\n",
      "\n",
      "1.54269341239\n",
      "29.9693439053\n",
      "1.54474135856\n",
      "\n",
      "4.35987043161\n",
      "8.97308323141\n",
      "4.98827456577\n",
      "\n",
      "0.254395680658\n",
      "1.10106281763\n",
      "0.261470300628\n",
      "\n",
      "0.655047219034\n",
      "31.1534138493\n",
      "0.655192069725\n",
      "\n",
      "1.49932688015\n",
      "10.3066619471\n",
      "1.51544756901\n",
      "\n",
      "1.65145303155\n",
      "55.3853863814\n",
      "1.65218766046\n",
      "\n",
      "1.88051170271\n",
      "3.30878359953\n",
      "2.28551863531\n",
      "\n",
      "2.88805860406\n",
      "7.20111044148\n",
      "3.15272024056\n",
      "\n",
      "0.132452333881\n",
      "0.355672123985\n",
      "0.142717691247\n",
      "\n",
      "0.140368386276\n",
      "0.474572245082\n",
      "0.146943140594\n",
      "\n",
      "1.03222865498\n",
      "2.62346528453\n",
      "1.12279103058\n",
      "\n",
      "0.688253574622\n",
      "3.17428494973\n",
      "0.705025249573\n",
      "\n",
      "1.035465617\n",
      "2.35896152115\n",
      "1.15242320116\n",
      "\n",
      "0.430401466456\n",
      "0.744643176193\n",
      "0.52742760738\n",
      "\n",
      "2.20916089061\n",
      "4.23060665474\n",
      "2.59038222949\n",
      "\n",
      "2.59764239313\n",
      "4.49417532513\n",
      "3.18324743574\n",
      "\n",
      "2.27323984252\n",
      "4.94552139057\n",
      "2.55967542396\n",
      "\n",
      "0.948616673099\n",
      "10.3898103898\n",
      "0.952595478637\n",
      "\n",
      "0.469110087702\n",
      "3.21796061267\n",
      "0.474175598597\n",
      "\n",
      "1.1683117171\n",
      "7.92763117341\n",
      "1.18120919868\n",
      "\n",
      "4.38709956036\n",
      "16.1609293246\n",
      "4.55826806181\n",
      "\n",
      "0.663598664262\n",
      "3.13509416116\n",
      "0.67898329951\n",
      "\n",
      "1.17237846378\n",
      "29.1263200242\n",
      "1.17332935401\n",
      "\n",
      "1.63045224727\n",
      "9.94850039604\n",
      "1.65280017989\n",
      "\n",
      "1.75386431504\n",
      "12.4596097652\n",
      "1.77150284786\n",
      "\n",
      "1.87266812996\n",
      "11.882762104\n",
      "1.89636554241\n",
      "\n",
      "3.19119039078\n",
      "21.2335372755\n",
      "3.22785253184\n",
      "\n",
      "2.61022326311\n",
      "10.9912699082\n",
      "2.68709552657\n",
      "\n",
      "1.96299689856\n",
      "79.0340712699\n",
      "1.96360265931\n",
      "\n",
      "1.01319987173\n",
      "37.6871676853\n",
      "1.01356622822\n",
      "\n",
      "1.78303321652\n",
      "62.3152839477\n",
      "1.78376355792\n",
      "\n",
      "0.411295579557\n",
      "5.71254920773\n",
      "0.412365778994\n",
      "\n",
      "1.93047607301\n",
      "8.24327356261\n",
      "1.98569564831\n",
      "\n",
      "3.49951784852\n",
      "4.47631639948\n",
      "5.6122683129\n",
      "\n",
      "9.69139640155\n",
      "23.8514853098\n",
      "10.6064148895\n",
      "\n",
      "11.0299290783\n",
      "87.6640646464\n",
      "11.1182857132\n",
      "\n",
      "1.02994243493\n",
      "3.23344633574\n",
      "1.08653627246\n",
      "\n",
      "[  1.25337278   0.1521516    3.28874466   2.02150332   1.12769999\n",
      "   1.24124858   2.50668565   2.31297206   2.69701973   1.65361176\n",
      "   2.43804568   2.31318743   0.22958828   1.89163655   0.17450558\n",
      "   1.47848545   1.73435274   8.07287531   0.84593543   0.56416299\n",
      "   3.35413546   0.21122593   0.31785593   3.6309358    2.01044107\n",
      "   1.37198557   2.15963175   2.27787964   4.66122776   1.17824962\n",
      "   0.97178346   0.72944193   3.86689646   0.20627036   0.4607914\n",
      "   2.12031168   1.2221341    0.53206805   8.28620388   1.99320594\n",
      "   0.8715742    2.59398216   0.29414759   0.77776701   0.09782093\n",
      "   2.3107271    0.65751877   0.11703124   0.01752369   1.54269341\n",
      "   4.35987043   0.25439568   0.65504722   1.49932688   1.65145303\n",
      "   1.8805117    2.8880586    0.13245233   0.14036839   1.03222865\n",
      "   0.68825357   1.03546562   0.43040147   2.20916089   2.59764239\n",
      "   2.27323984   0.94861667   0.46911009   1.16831172   4.38709956\n",
      "   0.66359866   1.17237846   1.63045225   1.75386432   1.87266813\n",
      "   3.19119039   2.61022326   1.9629969    1.01319987   1.78303322\n",
      "   0.41129558   1.93047607   3.49951785   9.6913964   11.02992908\n",
      "   1.02994243]\n",
      "13\n",
      "[ True  True False  True  True  True  True  True  True  True  True  True\n",
      "  True  True  True  True  True False  True  True False  True  True False\n",
      "  True  True  True  True False  True  True  True False  True  True  True\n",
      "  True  True False  True  True  True  True  True  True  True  True  True\n",
      "  True  True False  True  True  True  True  True  True  True  True  True\n",
      "  True  True  True  True  True  True  True  True  True False  True  True\n",
      "  True  True  True False  True  True  True  True  True  True False False\n",
      " False  True]\n",
      "done\n"
     ]
    }
   ],
   "source": [
    "# Find distance to points in sigma =sigmaAway\n",
    "\n",
    "sigmaAway=np.array([0.0]*int(N));\n",
    "\n",
    "\"\"\"\n",
    "for i in range(len(logTauF)):\n",
    "    findthis = logTauF - p1# f(Omega_m,z) = logTauF - p1\n",
    "    expectedz[i] = z[i] #First guess\n",
    "    while eps>0.1 : #Close\n",
    "        diff_findz = FlatLambdaCDM(H0=70, Om0=p0).luminosity_distance(10**logz).value - findthis\n",
    "        if diff_findz>0 :\n",
    "\"\"\"            \n",
    "        \n",
    "\n",
    "diff_fit_x = logz - expectedz # expectedz = For a tauF, which z would I expect\n",
    "diff_fit_y = logTauF - logtauF_fit_real_z  # expectedTauF = logtauF_fit_real_z\n",
    "\n",
    "\n",
    "#diff_fit_real = np.sqrt(np.add(diff_fit_x**2,diff_fit_y**2)) #WRONG  Distance from points to fit\n",
    "\n",
    "#diff_fit_real= logTauF - logtauF_fit_real_z #Not taking dz into account again!\n",
    "\n",
    "\n",
    "for i in range(int(N)) : \n",
    "    if diff_fit_y[i]>0: #Which of the asym. sigma to use for sigmaAway\n",
    "        sigmaAway_y = diff_fit_y[i]/float(dlogTauFm[i]) #Downwards\n",
    "        #sigmaAway_y = diff_fit_real[i]/float(dlogTauFm[i]) #Downwards\n",
    "    else:\n",
    "        sigmaAway_y = -diff_fit_y[i]/float(dlogTauFp[i]) #Upwards\n",
    "        \n",
    "    sigmaAway_x = abs(diff_fit_x[i]/float(dlogz[i])) #dz is symmetric\n",
    "    #Now, I look at the distance in sigma-space. I have coor to two points on the line.\n",
    "    # (-sigmaAway,0) and (0,sigmaAway_y), find dist to (0,0)\n",
    "    \n",
    "    dist_points_sigmaspace = math.sqrt(sigmaAway_x**2+sigmaAway_y**2)#Distance between points on the fit.\n",
    "    \n",
    "    sigmaAway[i]= sigmaAway_x*sigmaAway_y/dist_points_sigmaspace   #math.sqrt(sigmaAway_y**2+sigmaAway_x**2)/2. #  /2 if linear\n",
    "    print sigmaAway[i]\n",
    "    print sigmaAway_x\n",
    "    print sigmaAway_y\n",
    "    print \"\"\n",
    "\n",
    "print sigmaAway\n",
    "\n",
    "print len(sigmaAway[sigmaAway>3])\n",
    "\n",
    "i_data_used=sigmaAway<=3 #Indices of data close to the fit\n",
    "print i_data_used\n",
    "print \"done\""
   ]
  },
  {
   "cell_type": "code",
   "execution_count": 54,
   "metadata": {
    "collapsed": false,
    "deletable": true,
    "editable": true,
    "scrolled": true
   },
   "outputs": [
    {
     "data": {
      "image/png": "[encoded data removed]",
      "text/plain": [
       "<IPython.core.display.Image object>"
      ]
     },
     "metadata": {},
     "output_type": "display_data"
    },
    {
     "data": {
      "image/png": "[encoded data removed]",
      "text/plain": [
       "<IPython.core.display.Image object>"
      ]
     },
     "metadata": {},
     "output_type": "display_data"
    }
   ],
   "source": [
    "#Show plots\n",
    "\n",
    "x = Image(\"tauFz.png\") \n",
    "y = Image(\"RL.png\") \n",
    "display(x,y)"
   ]
  },
  {
   "cell_type": "code",
   "execution_count": 41,
   "metadata": {
    "collapsed": false,
    "deletable": true,
    "editable": true
   },
   "outputs": [
    {
     "name": "stdout",
     "output_type": "stream",
     "text": [
      "Mrk335  & $ 16.8 ^{+ 4.8 }_{- 4.2 }$ &  0.02579  &  612 $\\pm$ 19  &  43.7 $\\pm$ 0.06 \\\\\n",
      "Mrk335  & $ 12.5 ^{+ 6.6 }_{- 5.5 }$ &  0.02579  &  725 $\\pm$ 21  &  43.78 $\\pm$ 0.05 \\\\\n",
      "Mrk335  & $ 14.3 ^{+ 0.7 }_{- 0.7 }$ &  0.02579  &  584 $\\pm$ 29  &  43.68 $\\pm$ 0.06 \\\\\n",
      "PG0026+129  & $ 111.0 ^{+ 24.1 }_{- 28.3 }$ &  0.142  &  231 $\\pm$ 7  &  44.91 $\\pm$ 0.02 \\\\\n",
      "PG0052+251  & $ 89.8 ^{+ 24.5 }_{- 24.1 }$ &  0.155  &  139 $\\pm$ 8  &  44.75 $\\pm$ 0.03 \\\\\n",
      "Fairall9  & $ 17.4 ^{+ 3.2 }_{- 4.3 }$ &  0.04702  &  295 $\\pm$ 23  &  43.92 $\\pm$ 0.05 \\\\\n",
      "Mrk590  & $ 20.7 ^{+ 3.5 }_{- 2.7 }$ &  0.02639  &  393 $\\pm$ 33  &  43.53 $\\pm$ 0.07 \\\\\n",
      "Mrk590  & $ 14.0 ^{+ 8.5 }_{- 8.8 }$ &  0.02639  &  137 $\\pm$ 31  &  43.07 $\\pm$ 0.11 \\\\\n",
      "Mrk590  & $ 29.2 ^{+ 4.9 }_{- 5.0 }$ &  0.02639  &  240 $\\pm$ 31  &  43.32 $\\pm$ 0.08 \\\\\n",
      "Mrk590  & $ 28.8 ^{+ 3.6 }_{- 4.2 }$ &  0.02639  &  446 $\\pm$ 34  &  43.59 $\\pm$ 0.06 \\\\\n",
      "3C120  & $ 38.1 ^{+ 21.3 }_{- 15.3 }$ &  0.03301  &  368 $\\pm$ 12  &  44.01 $\\pm$ 0.05 \\\\\n",
      "3C120  & $ 25.9 ^{+ 2.3 }_{- 2.3 }$ &  0.03301  &  271 $\\pm$ 10  &  43.87 $\\pm$ 0.05 \\\\\n",
      "Ark120  & $ 47.1 ^{+ 8.3 }_{- 12.4 }$ &  0.03271  &  482 $\\pm$ 45  &  43.92 $\\pm$ 0.06 \\\\\n",
      "Ark120  & $ 37.1 ^{+ 4.8 }_{- 5.4 }$ &  0.03271  &  214 $\\pm$ 43  &  43.57 $\\pm$ 0.1 \\\\\n",
      "Mrk79  & $ 9.0 ^{+ 8.3 }_{- 7.8 }$ &  0.02219  &  554 $\\pm$ 18  &  43.57 $\\pm$ 0.07 \\\\\n",
      "Mrk79  & $ 16.1 ^{+ 6.6 }_{- 6.6 }$ &  0.02219  &  707 $\\pm$ 19  &  43.67 $\\pm$ 0.07 \\\\\n",
      "Mrk79  & $ 16.0 ^{+ 6.4 }_{- 5.8 }$ &  0.02219  &  598 $\\pm$ 19  &  43.6 $\\pm$ 0.07 \\\\\n",
      "PG0804+761  & $ 146.9 ^{+ 18.8 }_{- 18.9 }$ &  0.1  &  482 $\\pm$ 9  &  44.85 $\\pm$ 0.02 \\\\\n",
      "Mrk110  & $ 24.3 ^{+ 5.5 }_{- 8.3 }$ &  0.03529  &  279 $\\pm$ 9  &  43.62 $\\pm$ 0.04 \\\\\n",
      "Mrk110  & $ 20.4 ^{+ 10.5 }_{- 6.3 }$ &  0.03529  &  330 $\\pm$ 9  &  43.69 $\\pm$ 0.04 \\\\\n",
      "Mrk110  & $ 33.3 ^{+ 14.9 }_{- 10.0 }$ &  0.03529  &  197 $\\pm$ 9  &  43.47 $\\pm$ 0.05 \\\\\n",
      "PG0953+414  & $ 150.1 ^{+ 21.6 }_{- 22.6 }$ &  0.2341  &  134 $\\pm$ 4  &  45.13 $\\pm$ 0.01 \\\\\n",
      "NGC3227  & $ 3.75 ^{+ 0.76 }_{- 0.82 }$ &  0.00386  &  478 $\\pm$ 73  &  42.24 $\\pm$ 0.11 \\\\\n",
      "Mrk142  & $ 2.74 ^{+ 0.73 }_{- 0.83 }$ &  0.04494  &  140 $\\pm$ 7  &  43.54 $\\pm$ 0.04 \\\\\n",
      "NGC3516  & $ 11.68 ^{+ 1.02 }_{- 1.53 }$ &  0.00884  &  560 $\\pm$ 174  &  42.73 $\\pm$ 0.21 \\\\\n",
      "SBS1116+583A  & $ 2.31 ^{+ 0.62 }_{- 0.49 }$ &  0.02787  &  13 $\\pm$ 8  &  42.07 $\\pm$ 0.28 \\\\\n",
      "Arp151  & $ 3.99 ^{+ 0.49 }_{- 0.68 }$ &  0.02109  &  59 $\\pm$ 12  &  42.48 $\\pm$ 0.11 \\\\\n",
      "NGC3783  & $ 10.2 ^{+ 3.3 }_{- 2.3 }$ &  0.00973  &  666 $\\pm$ 80  &  42.55 $\\pm$ 0.18 \\\\\n",
      "Mrk1310  & $ 3.66 ^{+ 0.59 }_{- 0.61 }$ &  0.01956  &  37 $\\pm$ 13  &  42.23 $\\pm$ 0.17 \\\\\n",
      "NGC4051  & $ 1.87 ^{+ 0.54 }_{- 0.5 }$ &  0.00234  &  493 $\\pm$ 100  &  41.96 $\\pm$ 0.2 \\\\\n",
      "NGC4151  & $ 6.58 ^{+ 1.12 }_{- 0.76 }$ &  0.00332  &  677 $\\pm$ 198  &  42.09 $\\pm$ 0.22 \\\\\n",
      "Mrk202  & $ 3.05 ^{+ 1.73 }_{- 1.12 }$ &  0.02102  &  30 $\\pm$ 11  &  42.2 $\\pm$ 0.18 \\\\\n",
      "NGC4253  & $ 6.16 ^{+ 1.63 }_{- 1.22 }$ &  0.01293  &  167 $\\pm$ 23  &  42.51 $\\pm$ 0.13 \\\\\n",
      "PG1226+023  & $ 306.8 ^{+ 68.5 }_{- 90.9 }$ &  0.15834  &  2000 $\\pm$ 59  &  45.9 $\\pm$ 0.02 \\\\\n",
      "PG1229+204  & $ 37.8 ^{+ 27.6 }_{- 15.3 }$ &  0.06301  &  82 $\\pm$ 10  &  43.64 $\\pm$ 0.06 \\\\\n",
      "NGC4593  & $ 3.73 ^{+ 0.75 }_{- 0.75 }$ &  0.009  &  802 $\\pm$ 90  &  42.87 $\\pm$ 0.18 \\\\\n",
      "NGC4748  & $ 5.55 ^{+ 1.62 }_{- 2.22 }$ &  0.01463  &  115 $\\pm$ 24  &  42.49 $\\pm$ 0.13 \\\\\n",
      "PG1307+085  & $ 105.6 ^{+ 36.0 }_{- 46.6 }$ &  0.155  &  156 $\\pm$ 4  &  44.79 $\\pm$ 0.02 \\\\\n",
      "Mrk279  & $ 16.7 ^{+ 3.9 }_{- 3.9 }$ &  0.03045  &  398 $\\pm$ 53  &  43.64 $\\pm$ 0.08 \\\\\n",
      "PG1411+442  & $ 124.3 ^{+ 61.0 }_{- 61.7 }$ &  0.0896  &  294 $\\pm$ 8  &  44.5 $\\pm$ 0.02 \\\\\n",
      "NGC5548  & $ 19.7 ^{+ 1.5 }_{- 1.5 }$ &  0.01718  &  616 $\\pm$ 65  &  43.33 $\\pm$ 0.1 \\\\\n",
      "NGC5548  & $ 18.6 ^{+ 2.1 }_{- 2.3 }$ &  0.01718  &  350 $\\pm$ 55  &  43.08 $\\pm$ 0.11 \\\\\n",
      "NGC5548  & $ 15.9 ^{+ 2.9 }_{- 2.5 }$ &  0.01718  &  564 $\\pm$ 57  &  43.29 $\\pm$ 0.1 \\\\\n",
      "NGC5548  & $ 11.0 ^{+ 1.9 }_{- 2.0 }$ &  0.01718  &  297 $\\pm$ 51  &  43.01 $\\pm$ 0.11 \\\\\n",
      "NGC5548  & $ 13.0 ^{+ 1.6 }_{- 1.4 }$ &  0.01718  &  531 $\\pm$ 55  &  43.26 $\\pm$ 0.1 \\\\\n",
      "NGC5548  & $ 13.4 ^{+ 3.8 }_{- 4.3 }$ &  0.01718  &  601 $\\pm$ 60  &  43.32 $\\pm$ 0.1 \\\\\n",
      "NGC5548  & $ 21.7 ^{+ 2.6 }_{- 2.6 }$ &  0.01718  &  834 $\\pm$ 52  &  43.46 $\\pm$ 0.09 \\\\\n",
      "NGC5548  & $ 16.4 ^{+ 1.2 }_{- 1.1 }$ &  0.01718  &  681 $\\pm$ 59  &  43.37 $\\pm$ 0.09 \\\\\n",
      "NGC5548  & $ 17.5 ^{+ 2.0 }_{- 1.6 }$ &  0.01718  &  437 $\\pm$ 52  &  43.18 $\\pm$ 0.1 \\\\\n",
      "NGC5548  & $ 26.5 ^{+ 4.3 }_{- 2.2 }$ &  0.01718  &  972 $\\pm$ 69  &  43.52 $\\pm$ 0.09 \\\\\n",
      "NGC5548  & $ 24.8 ^{+ 3.2 }_{- 3.0 }$ &  0.01718  &  808 $\\pm$ 61  &  43.44 $\\pm$ 0.09 \\\\\n",
      "NGC5548  & $ 6.5 ^{+ 5.7 }_{- 3.7 }$ &  0.01718  &  323 $\\pm$ 52  &  43.05 $\\pm$ 0.11 \\\\\n",
      "NGC5548  & $ 14.3 ^{+ 5.9 }_{- 7.3 }$ &  0.01718  &  328 $\\pm$ 54  &  43.05 $\\pm$ 0.11 \\\\\n",
      "NGC5548  & $ 6.3 ^{+ 2.6 }_{- 2.3 }$ &  0.01718  &  229 $\\pm$ 54  &  42.9 $\\pm$ 0.13 \\\\\n",
      "NGC5548  & $ 4.18 ^{+ 0.86 }_{- 1.3 }$ &  0.01718  &  258 $\\pm$ 42  &  42.95 $\\pm$ 0.11 \\\\\n",
      "NGC5548  & $ 12.4 ^{+ 2.74 }_{- 3.85 }$ &  0.01718  &  249 $\\pm$ 49  &  42.93 $\\pm$ 0.12 \\\\\n",
      "PG1426+015  & $ 95.0 ^{+ 29.9 }_{- 37.1 }$ &  0.08647  &  349 $\\pm$ 14  &  44.57 $\\pm$ 0.02 \\\\\n",
      "Mrk817  & $ 19.0 ^{+ 3.9 }_{- 3.7 }$ &  0.03146  &  461 $\\pm$ 20  &  43.73 $\\pm$ 0.05 \\\\\n",
      "Mrk817  & $ 15.3 ^{+ 3.7 }_{- 3.5 }$ &  0.03146  &  351 $\\pm$ 15  &  43.61 $\\pm$ 0.05 \\\\\n",
      "Mrk817  & $ 33.6 ^{+ 6.5 }_{- 7.6 }$ &  0.03146  &  352 $\\pm$ 15  &  43.61 $\\pm$ 0.05 \\\\\n",
      "Mrk817  & $ 14.04 ^{+ 3.41 }_{- 3.47 }$ &  0.03146  &  517 $\\pm$ 14  &  43.78 $\\pm$ 0.05 \\\\\n",
      "Mrk290  & $ 8.72 ^{+ 1.21 }_{- 1.02 }$ &  0.02958  &  123 $\\pm$ 10  &  43.11 $\\pm$ 0.06 \\\\\n",
      "PG1613+658  & $ 40.1 ^{+ 15.0 }_{- 15.2 }$ &  0.129  &  203 $\\pm$ 11  &  44.71 $\\pm$ 0.03 \\\\\n",
      "PG1617+175  & $ 71.5 ^{+ 29.6 }_{- 33.7 }$ &  0.11244  &  110 $\\pm$ 3  &  44.33 $\\pm$ 0.02 \\\\\n",
      "PG1700+518  & $ 251.8 ^{+ 45.9 }_{- 38.8 }$ &  0.292  &  186 $\\pm$ 3  &  45.53 $\\pm$ 0.01 \\\\\n",
      "3C390.3  & $ 23.6 ^{+ 6.2 }_{- 6.7 }$ &  0.0561  &  91 $\\pm$ 20  &  43.62 $\\pm$ 0.1 \\\\\n",
      "3C390.3  & $ 46.4 ^{+ 3.6 }_{- 3.2 }$ &  0.0561  &  591 $\\pm$ 9  &  44.43 $\\pm$ 0.03 \\\\\n",
      "NGC6814  & $ 6.64 ^{+ 0.87 }_{- 0.9 }$ &  0.00521  &  234 $\\pm$ 38  &  42.05 $\\pm$ 0.29 \\\\\n",
      "Mrk509  & $ 79.6 ^{+ 6.1 }_{- 5.4 }$ &  0.0344  &  849 $\\pm$ 29  &  44.13 $\\pm$ 0.05 \\\\\n",
      "PG2130+099  & $ 9.6 ^{+ 1.2 }_{- 1.2 }$ &  0.06298  &  253 $\\pm$ 9  &  44.14 $\\pm$ 0.03 \\\\\n",
      "NGC7469  & $ 24.3 ^{+ 4.0 }_{- 4.0 }$ &  0.01632  &  1030 $\\pm$ 99  &  43.56 $\\pm$ 0.1 \\\\\n"
     ]
    }
   ],
   "source": [
    "#Print data in LaTeX format\n",
    "\n",
    "#141214.20+532546.7 & $36.7^{+10.4}_{-4.8}$ & 0.4581 & 3.998$\\pm$0.005 & 44.365 $\\pm$ 0.001\\\\\n",
    "\n",
    "#for i in range(len(dataS)):\n",
    "#    print name[i],\" & $\",tau[i]/(24*60*60.),\"^{+\",dtaup[i]/(24*60*60.),\"}_{-\",dtaum[i]/(24*60*60.),\"}$ & \", round(z[i],4),\" & \", round(F[i]*10**(10),3),\"$\\pm$\",round(dF[i]*10**(10),3),\" & \", round(L[i],3),\"$\\pm$\",round(dL[i],3),\"\\\\\\\\\" \n",
    "for i in dataB:\n",
    "    print name[i],\" & $\",tau[i]/(24*60*60.),\"^{+\",dtaup[i]/(24*60*60.),\"}_{-\",dtaum[i]/(24*60*60.),\"}$ & \", round(z[i],5),\" & \", int(round(F[i]*10**(10))),\"$\\pm$\",int(round(dF[i]*10**(10))),\" & \", round(L[i],3),\"$\\pm$\",round(dL[i],3),\"\\\\\\\\\"  "
   ]
  },
  {
   "cell_type": "code",
   "execution_count": null,
   "metadata": {
    "collapsed": true,
    "deletable": true,
    "editable": true
   },
   "outputs": [],
   "source": [
    "test=np.array([1,2,3])\n",
    "test=test.T\n",
    "print np.vstack(test)\n",
    "print np.vstack((test,test))\n",
    "print test[:2]\n",
    "print test\n",
    "print test -2"
   ]
  },
  {
   "cell_type": "code",
   "execution_count": 57,
   "metadata": {
    "collapsed": false,
    "deletable": true,
    "editable": true
   },
   "outputs": [
    {
     "name": "stdout",
     "output_type": "stream",
     "text": [
      "[ True  True False  True  True  True  True  True  True  True  True  True\n",
      "  True  True  True]\n",
      "[ 0.45809999  0.4418      0.58719999  0.26280001  0.2647      0.60369998\n",
      "  0.75099999  0.4738      0.53240001  0.5266      0.18709999  0.1725\n",
      "  0.4253      0.2439    ]\n"
     ]
    }
   ],
   "source": [
    "z_S=np.array(z_S)\n",
    "kage=i_data_used[:len(z_S)]\n",
    "print kage\n",
    "print z_S[kage]\n",
    "#print z_S[i_data_used[:len(z_S)]]"
   ]
  },
  {
   "cell_type": "code",
   "execution_count": 25,
   "metadata": {
    "collapsed": false,
    "deletable": true,
    "editable": true
   },
   "outputs": [
    {
     "name": "stdout",
     "output_type": "stream",
     "text": [
      "100.0\n"
     ]
    }
   ],
   "source": [
    "print round(145.578456,-2)"
   ]
  },
  {
   "cell_type": "code",
   "execution_count": 67,
   "metadata": {
    "collapsed": false,
    "deletable": true,
    "editable": true
   },
   "outputs": [
    {
     "name": "stdout",
     "output_type": "stream",
     "text": [
      "11.2002584048\n",
      "11.2002584126\n"
     ]
    }
   ],
   "source": [
    "test= -0.44411294 #logz\n",
    "print abs( np.log10(FlatLambdaCDM(H0=70, Om0=p0).luminosity_distance(10**test).value) + p1 )\n",
    "print logTauF[0]"
   ]
  },
  {
   "cell_type": "code",
   "execution_count": 106,
   "metadata": {
    "collapsed": false,
    "deletable": true,
    "editable": true
   },
   "outputs": [
    {
     "name": "stdout",
     "output_type": "stream",
     "text": [
      "[[1 2]\n",
      " [3 4]\n",
      " [5 6]]\n",
      "[[ 1  2]\n",
      " [ 6  8]\n",
      " [15 18]]\n",
      "[[ 1.45809999  1.45809999]\n",
      " [ 1.4418      1.4418    ]\n",
      " [ 1.46959999  1.46959999]\n",
      " [ 1.58719999  1.58719999]\n",
      " [ 1.26280001  1.26280001]\n",
      " [ 1.2647      1.2647    ]\n",
      " [ 1.60369998  1.60369998]\n",
      " [ 1.75099999  1.75099999]\n",
      " [ 1.4738      1.4738    ]\n",
      " [ 1.53240001  1.53240001]\n",
      " [ 1.5266      1.5266    ]\n",
      " [ 1.18709999  1.18709999]\n",
      " [ 1.1725      1.1725    ]\n",
      " [ 1.4253      1.4253    ]\n",
      " [ 1.2439      1.2439    ]]\n",
      "[ 0.45809999  0.4418      0.46959999  0.58719999  0.26280001  0.2647\n",
      "  0.60369998  0.75099999  0.4738      0.53240001  0.5266      0.18709999\n",
      "  0.1725      0.4253      0.2439    ]\n"
     ]
    }
   ],
   "source": [
    "test= np.array([[1, 2],[3, 4],[5, 6]])\n",
    "print test\n",
    "print test*np.array([[1,1], [2,2], [3,3]])\n",
    "print 1+np.array([z_S,z_S]).T"
   ]
  },
  {
   "cell_type": "code",
   "execution_count": 3,
   "metadata": {
    "collapsed": false,
    "deletable": true,
    "editable": true
   },
   "outputs": [
    {
     "name": "stdout",
     "output_type": "stream",
     "text": [
      "3\n"
     ]
    }
   ],
   "source": [
    "print int(3.8)"
   ]
  },
  {
   "cell_type": "code",
   "execution_count": null,
   "metadata": {
    "collapsed": true,
    "deletable": true,
    "editable": true
   },
   "outputs": [],
   "source": []
  }
 ],
 "metadata": {
  "kernelspec": {
   "display_name": "Python 2",
   "language": "python",
   "name": "python2"
  },
  "language_info": {
   "codemirror_mode": {
    "name": "ipython",
    "version": 2
   },
   "file_extension": ".py",
   "mimetype": "text/x-python",
   "name": "python",
   "nbconvert_exporter": "python",
   "pygments_lexer": "ipython2",
   "version": "2.7.12"
  }
 },
 "nbformat": 4,
 "nbformat_minor": 2
}
